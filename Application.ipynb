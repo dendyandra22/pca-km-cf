{
 "cells": [
  {
   "cell_type": "markdown",
   "metadata": {},
   "source": [
    "# Sistem Pemberi Rekomendasi Produk E-Commerce Menggunakan PCA dan K-Means Clustering"
   ]
  },
  {
   "cell_type": "code",
   "execution_count": 1,
   "metadata": {},
   "outputs": [],
   "source": [
    "# import libraries\n",
    "import pandas as pd\n",
    "import numpy as np\n",
    "from sklearn.decomposition import PCA\n",
    "from sklearn.model_selection import train_test_split\n",
    "import matplotlib.pyplot as plt\n",
    "import seaborn as sns\n",
    "import math\n",
    "from sklearn.metrics import pairwise_distances\n",
    "from sklearn.cluster import KMeans, AgglomerativeClustering\n",
    "from sklearn.metrics import silhouette_samples, silhouette_score, mean_squared_error, mean_absolute_error\n",
    "from sklearn.preprocessing import StandardScaler, MinMaxScaler\n",
    "from sklearn.model_selection import KFold\n",
    "import matplotlib.cm as cm\n",
    "pd.options.mode.chained_assignment = None  # default='warn'"
   ]
  },
  {
   "cell_type": "markdown",
   "metadata": {},
   "source": [
    "## Preprocessing"
   ]
  },
  {
   "cell_type": "markdown",
   "metadata": {},
   "source": [
    "### Load dataset sport"
   ]
  },
  {
   "cell_type": "code",
   "execution_count": 2,
   "metadata": {},
   "outputs": [
    {
     "data": {
      "text/plain": [
       "(15944, 3)"
      ]
     },
     "execution_count": 2,
     "metadata": {},
     "output_type": "execute_result"
    }
   ],
   "source": [
    "dfp = pd.read_csv('data/olist_sport_rating_dataset.csv')\n",
    "dfp.shape"
   ]
  },
  {
   "cell_type": "code",
   "execution_count": 3,
   "metadata": {},
   "outputs": [
    {
     "data": {
      "text/html": [
       "<div>\n",
       "<style scoped>\n",
       "    .dataframe tbody tr th:only-of-type {\n",
       "        vertical-align: middle;\n",
       "    }\n",
       "\n",
       "    .dataframe tbody tr th {\n",
       "        vertical-align: top;\n",
       "    }\n",
       "\n",
       "    .dataframe thead th {\n",
       "        text-align: right;\n",
       "    }\n",
       "</style>\n",
       "<table border=\"1\" class=\"dataframe\">\n",
       "  <thead>\n",
       "    <tr style=\"text-align: right;\">\n",
       "      <th></th>\n",
       "      <th>customer_unique_id</th>\n",
       "      <th>product_id</th>\n",
       "      <th>rating</th>\n",
       "    </tr>\n",
       "  </thead>\n",
       "  <tbody>\n",
       "    <tr>\n",
       "      <th>0</th>\n",
       "      <td>68a5590b9926689be4e10f4ae2db21a8</td>\n",
       "      <td>fd25ab760bfbba13c198fa3b4f1a0cd3</td>\n",
       "      <td>4</td>\n",
       "    </tr>\n",
       "    <tr>\n",
       "      <th>1</th>\n",
       "      <td>d16000272660a1fef81482ad75ba572a</td>\n",
       "      <td>3880d25d502b15b1de6fddc42ad1d67a</td>\n",
       "      <td>5</td>\n",
       "    </tr>\n",
       "    <tr>\n",
       "      <th>2</th>\n",
       "      <td>f51a647a551b866c440921b7f2b5683f</td>\n",
       "      <td>a76bb75d78ce6aa4a5202051b4f88a83</td>\n",
       "      <td>4</td>\n",
       "    </tr>\n",
       "    <tr>\n",
       "      <th>3</th>\n",
       "      <td>bd4174fe2e76f6818b913f6dac96b49a</td>\n",
       "      <td>ee92961b88199a0d4329a6beca8f63da</td>\n",
       "      <td>3</td>\n",
       "    </tr>\n",
       "    <tr>\n",
       "      <th>4</th>\n",
       "      <td>e72ed956534642d2d41d7b90dd18f378</td>\n",
       "      <td>adb1f1939b613f3078806b6afcca0e51</td>\n",
       "      <td>5</td>\n",
       "    </tr>\n",
       "  </tbody>\n",
       "</table>\n",
       "</div>"
      ],
      "text/plain": [
       "                 customer_unique_id                        product_id  rating\n",
       "0  68a5590b9926689be4e10f4ae2db21a8  fd25ab760bfbba13c198fa3b4f1a0cd3       4\n",
       "1  d16000272660a1fef81482ad75ba572a  3880d25d502b15b1de6fddc42ad1d67a       5\n",
       "2  f51a647a551b866c440921b7f2b5683f  a76bb75d78ce6aa4a5202051b4f88a83       4\n",
       "3  bd4174fe2e76f6818b913f6dac96b49a  ee92961b88199a0d4329a6beca8f63da       3\n",
       "4  e72ed956534642d2d41d7b90dd18f378  adb1f1939b613f3078806b6afcca0e51       5"
      ]
     },
     "execution_count": 3,
     "metadata": {},
     "output_type": "execute_result"
    }
   ],
   "source": [
    "dfp.head()"
   ]
  },
  {
   "cell_type": "code",
   "execution_count": 4,
   "metadata": {},
   "outputs": [],
   "source": [
    "df = pd.read_csv('data/olist_sport_user_dataset.csv')"
   ]
  },
  {
   "cell_type": "code",
   "execution_count": 5,
   "metadata": {
    "scrolled": true
   },
   "outputs": [
    {
     "data": {
      "text/html": [
       "<div>\n",
       "<style scoped>\n",
       "    .dataframe tbody tr th:only-of-type {\n",
       "        vertical-align: middle;\n",
       "    }\n",
       "\n",
       "    .dataframe tbody tr th {\n",
       "        vertical-align: top;\n",
       "    }\n",
       "\n",
       "    .dataframe thead th {\n",
       "        text-align: right;\n",
       "    }\n",
       "</style>\n",
       "<table border=\"1\" class=\"dataframe\">\n",
       "  <thead>\n",
       "    <tr style=\"text-align: right;\">\n",
       "      <th></th>\n",
       "      <th>customer_unique_id</th>\n",
       "      <th>payment_type</th>\n",
       "      <th>total_payment_installments</th>\n",
       "      <th>total_payment_value</th>\n",
       "      <th>geolocation_lat</th>\n",
       "      <th>geolocation_lng</th>\n",
       "      <th>total_payment_sequential</th>\n",
       "    </tr>\n",
       "  </thead>\n",
       "  <tbody>\n",
       "    <tr>\n",
       "      <th>0</th>\n",
       "      <td>00053a61a98854899e70ed204dd4bafe</td>\n",
       "      <td>credit_card</td>\n",
       "      <td>3.0</td>\n",
       "      <td>419.18</td>\n",
       "      <td>-25.4313</td>\n",
       "      <td>-49.2792</td>\n",
       "      <td>1.0</td>\n",
       "    </tr>\n",
       "    <tr>\n",
       "      <th>1</th>\n",
       "      <td>0005ef4cd20d2893f0d9fbd94d3c0d97</td>\n",
       "      <td>credit_card</td>\n",
       "      <td>4.0</td>\n",
       "      <td>129.76</td>\n",
       "      <td>-2.5453</td>\n",
       "      <td>-44.2350</td>\n",
       "      <td>1.0</td>\n",
       "    </tr>\n",
       "    <tr>\n",
       "      <th>2</th>\n",
       "      <td>00115fc7123b5310cf6d3a3aa932699e</td>\n",
       "      <td>credit_card</td>\n",
       "      <td>1.0</td>\n",
       "      <td>76.11</td>\n",
       "      <td>-15.8232</td>\n",
       "      <td>-47.9871</td>\n",
       "      <td>1.0</td>\n",
       "    </tr>\n",
       "    <tr>\n",
       "      <th>3</th>\n",
       "      <td>0019e8c501c85848ac0966d45226fa1d</td>\n",
       "      <td>credit_card</td>\n",
       "      <td>2.0</td>\n",
       "      <td>197.27</td>\n",
       "      <td>-15.6087</td>\n",
       "      <td>-56.0863</td>\n",
       "      <td>1.0</td>\n",
       "    </tr>\n",
       "    <tr>\n",
       "      <th>4</th>\n",
       "      <td>003c2067070f5b3d923235b1ea1cc17b</td>\n",
       "      <td>boleto</td>\n",
       "      <td>1.0</td>\n",
       "      <td>147.38</td>\n",
       "      <td>-6.5833</td>\n",
       "      <td>-40.1389</td>\n",
       "      <td>1.0</td>\n",
       "    </tr>\n",
       "  </tbody>\n",
       "</table>\n",
       "</div>"
      ],
      "text/plain": [
       "                 customer_unique_id payment_type  total_payment_installments  \\\n",
       "0  00053a61a98854899e70ed204dd4bafe  credit_card                         3.0   \n",
       "1  0005ef4cd20d2893f0d9fbd94d3c0d97  credit_card                         4.0   \n",
       "2  00115fc7123b5310cf6d3a3aa932699e  credit_card                         1.0   \n",
       "3  0019e8c501c85848ac0966d45226fa1d  credit_card                         2.0   \n",
       "4  003c2067070f5b3d923235b1ea1cc17b       boleto                         1.0   \n",
       "\n",
       "   total_payment_value  geolocation_lat  geolocation_lng  \\\n",
       "0               419.18         -25.4313         -49.2792   \n",
       "1               129.76          -2.5453         -44.2350   \n",
       "2                76.11         -15.8232         -47.9871   \n",
       "3               197.27         -15.6087         -56.0863   \n",
       "4               147.38          -6.5833         -40.1389   \n",
       "\n",
       "   total_payment_sequential  \n",
       "0                       1.0  \n",
       "1                       1.0  \n",
       "2                       1.0  \n",
       "3                       1.0  \n",
       "4                       1.0  "
      ]
     },
     "execution_count": 5,
     "metadata": {},
     "output_type": "execute_result"
    }
   ],
   "source": [
    "df.head()"
   ]
  },
  {
   "cell_type": "code",
   "execution_count": 6,
   "metadata": {},
   "outputs": [
    {
     "data": {
      "text/html": [
       "<div>\n",
       "<style scoped>\n",
       "    .dataframe tbody tr th:only-of-type {\n",
       "        vertical-align: middle;\n",
       "    }\n",
       "\n",
       "    .dataframe tbody tr th {\n",
       "        vertical-align: top;\n",
       "    }\n",
       "\n",
       "    .dataframe thead th {\n",
       "        text-align: right;\n",
       "    }\n",
       "</style>\n",
       "<table border=\"1\" class=\"dataframe\">\n",
       "  <thead>\n",
       "    <tr style=\"text-align: right;\">\n",
       "      <th></th>\n",
       "      <th>customer_unique_id</th>\n",
       "      <th>payment_type</th>\n",
       "      <th>total_payment_installments</th>\n",
       "      <th>total_payment_value</th>\n",
       "      <th>geolocation_lat</th>\n",
       "      <th>geolocation_lng</th>\n",
       "      <th>total_payment_sequential</th>\n",
       "    </tr>\n",
       "  </thead>\n",
       "  <tbody>\n",
       "    <tr>\n",
       "      <th>count</th>\n",
       "      <td>7422</td>\n",
       "      <td>7422</td>\n",
       "      <td>7422.000000</td>\n",
       "      <td>7422.000000</td>\n",
       "      <td>7422.000000</td>\n",
       "      <td>7422.000000</td>\n",
       "      <td>7422.000000</td>\n",
       "    </tr>\n",
       "    <tr>\n",
       "      <th>unique</th>\n",
       "      <td>7414</td>\n",
       "      <td>4</td>\n",
       "      <td>NaN</td>\n",
       "      <td>NaN</td>\n",
       "      <td>NaN</td>\n",
       "      <td>NaN</td>\n",
       "      <td>NaN</td>\n",
       "    </tr>\n",
       "    <tr>\n",
       "      <th>top</th>\n",
       "      <td>8e2c92b2442298bd653b0e9aadf4c313</td>\n",
       "      <td>credit_card</td>\n",
       "      <td>NaN</td>\n",
       "      <td>NaN</td>\n",
       "      <td>NaN</td>\n",
       "      <td>NaN</td>\n",
       "      <td>NaN</td>\n",
       "    </tr>\n",
       "    <tr>\n",
       "      <th>freq</th>\n",
       "      <td>2</td>\n",
       "      <td>5668</td>\n",
       "      <td>NaN</td>\n",
       "      <td>NaN</td>\n",
       "      <td>NaN</td>\n",
       "      <td>NaN</td>\n",
       "      <td>NaN</td>\n",
       "    </tr>\n",
       "    <tr>\n",
       "      <th>mean</th>\n",
       "      <td>NaN</td>\n",
       "      <td>NaN</td>\n",
       "      <td>2.477953</td>\n",
       "      <td>148.886874</td>\n",
       "      <td>-21.282984</td>\n",
       "      <td>-46.327820</td>\n",
       "      <td>1.021692</td>\n",
       "    </tr>\n",
       "    <tr>\n",
       "      <th>std</th>\n",
       "      <td>NaN</td>\n",
       "      <td>NaN</td>\n",
       "      <td>2.388320</td>\n",
       "      <td>187.418710</td>\n",
       "      <td>5.524935</td>\n",
       "      <td>4.037406</td>\n",
       "      <td>0.501380</td>\n",
       "    </tr>\n",
       "    <tr>\n",
       "      <th>min</th>\n",
       "      <td>NaN</td>\n",
       "      <td>NaN</td>\n",
       "      <td>1.000000</td>\n",
       "      <td>0.050000</td>\n",
       "      <td>-33.689900</td>\n",
       "      <td>-69.261400</td>\n",
       "      <td>1.000000</td>\n",
       "    </tr>\n",
       "    <tr>\n",
       "      <th>25%</th>\n",
       "      <td>NaN</td>\n",
       "      <td>NaN</td>\n",
       "      <td>1.000000</td>\n",
       "      <td>65.000000</td>\n",
       "      <td>-23.602700</td>\n",
       "      <td>-48.404400</td>\n",
       "      <td>1.000000</td>\n",
       "    </tr>\n",
       "    <tr>\n",
       "      <th>50%</th>\n",
       "      <td>NaN</td>\n",
       "      <td>NaN</td>\n",
       "      <td>1.000000</td>\n",
       "      <td>108.880000</td>\n",
       "      <td>-22.943400</td>\n",
       "      <td>-46.654200</td>\n",
       "      <td>1.000000</td>\n",
       "    </tr>\n",
       "    <tr>\n",
       "      <th>75%</th>\n",
       "      <td>NaN</td>\n",
       "      <td>NaN</td>\n",
       "      <td>3.000000</td>\n",
       "      <td>167.185000</td>\n",
       "      <td>-20.188100</td>\n",
       "      <td>-43.920650</td>\n",
       "      <td>1.000000</td>\n",
       "    </tr>\n",
       "    <tr>\n",
       "      <th>max</th>\n",
       "      <td>NaN</td>\n",
       "      <td>NaN</td>\n",
       "      <td>24.000000</td>\n",
       "      <td>4163.510000</td>\n",
       "      <td>3.362100</td>\n",
       "      <td>-34.827400</td>\n",
       "      <td>28.000000</td>\n",
       "    </tr>\n",
       "  </tbody>\n",
       "</table>\n",
       "</div>"
      ],
      "text/plain": [
       "                      customer_unique_id payment_type  \\\n",
       "count                               7422         7422   \n",
       "unique                              7414            4   \n",
       "top     8e2c92b2442298bd653b0e9aadf4c313  credit_card   \n",
       "freq                                   2         5668   \n",
       "mean                                 NaN          NaN   \n",
       "std                                  NaN          NaN   \n",
       "min                                  NaN          NaN   \n",
       "25%                                  NaN          NaN   \n",
       "50%                                  NaN          NaN   \n",
       "75%                                  NaN          NaN   \n",
       "max                                  NaN          NaN   \n",
       "\n",
       "        total_payment_installments  total_payment_value  geolocation_lat  \\\n",
       "count                  7422.000000          7422.000000      7422.000000   \n",
       "unique                         NaN                  NaN              NaN   \n",
       "top                            NaN                  NaN              NaN   \n",
       "freq                           NaN                  NaN              NaN   \n",
       "mean                      2.477953           148.886874       -21.282984   \n",
       "std                       2.388320           187.418710         5.524935   \n",
       "min                       1.000000             0.050000       -33.689900   \n",
       "25%                       1.000000            65.000000       -23.602700   \n",
       "50%                       1.000000           108.880000       -22.943400   \n",
       "75%                       3.000000           167.185000       -20.188100   \n",
       "max                      24.000000          4163.510000         3.362100   \n",
       "\n",
       "        geolocation_lng  total_payment_sequential  \n",
       "count       7422.000000               7422.000000  \n",
       "unique              NaN                       NaN  \n",
       "top                 NaN                       NaN  \n",
       "freq                NaN                       NaN  \n",
       "mean         -46.327820                  1.021692  \n",
       "std            4.037406                  0.501380  \n",
       "min          -69.261400                  1.000000  \n",
       "25%          -48.404400                  1.000000  \n",
       "50%          -46.654200                  1.000000  \n",
       "75%          -43.920650                  1.000000  \n",
       "max          -34.827400                 28.000000  "
      ]
     },
     "execution_count": 6,
     "metadata": {},
     "output_type": "execute_result"
    }
   ],
   "source": [
    "df.describe(include='all')"
   ]
  },
  {
   "cell_type": "markdown",
   "metadata": {},
   "source": [
    "### Define input data"
   ]
  },
  {
   "cell_type": "code",
   "execution_count": 7,
   "metadata": {},
   "outputs": [
    {
     "name": "stdout",
     "output_type": "stream",
     "text": [
      "Number of PCA component (recommended = 2):2\n",
      "Number of cluster (recommended = 4):4\n",
      "Number of Collaborative Filtering Neighbors (recommended = 30):30\n"
     ]
    }
   ],
   "source": [
    "selected_n_comp = int(input(\"Number of PCA component (recommended = 2):\"))\n",
    "selected_n_clus = int(input(\"Number of cluster (recommended = 4):\"))\n",
    "selected_n_neighbors = int(input(\"Number of Collaborative Filtering Neighbors (recommended = 30):\"))"
   ]
  },
  {
   "cell_type": "markdown",
   "metadata": {},
   "source": [
    "### Missing data treatment"
   ]
  },
  {
   "cell_type": "code",
   "execution_count": 8,
   "metadata": {
    "scrolled": true
   },
   "outputs": [
    {
     "data": {
      "text/html": [
       "<div>\n",
       "<style scoped>\n",
       "    .dataframe tbody tr th:only-of-type {\n",
       "        vertical-align: middle;\n",
       "    }\n",
       "\n",
       "    .dataframe tbody tr th {\n",
       "        vertical-align: top;\n",
       "    }\n",
       "\n",
       "    .dataframe thead th {\n",
       "        text-align: right;\n",
       "    }\n",
       "</style>\n",
       "<table border=\"1\" class=\"dataframe\">\n",
       "  <thead>\n",
       "    <tr style=\"text-align: right;\">\n",
       "      <th></th>\n",
       "      <th>total_payment_installments</th>\n",
       "      <th>total_payment_value</th>\n",
       "      <th>geolocation_lat</th>\n",
       "      <th>geolocation_lng</th>\n",
       "      <th>total_payment_sequential</th>\n",
       "    </tr>\n",
       "  </thead>\n",
       "  <tbody>\n",
       "    <tr>\n",
       "      <th>count</th>\n",
       "      <td>7422.000000</td>\n",
       "      <td>7422.000000</td>\n",
       "      <td>7422.000000</td>\n",
       "      <td>7422.000000</td>\n",
       "      <td>7422.000000</td>\n",
       "    </tr>\n",
       "    <tr>\n",
       "      <th>mean</th>\n",
       "      <td>2.477953</td>\n",
       "      <td>148.886874</td>\n",
       "      <td>-21.282984</td>\n",
       "      <td>-46.327820</td>\n",
       "      <td>1.021692</td>\n",
       "    </tr>\n",
       "    <tr>\n",
       "      <th>std</th>\n",
       "      <td>2.388320</td>\n",
       "      <td>187.418710</td>\n",
       "      <td>5.524935</td>\n",
       "      <td>4.037406</td>\n",
       "      <td>0.501380</td>\n",
       "    </tr>\n",
       "    <tr>\n",
       "      <th>min</th>\n",
       "      <td>1.000000</td>\n",
       "      <td>0.050000</td>\n",
       "      <td>-33.689900</td>\n",
       "      <td>-69.261400</td>\n",
       "      <td>1.000000</td>\n",
       "    </tr>\n",
       "    <tr>\n",
       "      <th>25%</th>\n",
       "      <td>1.000000</td>\n",
       "      <td>65.000000</td>\n",
       "      <td>-23.602700</td>\n",
       "      <td>-48.404400</td>\n",
       "      <td>1.000000</td>\n",
       "    </tr>\n",
       "    <tr>\n",
       "      <th>50%</th>\n",
       "      <td>1.000000</td>\n",
       "      <td>108.880000</td>\n",
       "      <td>-22.943400</td>\n",
       "      <td>-46.654200</td>\n",
       "      <td>1.000000</td>\n",
       "    </tr>\n",
       "    <tr>\n",
       "      <th>75%</th>\n",
       "      <td>3.000000</td>\n",
       "      <td>167.185000</td>\n",
       "      <td>-20.188100</td>\n",
       "      <td>-43.920650</td>\n",
       "      <td>1.000000</td>\n",
       "    </tr>\n",
       "    <tr>\n",
       "      <th>max</th>\n",
       "      <td>24.000000</td>\n",
       "      <td>4163.510000</td>\n",
       "      <td>3.362100</td>\n",
       "      <td>-34.827400</td>\n",
       "      <td>28.000000</td>\n",
       "    </tr>\n",
       "  </tbody>\n",
       "</table>\n",
       "</div>"
      ],
      "text/plain": [
       "       total_payment_installments  total_payment_value  geolocation_lat  \\\n",
       "count                 7422.000000          7422.000000      7422.000000   \n",
       "mean                     2.477953           148.886874       -21.282984   \n",
       "std                      2.388320           187.418710         5.524935   \n",
       "min                      1.000000             0.050000       -33.689900   \n",
       "25%                      1.000000            65.000000       -23.602700   \n",
       "50%                      1.000000           108.880000       -22.943400   \n",
       "75%                      3.000000           167.185000       -20.188100   \n",
       "max                     24.000000          4163.510000         3.362100   \n",
       "\n",
       "       geolocation_lng  total_payment_sequential  \n",
       "count      7422.000000               7422.000000  \n",
       "mean        -46.327820                  1.021692  \n",
       "std           4.037406                  0.501380  \n",
       "min         -69.261400                  1.000000  \n",
       "25%         -48.404400                  1.000000  \n",
       "50%         -46.654200                  1.000000  \n",
       "75%         -43.920650                  1.000000  \n",
       "max         -34.827400                 28.000000  "
      ]
     },
     "execution_count": 8,
     "metadata": {},
     "output_type": "execute_result"
    }
   ],
   "source": [
    "df.describe()"
   ]
  },
  {
   "cell_type": "code",
   "execution_count": 9,
   "metadata": {},
   "outputs": [],
   "source": [
    "# isi null value pada kolom total_payment_sequential dengan nilai median\n",
    "df['total_payment_sequential'].fillna(df['total_payment_sequential'].median(), inplace=True)\n",
    "\n",
    "# isi null value pada kolom total_payment_sequential dengan nilai rata-rata\n",
    "df['total_payment_installments'].fillna(df['total_payment_installments'].mean(), inplace=True)\n",
    "\n",
    "# isi null value pada kolom total_payment_value dengan nilai median\n",
    "df['total_payment_value'].fillna(df['total_payment_value'].median(), inplace=True)\n",
    "\n",
    "# isi null value pada kolom payment_type dengan nilai median\n",
    "df['payment_type'].fillna(df['payment_type'].mode().iloc[0], inplace=True)"
   ]
  },
  {
   "cell_type": "code",
   "execution_count": 10,
   "metadata": {},
   "outputs": [
    {
     "name": "stdout",
     "output_type": "stream",
     "text": [
      "<class 'pandas.core.frame.DataFrame'>\n",
      "RangeIndex: 7422 entries, 0 to 7421\n",
      "Data columns (total 7 columns):\n",
      " #   Column                      Non-Null Count  Dtype  \n",
      "---  ------                      --------------  -----  \n",
      " 0   customer_unique_id          7422 non-null   object \n",
      " 1   payment_type                7422 non-null   object \n",
      " 2   total_payment_installments  7422 non-null   float64\n",
      " 3   total_payment_value         7422 non-null   float64\n",
      " 4   geolocation_lat             7422 non-null   float64\n",
      " 5   geolocation_lng             7422 non-null   float64\n",
      " 6   total_payment_sequential    7422 non-null   float64\n",
      "dtypes: float64(5), object(2)\n",
      "memory usage: 406.0+ KB\n"
     ]
    }
   ],
   "source": [
    "df.info()"
   ]
  },
  {
   "cell_type": "markdown",
   "metadata": {},
   "source": [
    "### Outlier treatment"
   ]
  },
  {
   "cell_type": "code",
   "execution_count": 11,
   "metadata": {
    "scrolled": true
   },
   "outputs": [
    {
     "name": "stderr",
     "output_type": "stream",
     "text": [
      "E:\\Program Files\\Anaconda3\\envs\\base2\\lib\\site-packages\\seaborn\\distributions.py:2619: FutureWarning: `distplot` is a deprecated function and will be removed in a future version. Please adapt your code to use either `displot` (a figure-level function with similar flexibility) or `histplot` (an axes-level function for histograms).\n",
      "  warnings.warn(msg, FutureWarning)\n",
      "E:\\Program Files\\Anaconda3\\envs\\base2\\lib\\site-packages\\seaborn\\distributions.py:2619: FutureWarning: `distplot` is a deprecated function and will be removed in a future version. Please adapt your code to use either `displot` (a figure-level function with similar flexibility) or `histplot` (an axes-level function for histograms).\n",
      "  warnings.warn(msg, FutureWarning)\n",
      "E:\\Program Files\\Anaconda3\\envs\\base2\\lib\\site-packages\\seaborn\\distributions.py:2619: FutureWarning: `distplot` is a deprecated function and will be removed in a future version. Please adapt your code to use either `displot` (a figure-level function with similar flexibility) or `histplot` (an axes-level function for histograms).\n",
      "  warnings.warn(msg, FutureWarning)\n",
      "E:\\Program Files\\Anaconda3\\envs\\base2\\lib\\site-packages\\seaborn\\distributions.py:2619: FutureWarning: `distplot` is a deprecated function and will be removed in a future version. Please adapt your code to use either `displot` (a figure-level function with similar flexibility) or `histplot` (an axes-level function for histograms).\n",
      "  warnings.warn(msg, FutureWarning)\n",
      "E:\\Program Files\\Anaconda3\\envs\\base2\\lib\\site-packages\\seaborn\\distributions.py:2619: FutureWarning: `distplot` is a deprecated function and will be removed in a future version. Please adapt your code to use either `displot` (a figure-level function with similar flexibility) or `histplot` (an axes-level function for histograms).\n",
      "  warnings.warn(msg, FutureWarning)\n"
     ]
    },
    {
     "data": {
      "image/png": "[encoded data removed]",
      "text/plain": [
       "<Figure size 1080x720 with 6 Axes>"
      ]
     },
     "metadata": {
      "needs_background": "light"
     },
     "output_type": "display_data"
    }
   ],
   "source": [
    "f, ax = plt.subplots(2, 3, figsize=(15,10))\n",
    "vis1 = sns.distplot(df[\"total_payment_sequential\"], bins=10, ax=ax[0][0])\n",
    "vis2 = sns.distplot(df[\"total_payment_installments\"],bins=5, ax= ax[0][1])\n",
    "vis3 = sns.distplot(df[\"total_payment_value\"],bins=10, ax=ax[0][2])\n",
    "vis4 = sns.distplot(df[\"geolocation_lat\"],bins=10, ax=ax[1][0])\n",
    "vis5 = sns.distplot(df[\"geolocation_lng\"],bins=10, ax=ax[1][1])"
   ]
  },
  {
   "cell_type": "markdown",
   "metadata": {},
   "source": [
    "#### Eliminasi outlier dengan Interquartil Range (IQR)"
   ]
  },
  {
   "cell_type": "code",
   "execution_count": 12,
   "metadata": {},
   "outputs": [
    {
     "data": {
      "text/plain": [
       "(7422, 7)"
      ]
     },
     "execution_count": 12,
     "metadata": {},
     "output_type": "execute_result"
    }
   ],
   "source": [
    "df.shape"
   ]
  },
  {
   "cell_type": "code",
   "execution_count": 13,
   "metadata": {},
   "outputs": [
    {
     "name": "stdout",
     "output_type": "stream",
     "text": [
      "total_payment_installments      2.00000\n",
      "total_payment_value           102.18500\n",
      "geolocation_lat                 3.41460\n",
      "geolocation_lng                 4.48375\n",
      "total_payment_sequential        0.00000\n",
      "dtype: float64\n"
     ]
    },
    {
     "name": "stderr",
     "output_type": "stream",
     "text": [
      "C:\\Users\\Dendy\\AppData\\Roaming\\Python\\Python37\\site-packages\\ipykernel_launcher.py:7: FutureWarning: Automatic reindexing on DataFrame vs Series comparisons is deprecated and will raise ValueError in a future version.  Do `left, right = left.align(right, axis=1, copy=False)` before e.g. `left == right`\n",
      "  import sys\n"
     ]
    }
   ],
   "source": [
    "# menghitung jumlah row yg dianggap outlier\n",
    "q1 = df.quantile(0.25)\n",
    "q3 = df.quantile(0.75)\n",
    "IQR = q3 - q1\n",
    "print(IQR)\n",
    "\n",
    "mask = (df < (q1 - 1.5 * IQR)) | (df > (q3 + 1.5 * IQR))\n",
    "dfout = df.copy()\n",
    "dfout[mask] = np.nan"
   ]
  },
  {
   "cell_type": "code",
   "execution_count": 14,
   "metadata": {},
   "outputs": [
    {
     "data": {
      "text/plain": [
       "customer_unique_id               0\n",
       "payment_type                     0\n",
       "total_payment_installments     596\n",
       "total_payment_value            467\n",
       "geolocation_lat               1173\n",
       "geolocation_lng                308\n",
       "total_payment_sequential        42\n",
       "dtype: int64"
      ]
     },
     "execution_count": 14,
     "metadata": {},
     "output_type": "execute_result"
    }
   ],
   "source": [
    "dfout.isna().sum()"
   ]
  },
  {
   "cell_type": "code",
   "execution_count": 15,
   "metadata": {},
   "outputs": [
    {
     "name": "stderr",
     "output_type": "stream",
     "text": [
      "C:\\Users\\Dendy\\AppData\\Roaming\\Python\\Python37\\site-packages\\ipykernel_launcher.py:1: FutureWarning: Automatic reindexing on DataFrame vs Series comparisons is deprecated and will raise ValueError in a future version.  Do `left, right = left.align(right, axis=1, copy=False)` before e.g. `left == right`\n",
      "  \"\"\"Entry point for launching an IPython kernel.\n"
     ]
    }
   ],
   "source": [
    "cleandf = df[~((df < (q1 - 1.5 * IQR)) |(df > (q3 + 1.5 * IQR))).any(axis=1)]\n",
    "# cleandf.shape"
   ]
  },
  {
   "cell_type": "code",
   "execution_count": 16,
   "metadata": {},
   "outputs": [
    {
     "data": {
      "text/html": [
       "<div>\n",
       "<style scoped>\n",
       "    .dataframe tbody tr th:only-of-type {\n",
       "        vertical-align: middle;\n",
       "    }\n",
       "\n",
       "    .dataframe tbody tr th {\n",
       "        vertical-align: top;\n",
       "    }\n",
       "\n",
       "    .dataframe thead th {\n",
       "        text-align: right;\n",
       "    }\n",
       "</style>\n",
       "<table border=\"1\" class=\"dataframe\">\n",
       "  <thead>\n",
       "    <tr style=\"text-align: right;\">\n",
       "      <th></th>\n",
       "      <th>total_payment_installments</th>\n",
       "      <th>total_payment_value</th>\n",
       "      <th>geolocation_lat</th>\n",
       "      <th>geolocation_lng</th>\n",
       "      <th>total_payment_sequential</th>\n",
       "    </tr>\n",
       "  </thead>\n",
       "  <tbody>\n",
       "    <tr>\n",
       "      <th>count</th>\n",
       "      <td>5476.000000</td>\n",
       "      <td>5476.000000</td>\n",
       "      <td>5476.000000</td>\n",
       "      <td>5476.000000</td>\n",
       "      <td>5476.0</td>\n",
       "    </tr>\n",
       "    <tr>\n",
       "      <th>mean</th>\n",
       "      <td>1.807408</td>\n",
       "      <td>109.390414</td>\n",
       "      <td>-22.541442</td>\n",
       "      <td>-46.565584</td>\n",
       "      <td>1.0</td>\n",
       "    </tr>\n",
       "    <tr>\n",
       "      <th>std</th>\n",
       "      <td>1.280788</td>\n",
       "      <td>65.830227</td>\n",
       "      <td>2.422928</td>\n",
       "      <td>2.735688</td>\n",
       "      <td>0.0</td>\n",
       "    </tr>\n",
       "    <tr>\n",
       "      <th>min</th>\n",
       "      <td>1.000000</td>\n",
       "      <td>0.050000</td>\n",
       "      <td>-28.717400</td>\n",
       "      <td>-54.963200</td>\n",
       "      <td>1.0</td>\n",
       "    </tr>\n",
       "    <tr>\n",
       "      <th>25%</th>\n",
       "      <td>1.000000</td>\n",
       "      <td>58.280000</td>\n",
       "      <td>-23.597800</td>\n",
       "      <td>-47.890200</td>\n",
       "      <td>1.0</td>\n",
       "    </tr>\n",
       "    <tr>\n",
       "      <th>50%</th>\n",
       "      <td>1.000000</td>\n",
       "      <td>93.020000</td>\n",
       "      <td>-23.048300</td>\n",
       "      <td>-46.659250</td>\n",
       "      <td>1.0</td>\n",
       "    </tr>\n",
       "    <tr>\n",
       "      <th>75%</th>\n",
       "      <td>2.000000</td>\n",
       "      <td>144.025000</td>\n",
       "      <td>-21.672950</td>\n",
       "      <td>-44.249675</td>\n",
       "      <td>1.0</td>\n",
       "    </tr>\n",
       "    <tr>\n",
       "      <th>max</th>\n",
       "      <td>6.000000</td>\n",
       "      <td>320.230000</td>\n",
       "      <td>-15.152600</td>\n",
       "      <td>-39.041600</td>\n",
       "      <td>1.0</td>\n",
       "    </tr>\n",
       "  </tbody>\n",
       "</table>\n",
       "</div>"
      ],
      "text/plain": [
       "       total_payment_installments  total_payment_value  geolocation_lat  \\\n",
       "count                 5476.000000          5476.000000      5476.000000   \n",
       "mean                     1.807408           109.390414       -22.541442   \n",
       "std                      1.280788            65.830227         2.422928   \n",
       "min                      1.000000             0.050000       -28.717400   \n",
       "25%                      1.000000            58.280000       -23.597800   \n",
       "50%                      1.000000            93.020000       -23.048300   \n",
       "75%                      2.000000           144.025000       -21.672950   \n",
       "max                      6.000000           320.230000       -15.152600   \n",
       "\n",
       "       geolocation_lng  total_payment_sequential  \n",
       "count      5476.000000                    5476.0  \n",
       "mean        -46.565584                       1.0  \n",
       "std           2.735688                       0.0  \n",
       "min         -54.963200                       1.0  \n",
       "25%         -47.890200                       1.0  \n",
       "50%         -46.659250                       1.0  \n",
       "75%         -44.249675                       1.0  \n",
       "max         -39.041600                       1.0  "
      ]
     },
     "execution_count": 16,
     "metadata": {},
     "output_type": "execute_result"
    }
   ],
   "source": [
    "cleandf.describe()"
   ]
  },
  {
   "cell_type": "markdown",
   "metadata": {},
   "source": [
    "### Encoding data\n",
    "Convert categorical data into numerical data"
   ]
  },
  {
   "cell_type": "code",
   "execution_count": 17,
   "metadata": {},
   "outputs": [],
   "source": [
    "# encode kolom verify dengan nilai True = 1 dan False = 0\n",
    "df_enc = pd.get_dummies(cleandf, columns=[\"payment_type\"])\n",
    "# df_enc.head()"
   ]
  },
  {
   "cell_type": "code",
   "execution_count": 18,
   "metadata": {},
   "outputs": [
    {
     "data": {
      "text/html": [
       "<div>\n",
       "<style scoped>\n",
       "    .dataframe tbody tr th:only-of-type {\n",
       "        vertical-align: middle;\n",
       "    }\n",
       "\n",
       "    .dataframe tbody tr th {\n",
       "        vertical-align: top;\n",
       "    }\n",
       "\n",
       "    .dataframe thead th {\n",
       "        text-align: right;\n",
       "    }\n",
       "</style>\n",
       "<table border=\"1\" class=\"dataframe\">\n",
       "  <thead>\n",
       "    <tr style=\"text-align: right;\">\n",
       "      <th></th>\n",
       "      <th>customer_unique_id</th>\n",
       "      <th>total_payment_installments</th>\n",
       "      <th>total_payment_value</th>\n",
       "      <th>geolocation_lat</th>\n",
       "      <th>geolocation_lng</th>\n",
       "      <th>total_payment_sequential</th>\n",
       "      <th>payment_type_boleto</th>\n",
       "      <th>payment_type_credit_card</th>\n",
       "      <th>payment_type_debit_card</th>\n",
       "      <th>payment_type_voucher</th>\n",
       "    </tr>\n",
       "  </thead>\n",
       "  <tbody>\n",
       "    <tr>\n",
       "      <th>count</th>\n",
       "      <td>5476</td>\n",
       "      <td>5476.000000</td>\n",
       "      <td>5476.000000</td>\n",
       "      <td>5476.000000</td>\n",
       "      <td>5476.000000</td>\n",
       "      <td>5476.0</td>\n",
       "      <td>5476.000000</td>\n",
       "      <td>5476.000000</td>\n",
       "      <td>5476.000000</td>\n",
       "      <td>5476.000000</td>\n",
       "    </tr>\n",
       "    <tr>\n",
       "      <th>unique</th>\n",
       "      <td>5470</td>\n",
       "      <td>NaN</td>\n",
       "      <td>NaN</td>\n",
       "      <td>NaN</td>\n",
       "      <td>NaN</td>\n",
       "      <td>NaN</td>\n",
       "      <td>NaN</td>\n",
       "      <td>NaN</td>\n",
       "      <td>NaN</td>\n",
       "      <td>NaN</td>\n",
       "    </tr>\n",
       "    <tr>\n",
       "      <th>top</th>\n",
       "      <td>182053495bc94c2f41090ce8c41be266</td>\n",
       "      <td>NaN</td>\n",
       "      <td>NaN</td>\n",
       "      <td>NaN</td>\n",
       "      <td>NaN</td>\n",
       "      <td>NaN</td>\n",
       "      <td>NaN</td>\n",
       "      <td>NaN</td>\n",
       "      <td>NaN</td>\n",
       "      <td>NaN</td>\n",
       "    </tr>\n",
       "    <tr>\n",
       "      <th>freq</th>\n",
       "      <td>2</td>\n",
       "      <td>NaN</td>\n",
       "      <td>NaN</td>\n",
       "      <td>NaN</td>\n",
       "      <td>NaN</td>\n",
       "      <td>NaN</td>\n",
       "      <td>NaN</td>\n",
       "      <td>NaN</td>\n",
       "      <td>NaN</td>\n",
       "      <td>NaN</td>\n",
       "    </tr>\n",
       "    <tr>\n",
       "      <th>mean</th>\n",
       "      <td>NaN</td>\n",
       "      <td>1.807408</td>\n",
       "      <td>109.390414</td>\n",
       "      <td>-22.541442</td>\n",
       "      <td>-46.565584</td>\n",
       "      <td>1.0</td>\n",
       "      <td>0.225164</td>\n",
       "      <td>0.745982</td>\n",
       "      <td>0.016253</td>\n",
       "      <td>0.012600</td>\n",
       "    </tr>\n",
       "    <tr>\n",
       "      <th>std</th>\n",
       "      <td>NaN</td>\n",
       "      <td>1.280788</td>\n",
       "      <td>65.830227</td>\n",
       "      <td>2.422928</td>\n",
       "      <td>2.735688</td>\n",
       "      <td>0.0</td>\n",
       "      <td>0.417729</td>\n",
       "      <td>0.435347</td>\n",
       "      <td>0.126458</td>\n",
       "      <td>0.111552</td>\n",
       "    </tr>\n",
       "    <tr>\n",
       "      <th>min</th>\n",
       "      <td>NaN</td>\n",
       "      <td>1.000000</td>\n",
       "      <td>0.050000</td>\n",
       "      <td>-28.717400</td>\n",
       "      <td>-54.963200</td>\n",
       "      <td>1.0</td>\n",
       "      <td>0.000000</td>\n",
       "      <td>0.000000</td>\n",
       "      <td>0.000000</td>\n",
       "      <td>0.000000</td>\n",
       "    </tr>\n",
       "    <tr>\n",
       "      <th>25%</th>\n",
       "      <td>NaN</td>\n",
       "      <td>1.000000</td>\n",
       "      <td>58.280000</td>\n",
       "      <td>-23.597800</td>\n",
       "      <td>-47.890200</td>\n",
       "      <td>1.0</td>\n",
       "      <td>0.000000</td>\n",
       "      <td>0.000000</td>\n",
       "      <td>0.000000</td>\n",
       "      <td>0.000000</td>\n",
       "    </tr>\n",
       "    <tr>\n",
       "      <th>50%</th>\n",
       "      <td>NaN</td>\n",
       "      <td>1.000000</td>\n",
       "      <td>93.020000</td>\n",
       "      <td>-23.048300</td>\n",
       "      <td>-46.659250</td>\n",
       "      <td>1.0</td>\n",
       "      <td>0.000000</td>\n",
       "      <td>1.000000</td>\n",
       "      <td>0.000000</td>\n",
       "      <td>0.000000</td>\n",
       "    </tr>\n",
       "    <tr>\n",
       "      <th>75%</th>\n",
       "      <td>NaN</td>\n",
       "      <td>2.000000</td>\n",
       "      <td>144.025000</td>\n",
       "      <td>-21.672950</td>\n",
       "      <td>-44.249675</td>\n",
       "      <td>1.0</td>\n",
       "      <td>0.000000</td>\n",
       "      <td>1.000000</td>\n",
       "      <td>0.000000</td>\n",
       "      <td>0.000000</td>\n",
       "    </tr>\n",
       "    <tr>\n",
       "      <th>max</th>\n",
       "      <td>NaN</td>\n",
       "      <td>6.000000</td>\n",
       "      <td>320.230000</td>\n",
       "      <td>-15.152600</td>\n",
       "      <td>-39.041600</td>\n",
       "      <td>1.0</td>\n",
       "      <td>1.000000</td>\n",
       "      <td>1.000000</td>\n",
       "      <td>1.000000</td>\n",
       "      <td>1.000000</td>\n",
       "    </tr>\n",
       "  </tbody>\n",
       "</table>\n",
       "</div>"
      ],
      "text/plain": [
       "                      customer_unique_id  total_payment_installments  \\\n",
       "count                               5476                 5476.000000   \n",
       "unique                              5470                         NaN   \n",
       "top     182053495bc94c2f41090ce8c41be266                         NaN   \n",
       "freq                                   2                         NaN   \n",
       "mean                                 NaN                    1.807408   \n",
       "std                                  NaN                    1.280788   \n",
       "min                                  NaN                    1.000000   \n",
       "25%                                  NaN                    1.000000   \n",
       "50%                                  NaN                    1.000000   \n",
       "75%                                  NaN                    2.000000   \n",
       "max                                  NaN                    6.000000   \n",
       "\n",
       "        total_payment_value  geolocation_lat  geolocation_lng  \\\n",
       "count           5476.000000      5476.000000      5476.000000   \n",
       "unique                  NaN              NaN              NaN   \n",
       "top                     NaN              NaN              NaN   \n",
       "freq                    NaN              NaN              NaN   \n",
       "mean             109.390414       -22.541442       -46.565584   \n",
       "std               65.830227         2.422928         2.735688   \n",
       "min                0.050000       -28.717400       -54.963200   \n",
       "25%               58.280000       -23.597800       -47.890200   \n",
       "50%               93.020000       -23.048300       -46.659250   \n",
       "75%              144.025000       -21.672950       -44.249675   \n",
       "max              320.230000       -15.152600       -39.041600   \n",
       "\n",
       "        total_payment_sequential  payment_type_boleto  \\\n",
       "count                     5476.0          5476.000000   \n",
       "unique                       NaN                  NaN   \n",
       "top                          NaN                  NaN   \n",
       "freq                         NaN                  NaN   \n",
       "mean                         1.0             0.225164   \n",
       "std                          0.0             0.417729   \n",
       "min                          1.0             0.000000   \n",
       "25%                          1.0             0.000000   \n",
       "50%                          1.0             0.000000   \n",
       "75%                          1.0             0.000000   \n",
       "max                          1.0             1.000000   \n",
       "\n",
       "        payment_type_credit_card  payment_type_debit_card  \\\n",
       "count                5476.000000              5476.000000   \n",
       "unique                       NaN                      NaN   \n",
       "top                          NaN                      NaN   \n",
       "freq                         NaN                      NaN   \n",
       "mean                    0.745982                 0.016253   \n",
       "std                     0.435347                 0.126458   \n",
       "min                     0.000000                 0.000000   \n",
       "25%                     0.000000                 0.000000   \n",
       "50%                     1.000000                 0.000000   \n",
       "75%                     1.000000                 0.000000   \n",
       "max                     1.000000                 1.000000   \n",
       "\n",
       "        payment_type_voucher  \n",
       "count            5476.000000  \n",
       "unique                   NaN  \n",
       "top                      NaN  \n",
       "freq                     NaN  \n",
       "mean                0.012600  \n",
       "std                 0.111552  \n",
       "min                 0.000000  \n",
       "25%                 0.000000  \n",
       "50%                 0.000000  \n",
       "75%                 0.000000  \n",
       "max                 1.000000  "
      ]
     },
     "execution_count": 18,
     "metadata": {},
     "output_type": "execute_result"
    }
   ],
   "source": [
    "df_enc.describe(include='all')"
   ]
  },
  {
   "cell_type": "markdown",
   "metadata": {},
   "source": [
    "### Aggregate data"
   ]
  },
  {
   "cell_type": "code",
   "execution_count": 19,
   "metadata": {},
   "outputs": [
    {
     "data": {
      "text/plain": [
       "(5470, 10)"
      ]
     },
     "execution_count": 19,
     "metadata": {},
     "output_type": "execute_result"
    }
   ],
   "source": [
    "# menyederhanakan df_sample_tmp\n",
    "df_sample = pd.DataFrame()\n",
    "df_sample['total_payment_installments'] = df_enc.groupby(['customer_unique_id'])['total_payment_installments'].mean()\n",
    "df_sample['total_payment_value'] = df_enc.groupby(['customer_unique_id'])['total_payment_value'].mean()\n",
    "df_sample['geolocation_lat'] = df_enc.groupby(['customer_unique_id'])['geolocation_lat'].mean()\n",
    "df_sample['geolocation_lng'] = df_enc.groupby(['customer_unique_id'])['geolocation_lng'].mean()\n",
    "df_sample['total_payment_sequential'] = df_enc.groupby(['customer_unique_id'])['total_payment_sequential'].mean()\n",
    "df_sample['payment_type_boleto'] = df_enc.groupby(['customer_unique_id'])['payment_type_boleto'].sum()\n",
    "df_sample['payment_type_credit_card'] = df_enc.groupby(['customer_unique_id'])['payment_type_credit_card'].sum()\n",
    "df_sample['payment_type_debit_card'] = df_enc.groupby(['customer_unique_id'])['payment_type_debit_card'].sum()\n",
    "df_sample['payment_type_voucher'] = df_enc.groupby(['customer_unique_id'])['payment_type_voucher'].sum()\n",
    "df_sample.reset_index(drop=False, inplace=True)\n",
    "df_sample.shape"
   ]
  },
  {
   "cell_type": "code",
   "execution_count": 20,
   "metadata": {},
   "outputs": [],
   "source": [
    "# menentukan X dan y dataset\n",
    "X = df_sample.copy()\n",
    "X.drop(['customer_unique_id'], inplace=True, axis=1)\n",
    "\n",
    "# y untuk statified splitting data\n",
    "y = df_sample.loc[:, [\"customer_unique_id\"]]\n"
   ]
  },
  {
   "cell_type": "code",
   "execution_count": 21,
   "metadata": {},
   "outputs": [
    {
     "data": {
      "text/html": [
       "<div>\n",
       "<style scoped>\n",
       "    .dataframe tbody tr th:only-of-type {\n",
       "        vertical-align: middle;\n",
       "    }\n",
       "\n",
       "    .dataframe tbody tr th {\n",
       "        vertical-align: top;\n",
       "    }\n",
       "\n",
       "    .dataframe thead th {\n",
       "        text-align: right;\n",
       "    }\n",
       "</style>\n",
       "<table border=\"1\" class=\"dataframe\">\n",
       "  <thead>\n",
       "    <tr style=\"text-align: right;\">\n",
       "      <th></th>\n",
       "      <th>total_payment_installments</th>\n",
       "      <th>total_payment_value</th>\n",
       "      <th>geolocation_lat</th>\n",
       "      <th>geolocation_lng</th>\n",
       "      <th>total_payment_sequential</th>\n",
       "      <th>payment_type_boleto</th>\n",
       "      <th>payment_type_credit_card</th>\n",
       "      <th>payment_type_debit_card</th>\n",
       "      <th>payment_type_voucher</th>\n",
       "    </tr>\n",
       "  </thead>\n",
       "  <tbody>\n",
       "    <tr>\n",
       "      <th>0</th>\n",
       "      <td>1.0</td>\n",
       "      <td>76.11</td>\n",
       "      <td>-15.8232</td>\n",
       "      <td>-47.9871</td>\n",
       "      <td>1.0</td>\n",
       "      <td>0</td>\n",
       "      <td>1</td>\n",
       "      <td>0</td>\n",
       "      <td>0</td>\n",
       "    </tr>\n",
       "    <tr>\n",
       "      <th>1</th>\n",
       "      <td>1.0</td>\n",
       "      <td>103.47</td>\n",
       "      <td>-22.2848</td>\n",
       "      <td>-42.5317</td>\n",
       "      <td>1.0</td>\n",
       "      <td>1</td>\n",
       "      <td>0</td>\n",
       "      <td>0</td>\n",
       "      <td>0</td>\n",
       "    </tr>\n",
       "    <tr>\n",
       "      <th>2</th>\n",
       "      <td>1.0</td>\n",
       "      <td>158.74</td>\n",
       "      <td>-23.6295</td>\n",
       "      <td>-46.5241</td>\n",
       "      <td>1.0</td>\n",
       "      <td>1</td>\n",
       "      <td>0</td>\n",
       "      <td>0</td>\n",
       "      <td>0</td>\n",
       "    </tr>\n",
       "    <tr>\n",
       "      <th>3</th>\n",
       "      <td>1.0</td>\n",
       "      <td>94.35</td>\n",
       "      <td>-23.5364</td>\n",
       "      <td>-46.7960</td>\n",
       "      <td>1.0</td>\n",
       "      <td>1</td>\n",
       "      <td>0</td>\n",
       "      <td>0</td>\n",
       "      <td>0</td>\n",
       "    </tr>\n",
       "    <tr>\n",
       "      <th>4</th>\n",
       "      <td>1.0</td>\n",
       "      <td>123.39</td>\n",
       "      <td>-19.8629</td>\n",
       "      <td>-43.8607</td>\n",
       "      <td>1.0</td>\n",
       "      <td>1</td>\n",
       "      <td>0</td>\n",
       "      <td>0</td>\n",
       "      <td>0</td>\n",
       "    </tr>\n",
       "  </tbody>\n",
       "</table>\n",
       "</div>"
      ],
      "text/plain": [
       "   total_payment_installments  total_payment_value  geolocation_lat  \\\n",
       "0                         1.0                76.11         -15.8232   \n",
       "1                         1.0               103.47         -22.2848   \n",
       "2                         1.0               158.74         -23.6295   \n",
       "3                         1.0                94.35         -23.5364   \n",
       "4                         1.0               123.39         -19.8629   \n",
       "\n",
       "   geolocation_lng  total_payment_sequential  payment_type_boleto  \\\n",
       "0         -47.9871                       1.0                    0   \n",
       "1         -42.5317                       1.0                    1   \n",
       "2         -46.5241                       1.0                    1   \n",
       "3         -46.7960                       1.0                    1   \n",
       "4         -43.8607                       1.0                    1   \n",
       "\n",
       "   payment_type_credit_card  payment_type_debit_card  payment_type_voucher  \n",
       "0                         1                        0                     0  \n",
       "1                         0                        0                     0  \n",
       "2                         0                        0                     0  \n",
       "3                         0                        0                     0  \n",
       "4                         0                        0                     0  "
      ]
     },
     "execution_count": 21,
     "metadata": {},
     "output_type": "execute_result"
    }
   ],
   "source": [
    "X.head()"
   ]
  },
  {
   "cell_type": "markdown",
   "metadata": {},
   "source": [
    "### K-Fold Cross Validation"
   ]
  },
  {
   "cell_type": "code",
   "execution_count": 22,
   "metadata": {},
   "outputs": [],
   "source": [
    "kf = KFold(n_splits=5, random_state=3, shuffle=True)"
   ]
  },
  {
   "cell_type": "code",
   "execution_count": 23,
   "metadata": {},
   "outputs": [],
   "source": [
    "X_train, X_test, y_train, y_test = train_test_split(X, y, test_size=0.2, random_state=1)\n",
    "X_train.reset_index(drop=True, inplace=True)\n",
    "X_test.reset_index(drop=True, inplace=True)\n",
    "y_train.reset_index(drop=True, inplace=True)\n",
    "y_test.reset_index(drop=True, inplace=True)"
   ]
  },
  {
   "cell_type": "code",
   "execution_count": 24,
   "metadata": {},
   "outputs": [
    {
     "name": "stdout",
     "output_type": "stream",
     "text": [
      "(4376, 9)\n",
      "(1094, 9)\n"
     ]
    }
   ],
   "source": [
    "print(X_train.shape)\n",
    "print(X_test.shape)"
   ]
  },
  {
   "cell_type": "markdown",
   "metadata": {},
   "source": [
    "#### Standardize data"
   ]
  },
  {
   "cell_type": "code",
   "execution_count": 25,
   "metadata": {},
   "outputs": [],
   "source": [
    "sc = StandardScaler()\n",
    "X_train[['total_payment_installments', 'total_payment_value','geolocation_lat', 'geolocation_lng']] = sc.fit_transform(X_train[['total_payment_installments', 'total_payment_value','geolocation_lat', 'geolocation_lng']])\n",
    "X_test[['total_payment_installments', 'total_payment_value','geolocation_lat', 'geolocation_lng']] = sc.fit_transform(X_test[['total_payment_installments', 'total_payment_value','geolocation_lat', 'geolocation_lng']])\n",
    "\n",
    "# X_train[X_train.iloc[:, 1:]] = sc.fit_transform(X_train.iloc[:, 1:])\n",
    "# X_test[X_test.iloc[:, 1:]] = sc.fit_transform(X_test.iloc[:, 1:])\n"
   ]
  },
  {
   "cell_type": "code",
   "execution_count": 26,
   "metadata": {},
   "outputs": [
    {
     "data": {
      "text/html": [
       "<div>\n",
       "<style scoped>\n",
       "    .dataframe tbody tr th:only-of-type {\n",
       "        vertical-align: middle;\n",
       "    }\n",
       "\n",
       "    .dataframe tbody tr th {\n",
       "        vertical-align: top;\n",
       "    }\n",
       "\n",
       "    .dataframe thead th {\n",
       "        text-align: right;\n",
       "    }\n",
       "</style>\n",
       "<table border=\"1\" class=\"dataframe\">\n",
       "  <thead>\n",
       "    <tr style=\"text-align: right;\">\n",
       "      <th></th>\n",
       "      <th>total_payment_installments</th>\n",
       "      <th>total_payment_value</th>\n",
       "      <th>geolocation_lat</th>\n",
       "      <th>geolocation_lng</th>\n",
       "      <th>total_payment_sequential</th>\n",
       "      <th>payment_type_boleto</th>\n",
       "      <th>payment_type_credit_card</th>\n",
       "      <th>payment_type_debit_card</th>\n",
       "      <th>payment_type_voucher</th>\n",
       "    </tr>\n",
       "  </thead>\n",
       "  <tbody>\n",
       "    <tr>\n",
       "      <th>0</th>\n",
       "      <td>-0.634538</td>\n",
       "      <td>-1.166150</td>\n",
       "      <td>-0.449417</td>\n",
       "      <td>-0.005827</td>\n",
       "      <td>1.0</td>\n",
       "      <td>0</td>\n",
       "      <td>1</td>\n",
       "      <td>0</td>\n",
       "      <td>0</td>\n",
       "    </tr>\n",
       "    <tr>\n",
       "      <th>1</th>\n",
       "      <td>1.729071</td>\n",
       "      <td>3.140194</td>\n",
       "      <td>0.901737</td>\n",
       "      <td>2.245756</td>\n",
       "      <td>1.0</td>\n",
       "      <td>0</td>\n",
       "      <td>1</td>\n",
       "      <td>0</td>\n",
       "      <td>0</td>\n",
       "    </tr>\n",
       "    <tr>\n",
       "      <th>2</th>\n",
       "      <td>-0.634538</td>\n",
       "      <td>-0.641016</td>\n",
       "      <td>-0.440324</td>\n",
       "      <td>-0.014906</td>\n",
       "      <td>1.0</td>\n",
       "      <td>0</td>\n",
       "      <td>0</td>\n",
       "      <td>1</td>\n",
       "      <td>0</td>\n",
       "    </tr>\n",
       "    <tr>\n",
       "      <th>3</th>\n",
       "      <td>-0.634538</td>\n",
       "      <td>0.142483</td>\n",
       "      <td>-0.393583</td>\n",
       "      <td>0.032726</td>\n",
       "      <td>1.0</td>\n",
       "      <td>0</td>\n",
       "      <td>1</td>\n",
       "      <td>0</td>\n",
       "      <td>0</td>\n",
       "    </tr>\n",
       "    <tr>\n",
       "      <th>4</th>\n",
       "      <td>0.153331</td>\n",
       "      <td>0.593210</td>\n",
       "      <td>1.074710</td>\n",
       "      <td>0.961564</td>\n",
       "      <td>1.0</td>\n",
       "      <td>0</td>\n",
       "      <td>1</td>\n",
       "      <td>0</td>\n",
       "      <td>0</td>\n",
       "    </tr>\n",
       "  </tbody>\n",
       "</table>\n",
       "</div>"
      ],
      "text/plain": [
       "   total_payment_installments  total_payment_value  geolocation_lat  \\\n",
       "0                   -0.634538            -1.166150        -0.449417   \n",
       "1                    1.729071             3.140194         0.901737   \n",
       "2                   -0.634538            -0.641016        -0.440324   \n",
       "3                   -0.634538             0.142483        -0.393583   \n",
       "4                    0.153331             0.593210         1.074710   \n",
       "\n",
       "   geolocation_lng  total_payment_sequential  payment_type_boleto  \\\n",
       "0        -0.005827                       1.0                    0   \n",
       "1         2.245756                       1.0                    0   \n",
       "2        -0.014906                       1.0                    0   \n",
       "3         0.032726                       1.0                    0   \n",
       "4         0.961564                       1.0                    0   \n",
       "\n",
       "   payment_type_credit_card  payment_type_debit_card  payment_type_voucher  \n",
       "0                         1                        0                     0  \n",
       "1                         1                        0                     0  \n",
       "2                         0                        1                     0  \n",
       "3                         1                        0                     0  \n",
       "4                         1                        0                     0  "
      ]
     },
     "execution_count": 26,
     "metadata": {},
     "output_type": "execute_result"
    }
   ],
   "source": [
    "X_train.head()"
   ]
  },
  {
   "cell_type": "markdown",
   "metadata": {},
   "source": [
    "#### Create K-Fold"
   ]
  },
  {
   "cell_type": "code",
   "execution_count": 27,
   "metadata": {},
   "outputs": [],
   "source": [
    "X_train_cv = []\n",
    "X_val_cv = []\n",
    "y_train_cv = []\n",
    "y_val_cv = []\n",
    "\n",
    "i = 0\n",
    "for train_index, val_index in kf.split(X_train):\n",
    "    X_train_cv.append(X_train.iloc[train_index,:])\n",
    "    X_val_cv.append(X_train.iloc[val_index,:])\n",
    "    y_train_cv.append(y_train.iloc[train_index,:])\n",
    "    y_val_cv.append(y_train.iloc[val_index,:])\n",
    "    \n",
    "    \n",
    "    X_train_cv[i].reset_index(drop=True, inplace=True)\n",
    "    y_train_cv[i].reset_index(drop=True, inplace=True)\n",
    "    X_val_cv[i].reset_index(drop=True, inplace=True)\n",
    "    y_val_cv[i].reset_index(drop=True, inplace=True)\n",
    "    \n",
    "    i += 1"
   ]
  },
  {
   "cell_type": "markdown",
   "metadata": {},
   "source": [
    "### Apply PCA"
   ]
  },
  {
   "cell_type": "code",
   "execution_count": 28,
   "metadata": {},
   "outputs": [],
   "source": [
    "X_train_cv_pca = []\n",
    "X_val_cv_pca = []\n",
    "\n",
    "pca_new = PCA(n_components=selected_n_comp)\n",
    "\n",
    "for i in range(len(X_train_cv)):    \n",
    "    X_train_cv_pca.append(pd.DataFrame(pca_new.fit_transform(X_train_cv[i].iloc[:, :4])))\n",
    "    X_val_cv_pca.append(pd.DataFrame(pca_new.transform(X_val_cv[i].iloc[:, :4])))\n",
    "\n",
    "# save pca into pickle file\n",
    "# model_filename = \"pca_model.pkl\"\n",
    "# pickle.dump(pca_new, open(model_filename,'wb'))\n",
    "\n",
    "# apply PCA to X_train data\n",
    "X_train_pca = pd.DataFrame(pca_new.transform(X_train.iloc[:, :4]))\n",
    "X_train_pca = X_train_pca.assign(payment_type_credit_card = X_train.loc[:, 'payment_type_credit_card'])\n",
    "X_train_pca = X_train_pca.assign(payment_type_debit_card = X_train.loc[:, 'payment_type_debit_card'])\n",
    "X_train_pca = X_train_pca.assign(payment_type_voucher = X_train.loc[:, 'payment_type_voucher'])\n",
    "X_train_pca = X_train_pca.assign(payment_type_boleto = X_train.loc[:, 'payment_type_boleto'])"
   ]
  },
  {
   "cell_type": "code",
   "execution_count": 29,
   "metadata": {},
   "outputs": [],
   "source": [
    "for i in range(len(X_train_cv)):\n",
    "    X_train_cv_pca[i] = X_train_cv_pca[i].assign(payment_type_credit_card = X_train_cv[i].loc[:, 'payment_type_credit_card'])\n",
    "    X_train_cv_pca[i] = X_train_cv_pca[i].assign(payment_type_debit_card = X_train_cv[i].loc[:, 'payment_type_debit_card'])\n",
    "    X_train_cv_pca[i] = X_train_cv_pca[i].assign(payment_type_voucher = X_train_cv[i].loc[:, 'payment_type_voucher'])\n",
    "    X_train_cv_pca[i] = X_train_cv_pca[i].assign(payment_type_boleto = X_train_cv[i].loc[:, 'payment_type_boleto'])\n",
    "       \n",
    "    X_val_cv_pca[i] = X_val_cv_pca[i].assign(payment_type_credit_card = X_val_cv[i].loc[:, 'payment_type_credit_card'])\n",
    "    X_val_cv_pca[i] = X_val_cv_pca[i].assign(payment_type_debit_card = X_val_cv[i].loc[:, 'payment_type_debit_card'])\n",
    "    X_val_cv_pca[i] = X_val_cv_pca[i].assign(payment_type_voucher = X_val_cv[i].loc[:, 'payment_type_voucher'])\n",
    "    X_val_cv_pca[i] = X_val_cv_pca[i].assign(payment_type_boleto = X_val_cv[i].loc[:, 'payment_type_boleto'])\n"
   ]
  },
  {
   "cell_type": "code",
   "execution_count": 30,
   "metadata": {
    "scrolled": false
   },
   "outputs": [
    {
     "data": {
      "text/html": [
       "<div>\n",
       "<style scoped>\n",
       "    .dataframe tbody tr th:only-of-type {\n",
       "        vertical-align: middle;\n",
       "    }\n",
       "\n",
       "    .dataframe tbody tr th {\n",
       "        vertical-align: top;\n",
       "    }\n",
       "\n",
       "    .dataframe thead th {\n",
       "        text-align: right;\n",
       "    }\n",
       "</style>\n",
       "<table border=\"1\" class=\"dataframe\">\n",
       "  <thead>\n",
       "    <tr style=\"text-align: right;\">\n",
       "      <th></th>\n",
       "      <th>0</th>\n",
       "      <th>1</th>\n",
       "      <th>payment_type_credit_card</th>\n",
       "      <th>payment_type_debit_card</th>\n",
       "      <th>payment_type_voucher</th>\n",
       "      <th>payment_type_boleto</th>\n",
       "    </tr>\n",
       "  </thead>\n",
       "  <tbody>\n",
       "    <tr>\n",
       "      <th>0</th>\n",
       "      <td>-1.136136</td>\n",
       "      <td>-0.660574</td>\n",
       "      <td>1</td>\n",
       "      <td>0</td>\n",
       "      <td>0</td>\n",
       "      <td>0</td>\n",
       "    </tr>\n",
       "    <tr>\n",
       "      <th>1</th>\n",
       "      <td>-0.402720</td>\n",
       "      <td>0.069010</td>\n",
       "      <td>1</td>\n",
       "      <td>0</td>\n",
       "      <td>0</td>\n",
       "      <td>0</td>\n",
       "    </tr>\n",
       "    <tr>\n",
       "      <th>2</th>\n",
       "      <td>-0.362986</td>\n",
       "      <td>0.124730</td>\n",
       "      <td>1</td>\n",
       "      <td>0</td>\n",
       "      <td>0</td>\n",
       "      <td>0</td>\n",
       "    </tr>\n",
       "    <tr>\n",
       "      <th>3</th>\n",
       "      <td>2.040734</td>\n",
       "      <td>-0.227763</td>\n",
       "      <td>1</td>\n",
       "      <td>0</td>\n",
       "      <td>0</td>\n",
       "      <td>0</td>\n",
       "    </tr>\n",
       "    <tr>\n",
       "      <th>4</th>\n",
       "      <td>-0.147724</td>\n",
       "      <td>1.263423</td>\n",
       "      <td>1</td>\n",
       "      <td>0</td>\n",
       "      <td>0</td>\n",
       "      <td>0</td>\n",
       "    </tr>\n",
       "  </tbody>\n",
       "</table>\n",
       "</div>"
      ],
      "text/plain": [
       "          0         1  payment_type_credit_card  payment_type_debit_card  \\\n",
       "0 -1.136136 -0.660574                         1                        0   \n",
       "1 -0.402720  0.069010                         1                        0   \n",
       "2 -0.362986  0.124730                         1                        0   \n",
       "3  2.040734 -0.227763                         1                        0   \n",
       "4 -0.147724  1.263423                         1                        0   \n",
       "\n",
       "   payment_type_voucher  payment_type_boleto  \n",
       "0                     0                    0  \n",
       "1                     0                    0  \n",
       "2                     0                    0  \n",
       "3                     0                    0  \n",
       "4                     0                    0  "
      ]
     },
     "execution_count": 30,
     "metadata": {},
     "output_type": "execute_result"
    }
   ],
   "source": [
    "X_val_cv_pca[0].head()"
   ]
  },
  {
   "cell_type": "markdown",
   "metadata": {},
   "source": [
    "### Scale data using min max scaler"
   ]
  },
  {
   "cell_type": "code",
   "execution_count": 31,
   "metadata": {},
   "outputs": [
    {
     "name": "stderr",
     "output_type": "stream",
     "text": [
      "E:\\Program Files\\Anaconda3\\envs\\base2\\lib\\site-packages\\sklearn\\utils\\validation.py:1692: FutureWarning: Feature names only support names that are all strings. Got feature names with dtypes: ['int', 'str']. An error will be raised in 1.2.\n",
      "  FutureWarning,\n",
      "E:\\Program Files\\Anaconda3\\envs\\base2\\lib\\site-packages\\sklearn\\utils\\validation.py:1692: FutureWarning: Feature names only support names that are all strings. Got feature names with dtypes: ['int', 'str']. An error will be raised in 1.2.\n",
      "  FutureWarning,\n",
      "E:\\Program Files\\Anaconda3\\envs\\base2\\lib\\site-packages\\sklearn\\utils\\validation.py:1692: FutureWarning: Feature names only support names that are all strings. Got feature names with dtypes: ['int', 'str']. An error will be raised in 1.2.\n",
      "  FutureWarning,\n",
      "E:\\Program Files\\Anaconda3\\envs\\base2\\lib\\site-packages\\sklearn\\utils\\validation.py:1692: FutureWarning: Feature names only support names that are all strings. Got feature names with dtypes: ['int', 'str']. An error will be raised in 1.2.\n",
      "  FutureWarning,\n",
      "E:\\Program Files\\Anaconda3\\envs\\base2\\lib\\site-packages\\sklearn\\utils\\validation.py:1692: FutureWarning: Feature names only support names that are all strings. Got feature names with dtypes: ['int', 'str']. An error will be raised in 1.2.\n",
      "  FutureWarning,\n",
      "E:\\Program Files\\Anaconda3\\envs\\base2\\lib\\site-packages\\sklearn\\utils\\validation.py:1692: FutureWarning: Feature names only support names that are all strings. Got feature names with dtypes: ['int', 'str']. An error will be raised in 1.2.\n",
      "  FutureWarning,\n",
      "E:\\Program Files\\Anaconda3\\envs\\base2\\lib\\site-packages\\sklearn\\utils\\validation.py:1692: FutureWarning: Feature names only support names that are all strings. Got feature names with dtypes: ['int', 'str']. An error will be raised in 1.2.\n",
      "  FutureWarning,\n",
      "E:\\Program Files\\Anaconda3\\envs\\base2\\lib\\site-packages\\sklearn\\utils\\validation.py:1692: FutureWarning: Feature names only support names that are all strings. Got feature names with dtypes: ['int', 'str']. An error will be raised in 1.2.\n",
      "  FutureWarning,\n",
      "E:\\Program Files\\Anaconda3\\envs\\base2\\lib\\site-packages\\sklearn\\utils\\validation.py:1692: FutureWarning: Feature names only support names that are all strings. Got feature names with dtypes: ['int', 'str']. An error will be raised in 1.2.\n",
      "  FutureWarning,\n",
      "E:\\Program Files\\Anaconda3\\envs\\base2\\lib\\site-packages\\sklearn\\utils\\validation.py:1692: FutureWarning: Feature names only support names that are all strings. Got feature names with dtypes: ['int', 'str']. An error will be raised in 1.2.\n",
      "  FutureWarning,\n",
      "E:\\Program Files\\Anaconda3\\envs\\base2\\lib\\site-packages\\sklearn\\utils\\validation.py:1692: FutureWarning: Feature names only support names that are all strings. Got feature names with dtypes: ['int', 'str']. An error will be raised in 1.2.\n",
      "  FutureWarning,\n",
      "E:\\Program Files\\Anaconda3\\envs\\base2\\lib\\site-packages\\sklearn\\utils\\validation.py:1692: FutureWarning: Feature names only support names that are all strings. Got feature names with dtypes: ['int', 'str']. An error will be raised in 1.2.\n",
      "  FutureWarning,\n",
      "E:\\Program Files\\Anaconda3\\envs\\base2\\lib\\site-packages\\sklearn\\utils\\validation.py:1692: FutureWarning: Feature names only support names that are all strings. Got feature names with dtypes: ['int', 'str']. An error will be raised in 1.2.\n",
      "  FutureWarning,\n",
      "E:\\Program Files\\Anaconda3\\envs\\base2\\lib\\site-packages\\sklearn\\utils\\validation.py:1692: FutureWarning: Feature names only support names that are all strings. Got feature names with dtypes: ['int', 'str']. An error will be raised in 1.2.\n",
      "  FutureWarning,\n",
      "E:\\Program Files\\Anaconda3\\envs\\base2\\lib\\site-packages\\sklearn\\utils\\validation.py:1692: FutureWarning: Feature names only support names that are all strings. Got feature names with dtypes: ['int', 'str']. An error will be raised in 1.2.\n",
      "  FutureWarning,\n",
      "E:\\Program Files\\Anaconda3\\envs\\base2\\lib\\site-packages\\sklearn\\utils\\validation.py:1692: FutureWarning: Feature names only support names that are all strings. Got feature names with dtypes: ['int', 'str']. An error will be raised in 1.2.\n",
      "  FutureWarning,\n"
     ]
    }
   ],
   "source": [
    "for i in range(len(X_train_cv_pca)):\n",
    "    scaler = MinMaxScaler()\n",
    "    X_train_cv_pca[i].loc[:, X_train_cv_pca[i].columns] = scaler.fit_transform(X_train_cv_pca[i].loc[:, X_train_cv_pca[i].columns])\n",
    "    X_val_cv_pca[i].loc[:, X_val_cv_pca[i].columns] = scaler.transform(X_val_cv_pca[i].loc[:, X_val_cv_pca[i].columns])\n",
    "    \n",
    "# implement scaling for X_train\n",
    "X_train_pca.loc[:, X_train_pca.columns] = scaler.transform(X_train_pca.loc[:, X_train_pca.columns])\n",
    "\n",
    "# save scaler with pickle\n",
    "# model_filename = \"scaler_model.pkl\"\n",
    "# pickle.dump(scaler, open(model_filename,'wb'))"
   ]
  },
  {
   "cell_type": "code",
   "execution_count": 32,
   "metadata": {},
   "outputs": [
    {
     "data": {
      "text/html": [
       "<div>\n",
       "<style scoped>\n",
       "    .dataframe tbody tr th:only-of-type {\n",
       "        vertical-align: middle;\n",
       "    }\n",
       "\n",
       "    .dataframe tbody tr th {\n",
       "        vertical-align: top;\n",
       "    }\n",
       "\n",
       "    .dataframe thead th {\n",
       "        text-align: right;\n",
       "    }\n",
       "</style>\n",
       "<table border=\"1\" class=\"dataframe\">\n",
       "  <thead>\n",
       "    <tr style=\"text-align: right;\">\n",
       "      <th></th>\n",
       "      <th>0</th>\n",
       "      <th>1</th>\n",
       "      <th>payment_type_credit_card</th>\n",
       "      <th>payment_type_debit_card</th>\n",
       "      <th>payment_type_voucher</th>\n",
       "      <th>payment_type_boleto</th>\n",
       "    </tr>\n",
       "  </thead>\n",
       "  <tbody>\n",
       "    <tr>\n",
       "      <th>0</th>\n",
       "      <td>0.317853</td>\n",
       "      <td>0.293700</td>\n",
       "      <td>1.0</td>\n",
       "      <td>0.0</td>\n",
       "      <td>0.0</td>\n",
       "      <td>0.0</td>\n",
       "    </tr>\n",
       "    <tr>\n",
       "      <th>1</th>\n",
       "      <td>0.836091</td>\n",
       "      <td>0.631843</td>\n",
       "      <td>1.0</td>\n",
       "      <td>0.0</td>\n",
       "      <td>0.0</td>\n",
       "      <td>0.0</td>\n",
       "    </tr>\n",
       "    <tr>\n",
       "      <th>2</th>\n",
       "      <td>0.338639</td>\n",
       "      <td>0.335435</td>\n",
       "      <td>0.0</td>\n",
       "      <td>1.0</td>\n",
       "      <td>0.0</td>\n",
       "      <td>0.0</td>\n",
       "    </tr>\n",
       "    <tr>\n",
       "      <th>3</th>\n",
       "      <td>0.375958</td>\n",
       "      <td>0.392996</td>\n",
       "      <td>1.0</td>\n",
       "      <td>0.0</td>\n",
       "      <td>0.0</td>\n",
       "      <td>0.0</td>\n",
       "    </tr>\n",
       "    <tr>\n",
       "      <th>4</th>\n",
       "      <td>0.589705</td>\n",
       "      <td>0.373011</td>\n",
       "      <td>1.0</td>\n",
       "      <td>0.0</td>\n",
       "      <td>0.0</td>\n",
       "      <td>0.0</td>\n",
       "    </tr>\n",
       "  </tbody>\n",
       "</table>\n",
       "</div>"
      ],
      "text/plain": [
       "          0         1  payment_type_credit_card  payment_type_debit_card  \\\n",
       "0  0.317853  0.293700                       1.0                      0.0   \n",
       "1  0.836091  0.631843                       1.0                      0.0   \n",
       "2  0.338639  0.335435                       0.0                      1.0   \n",
       "3  0.375958  0.392996                       1.0                      0.0   \n",
       "4  0.589705  0.373011                       1.0                      0.0   \n",
       "\n",
       "   payment_type_voucher  payment_type_boleto  \n",
       "0                   0.0                  0.0  \n",
       "1                   0.0                  0.0  \n",
       "2                   0.0                  0.0  \n",
       "3                   0.0                  0.0  \n",
       "4                   0.0                  0.0  "
      ]
     },
     "execution_count": 32,
     "metadata": {},
     "output_type": "execute_result"
    }
   ],
   "source": [
    "X_train_pca.head()"
   ]
  },
  {
   "cell_type": "markdown",
   "metadata": {},
   "source": [
    "## Model\n",
    "K-Means with Silhouette Coefficient"
   ]
  },
  {
   "cell_type": "markdown",
   "metadata": {},
   "source": [
    "### PCA K-Means"
   ]
  },
  {
   "cell_type": "markdown",
   "metadata": {},
   "source": [
    "#### Apply PCA K-Means to Train and Validation Dataset"
   ]
  },
  {
   "cell_type": "code",
   "execution_count": 33,
   "metadata": {},
   "outputs": [],
   "source": [
    "val_sil_val = {1:None, 2:None, 3:None, 4:None, 5:None}"
   ]
  },
  {
   "cell_type": "code",
   "execution_count": 34,
   "metadata": {},
   "outputs": [
    {
     "name": "stdout",
     "output_type": "stream",
     "text": [
      "<class 'pandas.core.frame.DataFrame'>\n",
      "RangeIndex: 876 entries, 0 to 875\n",
      "Data columns (total 6 columns):\n",
      " #   Column                    Non-Null Count  Dtype  \n",
      "---  ------                    --------------  -----  \n",
      " 0   0                         876 non-null    float64\n",
      " 1   1                         876 non-null    float64\n",
      " 2   payment_type_credit_card  876 non-null    float64\n",
      " 3   payment_type_debit_card   876 non-null    float64\n",
      " 4   payment_type_voucher      876 non-null    float64\n",
      " 5   payment_type_boleto       876 non-null    float64\n",
      "dtypes: float64(6)\n",
      "memory usage: 41.2 KB\n"
     ]
    }
   ],
   "source": [
    "X_val_cv_pca[0].info()"
   ]
  },
  {
   "cell_type": "code",
   "execution_count": 35,
   "metadata": {
    "scrolled": true
   },
   "outputs": [
    {
     "name": "stderr",
     "output_type": "stream",
     "text": [
      "E:\\Program Files\\Anaconda3\\envs\\base2\\lib\\site-packages\\sklearn\\utils\\validation.py:1692: FutureWarning: Feature names only support names that are all strings. Got feature names with dtypes: ['int', 'str']. An error will be raised in 1.2.\n",
      "  FutureWarning,\n",
      "E:\\Program Files\\Anaconda3\\envs\\base2\\lib\\site-packages\\sklearn\\utils\\validation.py:1692: FutureWarning: Feature names only support names that are all strings. Got feature names with dtypes: ['int', 'str']. An error will be raised in 1.2.\n",
      "  FutureWarning,\n",
      "E:\\Program Files\\Anaconda3\\envs\\base2\\lib\\site-packages\\sklearn\\utils\\validation.py:1692: FutureWarning: Feature names only support names that are all strings. Got feature names with dtypes: ['int', 'str']. An error will be raised in 1.2.\n",
      "  FutureWarning,\n",
      "E:\\Program Files\\Anaconda3\\envs\\base2\\lib\\site-packages\\sklearn\\utils\\validation.py:1692: FutureWarning: Feature names only support names that are all strings. Got feature names with dtypes: ['int', 'str']. An error will be raised in 1.2.\n",
      "  FutureWarning,\n",
      "E:\\Program Files\\Anaconda3\\envs\\base2\\lib\\site-packages\\sklearn\\utils\\validation.py:1692: FutureWarning: Feature names only support names that are all strings. Got feature names with dtypes: ['int', 'str']. An error will be raised in 1.2.\n",
      "  FutureWarning,\n",
      "E:\\Program Files\\Anaconda3\\envs\\base2\\lib\\site-packages\\sklearn\\utils\\validation.py:1692: FutureWarning: Feature names only support names that are all strings. Got feature names with dtypes: ['int', 'str']. An error will be raised in 1.2.\n",
      "  FutureWarning,\n",
      "E:\\Program Files\\Anaconda3\\envs\\base2\\lib\\site-packages\\sklearn\\utils\\validation.py:1692: FutureWarning: Feature names only support names that are all strings. Got feature names with dtypes: ['int', 'str']. An error will be raised in 1.2.\n",
      "  FutureWarning,\n",
      "E:\\Program Files\\Anaconda3\\envs\\base2\\lib\\site-packages\\sklearn\\utils\\validation.py:1692: FutureWarning: Feature names only support names that are all strings. Got feature names with dtypes: ['int', 'str']. An error will be raised in 1.2.\n",
      "  FutureWarning,\n",
      "E:\\Program Files\\Anaconda3\\envs\\base2\\lib\\site-packages\\sklearn\\utils\\validation.py:1692: FutureWarning: Feature names only support names that are all strings. Got feature names with dtypes: ['int', 'str']. An error will be raised in 1.2.\n",
      "  FutureWarning,\n",
      "E:\\Program Files\\Anaconda3\\envs\\base2\\lib\\site-packages\\sklearn\\utils\\validation.py:1692: FutureWarning: Feature names only support names that are all strings. Got feature names with dtypes: ['int', 'str']. An error will be raised in 1.2.\n",
      "  FutureWarning,\n",
      "E:\\Program Files\\Anaconda3\\envs\\base2\\lib\\site-packages\\sklearn\\utils\\validation.py:1692: FutureWarning: Feature names only support names that are all strings. Got feature names with dtypes: ['int', 'str']. An error will be raised in 1.2.\n",
      "  FutureWarning,\n",
      "E:\\Program Files\\Anaconda3\\envs\\base2\\lib\\site-packages\\sklearn\\utils\\validation.py:1692: FutureWarning: Feature names only support names that are all strings. Got feature names with dtypes: ['int', 'str']. An error will be raised in 1.2.\n",
      "  FutureWarning,\n",
      "E:\\Program Files\\Anaconda3\\envs\\base2\\lib\\site-packages\\sklearn\\utils\\validation.py:1692: FutureWarning: Feature names only support names that are all strings. Got feature names with dtypes: ['int', 'str']. An error will be raised in 1.2.\n",
      "  FutureWarning,\n",
      "E:\\Program Files\\Anaconda3\\envs\\base2\\lib\\site-packages\\sklearn\\utils\\validation.py:1692: FutureWarning: Feature names only support names that are all strings. Got feature names with dtypes: ['int', 'str']. An error will be raised in 1.2.\n",
      "  FutureWarning,\n",
      "E:\\Program Files\\Anaconda3\\envs\\base2\\lib\\site-packages\\sklearn\\utils\\validation.py:1692: FutureWarning: Feature names only support names that are all strings. Got feature names with dtypes: ['int', 'str']. An error will be raised in 1.2.\n",
      "  FutureWarning,\n"
     ]
    }
   ],
   "source": [
    "for idx in range(len(X_val_cv_pca)):\n",
    "    # KMeans clustering\n",
    "    km_val = KMeans(n_clusters=selected_n_clus, random_state=30)\n",
    "    km_val.fit(X_train_cv_pca[idx])\n",
    "    y_val_predict = km_val.predict(X_val_cv_pca[idx])\n",
    "    y_train_predict = km_val.predict(X_train_pca)\n",
    "\n",
    "    # Silhouette score\n",
    "    silhouette_val = silhouette_score(X_val_cv_pca[idx], y_val_predict)\n",
    "    val_sil_val[idx+1] = silhouette_val\n",
    "    \n",
    "    # tambah kolom kluster dataset val\n",
    "    y_val_cv[idx].loc[:, 'cluster'] = pd.Series(y_val_predict)    \n",
    "    \n",
    "    # tambah kolom kluster dataset train\n",
    "    y_train.loc[:, 'cluster'] = pd.Series(y_train_predict)"
   ]
  },
  {
   "cell_type": "code",
   "execution_count": 36,
   "metadata": {},
   "outputs": [
    {
     "name": "stdout",
     "output_type": "stream",
     "text": [
      "fold: 1 silhouette coef: 0.8344719603726564\n",
      "fold: 2 silhouette coef: 0.829919956107309\n",
      "fold: 3 silhouette coef: 0.8366961788135795\n",
      "fold: 4 silhouette coef: 0.8343261388324562\n",
      "fold: 5 silhouette coef: 0.8391905988879902\n"
     ]
    }
   ],
   "source": [
    "# Average silhoette coef\n",
    "for key, values in val_sil_val.items():\n",
    "    print(\"fold:\",key,\"silhouette coef:\", values)"
   ]
  },
  {
   "cell_type": "markdown",
   "metadata": {},
   "source": [
    "#### Number of data for each cluster"
   ]
  },
  {
   "cell_type": "code",
   "execution_count": 37,
   "metadata": {
    "scrolled": false
   },
   "outputs": [
    {
     "data": {
      "text/plain": [
       "0    664\n",
       "1    185\n",
       "2     16\n",
       "3     11\n",
       "Name: cluster, dtype: int64"
      ]
     },
     "execution_count": 37,
     "metadata": {},
     "output_type": "execute_result"
    }
   ],
   "source": [
    "y_val_cv[0].loc[:, 'cluster'].value_counts()"
   ]
  },
  {
   "cell_type": "markdown",
   "metadata": {},
   "source": [
    "## Collaborative Filtering"
   ]
  },
  {
   "cell_type": "markdown",
   "metadata": {},
   "source": [
    "### Rating prediction  function based on user similarity"
   ]
  },
  {
   "cell_type": "code",
   "execution_count": 38,
   "metadata": {},
   "outputs": [],
   "source": [
    "# prediction rating function based on num of neighbors\n",
    "def predict_rating(activeUser, itemPredicted, rating_matrix, user_sim, selection_mode = 'neighbors', n=1):\n",
    "    pembilang = []\n",
    "    res = None\n",
    "    penyebut = 0.0001 # to avoid division by zero, penyebut assign with 0.0001\n",
    "    sim_avg = [] # similarity average\n",
    "    \n",
    "    # check selection mode\n",
    "    if selection_mode == 'neighbors':\n",
    "        i = 0\n",
    "        while (i < n) and (i < len(user_sim)):           \n",
    "            # rbp: rating user b for product p (predicted product)\n",
    "            rbp = rating_matrix.loc[user_sim.keys()[i], itemPredicted]\n",
    "\n",
    "            # avg_rb: average rating user b\n",
    "            avg_rb = rating_matrix.loc[user_sim.keys()[i]].mean()\n",
    "\n",
    "            # check if similarity is None\n",
    "            if not math.isnan(user_sim.values[i]):\n",
    "                pembilang.append(user_sim.values[i] * (rbp - avg_rb))\n",
    "                penyebut += user_sim.values[i]\n",
    "                sim_avg.append(user_sim.values[i])\n",
    "                i += 1\n",
    "                \n",
    "            else:\n",
    "                i += 1\n",
    "    elif selection_mode == 'treshold':\n",
    "            for i in range(len(user_sim)):\n",
    "                # treshold user selection\n",
    "                if user_sim.values[i] >= n:            \n",
    "                    # rbp: rating user b for product p (predicted product)\n",
    "                    rbp = rating_matrix.loc[user_sim.keys()[i], itemPredicted]\n",
    "\n",
    "                    # avg_rb: average rating user b\n",
    "                    avg_rb = rating_matrix.loc[user_sim.keys()[i]].mean()\n",
    "                    pembilang.append(user_sim.values[i] * (rbp - avg_rb))\n",
    "                    penyebut += user_sim.values[i]\n",
    "                    sim_avg.append(user_sim.values[i])\n",
    "                    \n",
    "    res = rating_matrix.loc[activeUser].mean() + (sum(pembilang) / penyebut)\n",
    "    avg_sim = (sum(sim_avg)/len(sim_avg))\n",
    "    return res, avg_sim\n",
    "    "
   ]
  },
  {
   "cell_type": "markdown",
   "metadata": {},
   "source": [
    "### Predict user rating  function based on user similarity"
   ]
  },
  {
   "cell_type": "code",
   "execution_count": 39,
   "metadata": {},
   "outputs": [],
   "source": [
    "def predict_user_rating(cust_id, rating_matrix, selection_mode, n):    \n",
    "    \n",
    "    # get rated product from active user\n",
    "    prod = dict(rating_matrix.loc[cust_id].notnull())\n",
    "    ratedProdList = [key for key, val in prod.items() if val == True]\n",
    "\n",
    "    # get un-rated product        \n",
    "    predictProdList = [key for key, val in prod.items() if val == False]\n",
    "\n",
    "    # dict for save predict data\n",
    "    predicted_prod = {'predicted_prod_id': [], 'predicted_rating': []}\n",
    "    \n",
    "    avg_sim_users = []\n",
    "\n",
    "    for predictItem in predictProdList:\n",
    "        # get user who have rated predicted item \n",
    "        user1 = list(rating_matrix[rating_matrix[predictItem].notnull()].index)\n",
    "\n",
    "        # skip loop if no user rated predicted item\n",
    "        if len(user1) <= 0:\n",
    "            continue\n",
    "\n",
    "        # get user who rated predicted item\n",
    "        dftmp = rating_matrix.loc[user1]\n",
    "\n",
    "        # get user who rated predicted item and rated same item with active user\n",
    "        user2 = []\n",
    "        for product in ratedProdList:\n",
    "            a = list(dftmp[dftmp[product].notnull()].index)\n",
    "            if a not in user2:\n",
    "                for userA in a:\n",
    "                    user2.append(userA)\n",
    "\n",
    "        dftmp2 = rating_matrix.loc[[cust_id] + user2]  \n",
    "\n",
    "        # improve sparsity problem by fill null with average value from all neighbors\n",
    "        userAvgTmp = dftmp2.mean(axis=1)\n",
    "        neighbors_avg = userAvgTmp.mean()\n",
    "        dftmp2.fillna(neighbors_avg, inplace=True)\n",
    "        \n",
    "        # calc similarity with pearson correlation    \n",
    "        # user_sim = dftmp2.T.corr().iloc[1:, 0] \n",
    "        \n",
    "        # calc similarity with cosine similarity    \n",
    "        sim_tmp = 1-pairwise_distances(dftmp2, metric='cosine')\n",
    "        user_sim = pd.Series(sim_tmp[0][1:], index=dftmp2.index[1:])\n",
    "        \n",
    "        # remove active user from user_sim\n",
    "        if cust_id in user_sim.index:            \n",
    "            user_sim.drop(cust_id, inplace=True)\n",
    "        # user_sim.sort_values(ascending=False, inplace=True)        \n",
    "        \n",
    "        # check if user_sim is empty\n",
    "        if len(user_sim) != 0:\n",
    "            # predict rating\n",
    "            rating, avg_sim = predict_rating(cust_id, predictItem, rating_matrix, user_sim, selection_mode, n)\n",
    "            predicted_prod['predicted_rating'].append(rating)\n",
    "            predicted_prod['predicted_prod_id'].append(predictItem)\n",
    "            avg_sim_users.append(avg_sim)\n",
    "    avg_sim_val = sum(avg_sim_users)/len(avg_sim_users)\n",
    "    return predicted_prod, avg_sim_val"
   ]
  },
  {
   "cell_type": "markdown",
   "metadata": {},
   "source": [
    "### Recommender system function"
   ]
  },
  {
   "cell_type": "code",
   "execution_count": 40,
   "metadata": {},
   "outputs": [],
   "source": [
    "def recommender_system(cust_id, userIdData, userData, userClusterDf, ratingDf, nRec):\n",
    "    # get activeUserData in userData by cust_id\n",
    "    idx = userIdData[userIdData.customer_unique_id == cust_id].index\n",
    "    activeUserData = userData.iloc[idx]\n",
    "    \n",
    "    # reduce dimensionality with PCA\n",
    "    activeUserData_pca = pca_new.transform(activeUserData.iloc[:, :4])\n",
    "    activeUserData_pca = pd.DataFrame(activeUserData_pca)\n",
    "    activeUserData_pca = activeUserData_pca.assign(payment_type_credit_card = activeUserData['payment_type_credit_card'].iloc[0])\n",
    "    activeUserData_pca = activeUserData_pca.assign(payment_type_debit_card = activeUserData['payment_type_debit_card'].iloc[0])\n",
    "    activeUserData_pca = activeUserData_pca.assign(payment_type_voucher = activeUserData['payment_type_voucher'].iloc[0])\n",
    "    activeUserData_pca = activeUserData_pca.assign(payment_type_boleto = activeUserData['payment_type_boleto'].iloc[0])\n",
    "    \n",
    "    # Scaling data with MinMaxScaler\n",
    "    activeUserData_pca[activeUserData_pca.columns] = scaler.transform(activeUserData_pca)    \n",
    "    \n",
    "    # predict cluster with K-Means\n",
    "    predicted_cluster = km_val.predict(activeUserData_pca)\n",
    "    \n",
    "    # get user in predicted cluster\n",
    "    dftmp = userClusterDf[userClusterDf['cluster'] == predicted_cluster[0]]   \n",
    "    \n",
    "    # assign active user into dftmp\n",
    "    dftmp = dftmp.append({'customer_unique_id': cust_id, 'cluster': predicted_cluster[0]}, ignore_index=True)\n",
    "    \n",
    "    # join with df rating\n",
    "    df_rating = pd.merge(dftmp, ratingDf[['customer_unique_id', 'product_id', 'rating']],how='left', left_on=['customer_unique_id'], right_on=['customer_unique_id'])\n",
    "    \n",
    "    # drop user who only rated below 2 product\n",
    "    user_freq = dict(df_rating['customer_unique_id'].value_counts())\n",
    "    user_list = [key for key, val in user_freq.items() if (val < 2) and (not key == cust_id)]\n",
    "    idx = df_rating[df_rating['customer_unique_id'].isin(user_list)].index\n",
    "    df_rating.drop(idx, axis=0,inplace=True)\n",
    "    \n",
    "    # create rating matrix\n",
    "    rating_matrix = df_rating.pivot_table(values='rating', index='customer_unique_id', columns='product_id', aggfunc='first')\n",
    "    \n",
    "    # predict rating\n",
    "    res, avg_sim = predict_user_rating(cust_id, rating_matrix, 'neighbors', nRec)\n",
    "\n",
    "    return avg_sim, get_recommendation(res, nRec)"
   ]
  },
  {
   "cell_type": "markdown",
   "metadata": {},
   "source": [
    "### Recommender system evaluation function"
   ]
  },
  {
   "cell_type": "code",
   "execution_count": 41,
   "metadata": {},
   "outputs": [],
   "source": [
    "# evaluation based on rating prediction with memory-based\n",
    "def rs_user_evaluation(cust_id, userItemMatrix, selection_mode, n):\n",
    "    # get product id from active user    \n",
    "    prod = dict(userItemMatrix.loc[cust_id, :].notnull())\n",
    "    ratedProdList = [key for key, val in prod.items() if val == True]\n",
    "    \n",
    "    # get actual rating from rated product\n",
    "    prod = dict(userItemMatrix.loc[cust_id])\n",
    "    actualRating = [val for key, val in prod.items() if key in ratedProdList]\n",
    "    \n",
    "    # list to store predicted rating\n",
    "    predictedRating = []\n",
    "    \n",
    "    avg_sims = []\n",
    "    \n",
    "    for ratedItem in ratedProdList:\n",
    "        # get user who have rated predicted item \n",
    "        user1 = list(userItemMatrix[userItemMatrix[ratedItem].notnull()].index)\n",
    "\n",
    "        # skip loop if no user rated predicted item\n",
    "        if len(user1) <= 0:\n",
    "            continue\n",
    "\n",
    "        # get user who rated predicted item\n",
    "        dftmp = userItemMatrix.loc[user1]\n",
    "\n",
    "        # get user who rated predicted item and rated same item with active user\n",
    "        user2 = []\n",
    "        for product in ratedProdList:\n",
    "            a = list(dftmp[dftmp[product].notnull()].index)\n",
    "            if a not in user2:\n",
    "                for userA in a:\n",
    "                    user2.append(userA)\n",
    "\n",
    "        dftmp2 = userItemMatrix.loc[[cust_id] + user2]      \n",
    "        # improve sparsity problem by fill null with average value from all neighbors\n",
    "        userAvgTmp = dftmp2.mean(axis=1)\n",
    "        neighbors_avg = userAvgTmp.mean()\n",
    "        dftmp2.fillna(neighbors_avg, inplace=True)\n",
    "        \n",
    "        # calc similarity with pearson correlation    \n",
    "        # user_sim = dftmp2.T.corr().iloc[1:, 0] \n",
    "        \n",
    "        sim_tmp = 1-pairwise_distances(dftmp2, metric='cosine')\n",
    "        user_sim = pd.Series(sim_tmp[0][1:], index=dftmp2.index[1:])\n",
    "\n",
    "        # remove active user from user_sim\n",
    "        if cust_id in user_sim.index:            \n",
    "            user_sim.drop(cust_id, inplace=True)\n",
    "        # user_sim.sort_values(ascending=False, inplace=True)        \n",
    "        \n",
    "        # check if user_sim is empty\n",
    "        if len(user_sim) != 0:\n",
    "            # predict rating\n",
    "            rating, avg_sim = predict_rating(cust_id, ratedItem, userItemMatrix, user_sim, selection_mode, n)\n",
    "            predictedRating.append(rating)\n",
    "            avg_sims.append(avg_sim)\n",
    "        else: # if empty then append None to predicted rating\n",
    "            predictedRating.append(None)\n",
    "            avg_sims.append(0)\n",
    "    \n",
    "    avg_sim_users = sum(avg_sims)/ len(avg_sims)\n",
    "    \n",
    "    # null value check\n",
    "    if None in predictedRating:\n",
    "        # remove null value from predictedRating and actual rating\n",
    "        nullIdx = [i for i, val in enumerate(predictedRating) if not val]\n",
    "        actualRatingClean = [val for i, val in enumerate(actualRating) if i not in nullIdx]\n",
    "        predictedRatingClean = [val for i, val in enumerate(predictedRating) if i not in nullIdx]\n",
    "    else:\n",
    "        actualRatingClean = actualRating\n",
    "        predictedRatingClean = predictedRating\n",
    "    \n",
    "    # rmse & mae calculation\n",
    "    if (len(actualRatingClean) != 0) or (len(predictedRatingClean) != 0):\n",
    "        rmse = mean_squared_error(actualRatingClean, predictedRatingClean, squared=False)\n",
    "        mae = mean_absolute_error(actualRatingClean, predictedRatingClean)\n",
    "        \n",
    "        # dataframe result\n",
    "        res_df = pd.DataFrame(ratedProdList, columns=['product_id'])\n",
    "        res_df['predicted_rating'] = predictedRating\n",
    "        res_df['actual_rating'] = actualRating\n",
    "        # print(res_df['predicted_rating'].count(),' out of ',len(res_df),' items can be predicted:',(res_df['predicted_rating'].count()/len(res_df))*100,'%')\n",
    "        n_item_percentage = (res_df['predicted_rating'].count()/len(res_df))*100\n",
    "    else:\n",
    "        rmse = None\n",
    "        mae = None\n",
    "        res_df = pd.DataFrame()\n",
    "        n_item_percentage = 0\n",
    "    return rmse, mae, res_df, n_item_percentage, avg_sim_users"
   ]
  },
  {
   "cell_type": "markdown",
   "metadata": {},
   "source": [
    "### Generate n-recommendation function"
   ]
  },
  {
   "cell_type": "code",
   "execution_count": 42,
   "metadata": {},
   "outputs": [],
   "source": [
    "def get_recommendation(result, n):\n",
    "    if n != None:\n",
    "        return pd.DataFrame(result).sort_values('predicted_rating', ascending=False).head(n)\n",
    "    else:\n",
    "        return pd.DataFrame(result).sort_values('predicted_rating', ascending=False)"
   ]
  },
  {
   "cell_type": "markdown",
   "metadata": {},
   "source": [
    "## PCA-KM CF Method"
   ]
  },
  {
   "cell_type": "markdown",
   "metadata": {},
   "source": [
    "### Evaluate PCA-KM CF all neighbors with test data"
   ]
  },
  {
   "cell_type": "markdown",
   "metadata": {},
   "source": [
    "#### Apply PCA"
   ]
  },
  {
   "cell_type": "code",
   "execution_count": 43,
   "metadata": {},
   "outputs": [],
   "source": [
    "X_test_pca = pd.DataFrame(pca_new.transform(X_test.iloc[:, :4]))"
   ]
  },
  {
   "cell_type": "code",
   "execution_count": 44,
   "metadata": {},
   "outputs": [],
   "source": [
    "X_test_pca = X_test_pca.assign(payment_type_credit_card = X_test.loc[:, 'payment_type_credit_card'])\n",
    "X_test_pca = X_test_pca.assign(payment_type_debit_card = X_test.loc[:, 'payment_type_debit_card'])\n",
    "X_test_pca = X_test_pca.assign(payment_type_voucher = X_test.loc[:, 'payment_type_voucher'])\n",
    "X_test_pca = X_test_pca.assign(payment_type_boleto = X_test.loc[:, 'payment_type_boleto'])"
   ]
  },
  {
   "cell_type": "markdown",
   "metadata": {},
   "source": [
    "#### Scaling Test Dataset"
   ]
  },
  {
   "cell_type": "code",
   "execution_count": 45,
   "metadata": {},
   "outputs": [
    {
     "name": "stderr",
     "output_type": "stream",
     "text": [
      "E:\\Program Files\\Anaconda3\\envs\\base2\\lib\\site-packages\\sklearn\\utils\\validation.py:1692: FutureWarning: Feature names only support names that are all strings. Got feature names with dtypes: ['int', 'str']. An error will be raised in 1.2.\n",
      "  FutureWarning,\n"
     ]
    }
   ],
   "source": [
    "X_test_pca[X_test_pca.columns] = scaler.transform(X_test_pca)"
   ]
  },
  {
   "cell_type": "markdown",
   "metadata": {},
   "source": [
    "#### Apply K-Means"
   ]
  },
  {
   "cell_type": "code",
   "execution_count": 46,
   "metadata": {},
   "outputs": [
    {
     "name": "stderr",
     "output_type": "stream",
     "text": [
      "E:\\Program Files\\Anaconda3\\envs\\base2\\lib\\site-packages\\sklearn\\utils\\validation.py:1692: FutureWarning: Feature names only support names that are all strings. Got feature names with dtypes: ['int', 'str']. An error will be raised in 1.2.\n",
      "  FutureWarning,\n"
     ]
    },
    {
     "name": "stdout",
     "output_type": "stream",
     "text": [
      "Dataset test silhouette coef: 0.845154364000818\n"
     ]
    },
    {
     "data": {
      "image/png": "[encoded data removed]",
      "text/plain": [
       "<Figure size 432x288 with 1 Axes>"
      ]
     },
     "metadata": {
      "needs_background": "light"
     },
     "output_type": "display_data"
    }
   ],
   "source": [
    "# KMeans clustering\n",
    "y_test_predict = km_val.predict(X_test_pca)\n",
    "\n",
    "# Silhouette score\n",
    "silhouette_val = silhouette_score(X_test_pca, y_test_predict)\n",
    "print('Dataset test silhouette coef:', silhouette_val)\n",
    "\n",
    "# Compute the silhouette scores for each sample\n",
    "sample_silhouette_values = silhouette_samples(X_test_pca, y_test_predict)\n",
    "\n",
    "# Create figure\n",
    "fig = plt.figure()\n",
    "ax1 = fig.add_axes([0,0,1,1])\n",
    "ax1.set_xlim([-0.1, 1])\n",
    "ax1.set_ylim([0, len(X_test_pca) + (selected_n_clus + 1) * 10])\n",
    "y_lower = 10\n",
    "for i in range(selected_n_clus):\n",
    "    # Aggregate the silhouette scores for samples belonging to\n",
    "    # cluster i, and sort them\n",
    "    ith_cluster_silhouette_values = \\\n",
    "        sample_silhouette_values[y_test_predict == i]\n",
    "\n",
    "    ith_cluster_silhouette_values.sort()\n",
    "\n",
    "    size_cluster_i = ith_cluster_silhouette_values.shape[0]\n",
    "    y_upper = y_lower + size_cluster_i\n",
    "\n",
    "    color = cm.nipy_spectral(float(i) / selected_n_clus)\n",
    "    ax1.fill_betweenx(np.arange(y_lower, y_upper),\n",
    "                      0, ith_cluster_silhouette_values,\n",
    "                      facecolor=color, edgecolor=color, alpha=0.7)\n",
    "\n",
    "    # Label the silhouette plots with their cluster numbers at the middle\n",
    "    ax1.text(-0.05, y_lower + 0.5 * size_cluster_i, str(i))\n",
    "\n",
    "    # Compute the new y_lower for next plot\n",
    "    y_lower = y_upper + 10  # 10 for the 0 samples\n",
    "\n",
    "ax1.set_xlabel(\"Silhouette coefficient\")\n",
    "ax1.set_ylabel(\"Cluster label\")\n",
    "\n",
    "# The vertical line for average silhouette score of all the values\n",
    "ax1.axvline(x=silhouette_val, color=\"red\", linestyle=\"--\")\n",
    "\n",
    "ax1.set_yticks([])  # Clear the yaxis labels / ticks\n",
    "ax1.set_xticks([-0.1, 0, 0.2, 0.4, 0.6, 0.8, 1])\n",
    "plt.title((\"Silhouette coefficient PCA KMeans clustering data test with n_clusters = %d\" % selected_n_clus), fontsize=14, fontweight='bold')\n",
    "\n",
    "plt.show()\n",
    "\n",
    "# tambah kolom kluster\n",
    "y_test['cluster'] = pd.Series(y_test_predict)\n"
   ]
  },
  {
   "cell_type": "markdown",
   "metadata": {},
   "source": [
    "#### Evaluate PCA-KM CF test"
   ]
  },
  {
   "cell_type": "code",
   "execution_count": 47,
   "metadata": {
    "scrolled": true
   },
   "outputs": [
    {
     "name": "stdout",
     "output_type": "stream",
     "text": [
      "~~~~~~~~~~~~~ Num of neigbors :  30  ~~~~~~~~~~~~~~~~~\n",
      "############################################################\n",
      "Dataset test:\n",
      "Avg RMSE: 0.7530450892181811\n",
      "Avg MAE: 0.6510499314090272\n"
     ]
    }
   ],
   "source": [
    "avg_rmse_all_neighbors_test1 = []\n",
    "avg_mae_all_neighbors_test1 = []\n",
    "\n",
    "print('~~~~~~~~~~~~~ Num of neigbors : ',selected_n_neighbors,' ~~~~~~~~~~~~~~~~~')    \n",
    "rmse_all_test1 = []\n",
    "mae_all_test1 = []\n",
    "\n",
    "tmp = y_test.copy()\n",
    "n_clus = list(tmp['cluster'].unique())\n",
    "for n in n_clus:\n",
    "    # get data cluster n\n",
    "    dftmp = tmp[tmp['cluster'] == n]\n",
    "\n",
    "\n",
    "    # join with df rating\n",
    "    df_rating = pd.merge(dftmp, dfp[['customer_unique_id', 'product_id', 'rating']],how='left', left_on=['customer_unique_id'], right_on=['customer_unique_id'])\n",
    "\n",
    "    # drop user who only rated below 2 product\n",
    "    user_freq = dict(df_rating['customer_unique_id'].value_counts())\n",
    "    user_list = [key for key, val in user_freq.items() if val < 2]\n",
    "    idx = df_rating[df_rating['customer_unique_id'].isin(user_list)].index\n",
    "    df_rating.drop(idx, axis=0,inplace=True)\n",
    "\n",
    "    # create rating matrix\n",
    "    test_rating_matrix = df_rating.pivot_table(values='rating', index='customer_unique_id', columns='product_id', aggfunc='first')\n",
    "\n",
    "    # get user\n",
    "    cust_unique_id = test_rating_matrix.index\n",
    "    for user in cust_unique_id:\n",
    "        rmse, mae, _ , item_predicted_percentage, avg_n_users = rs_user_evaluation(user, test_rating_matrix, 'neighbors', selected_n_neighbors)        \n",
    "        rmse_all_test1.append(rmse)\n",
    "        mae_all_test1.append(mae)\n",
    "\n",
    "rmse1 = sum(filter(None, rmse_all_test1)) / len(rmse_all_test1)\n",
    "mae1 = sum(filter(None, mae_all_test1)) / len(mae_all_test1)\n",
    "\n",
    "avg_rmse_all_neighbors_test1.append(rmse1)\n",
    "avg_mae_all_neighbors_test1.append(mae1)\n",
    "print('############################################################')\n",
    "print('Dataset test:')\n",
    "print('Avg RMSE:',rmse1)\n",
    "print('Avg MAE:',mae1)"
   ]
  },
  {
   "cell_type": "code",
   "execution_count": null,
   "metadata": {},
   "outputs": [],
   "source": []
  }
 ],
 "metadata": {
  "kernelspec": {
   "display_name": "base2",
   "language": "python",
   "name": "base2"
  },
  "language_info": {
   "codemirror_mode": {
    "name": "ipython",
    "version": 3
   },
   "file_extension": ".py",
   "mimetype": "text/x-python",
   "name": "python",
   "nbconvert_exporter": "python",
   "pygments_lexer": "ipython3",
   "version": "3.7.11"
  }
 },
 "nbformat": 4,
 "nbformat_minor": 4
}
