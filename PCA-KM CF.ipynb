{
 "cells": [
  {
   "cell_type": "markdown",
   "metadata": {},
   "source": [
    "# Sistem Pemberi Rekomendasi Produk E-Commerce Menggunakan PCA dan K-Means Clustering"
   ]
  },
  {
   "cell_type": "code",
   "execution_count": 1,
   "metadata": {},
   "outputs": [],
   "source": [
    "# import libraries\n",
    "import pandas as pd\n",
    "import numpy as np\n",
    "from sklearn.decomposition import PCA\n",
    "from sklearn.model_selection import train_test_split\n",
    "import matplotlib.pyplot as plt\n",
    "import seaborn as sns\n",
    "import math\n",
    "from sklearn.metrics import pairwise_distances\n",
    "from sklearn.cluster import KMeans, AgglomerativeClustering\n",
    "from sklearn.metrics import silhouette_samples, silhouette_score, mean_squared_error, mean_absolute_error\n",
    "from sklearn.preprocessing import StandardScaler, MinMaxScaler\n",
    "from sklearn.model_selection import KFold\n",
    "import matplotlib.cm as cm\n",
    "pd.options.mode.chained_assignment = None  # default='warn'"
   ]
  },
  {
   "cell_type": "markdown",
   "metadata": {},
   "source": [
    "## Preprocessing"
   ]
  },
  {
   "cell_type": "markdown",
   "metadata": {},
   "source": [
    "### Load dataset sport"
   ]
  },
  {
   "cell_type": "code",
   "execution_count": 2,
   "metadata": {},
   "outputs": [
    {
     "data": {
      "text/plain": [
       "(15944, 3)"
      ]
     },
     "execution_count": 2,
     "metadata": {},
     "output_type": "execute_result"
    }
   ],
   "source": [
    "dfp = pd.read_csv('data/olist_sport_rating_dataset.csv')\n",
    "dfp.shape"
   ]
  },
  {
   "cell_type": "code",
   "execution_count": 3,
   "metadata": {},
   "outputs": [],
   "source": [
    "df = pd.read_csv('data/olist_sport_user_dataset.csv')"
   ]
  },
  {
   "cell_type": "code",
   "execution_count": 4,
   "metadata": {
    "scrolled": true
   },
   "outputs": [
    {
     "data": {
      "text/html": [
       "<div>\n",
       "<style scoped>\n",
       "    .dataframe tbody tr th:only-of-type {\n",
       "        vertical-align: middle;\n",
       "    }\n",
       "\n",
       "    .dataframe tbody tr th {\n",
       "        vertical-align: top;\n",
       "    }\n",
       "\n",
       "    .dataframe thead th {\n",
       "        text-align: right;\n",
       "    }\n",
       "</style>\n",
       "<table border=\"1\" class=\"dataframe\">\n",
       "  <thead>\n",
       "    <tr style=\"text-align: right;\">\n",
       "      <th></th>\n",
       "      <th>customer_unique_id</th>\n",
       "      <th>payment_type</th>\n",
       "      <th>total_payment_installments</th>\n",
       "      <th>total_payment_value</th>\n",
       "      <th>geolocation_lat</th>\n",
       "      <th>geolocation_lng</th>\n",
       "      <th>total_payment_sequential</th>\n",
       "    </tr>\n",
       "  </thead>\n",
       "  <tbody>\n",
       "    <tr>\n",
       "      <th>0</th>\n",
       "      <td>00053a61a98854899e70ed204dd4bafe</td>\n",
       "      <td>credit_card</td>\n",
       "      <td>3.0</td>\n",
       "      <td>419.18</td>\n",
       "      <td>-25.4313</td>\n",
       "      <td>-49.2792</td>\n",
       "      <td>1.0</td>\n",
       "    </tr>\n",
       "    <tr>\n",
       "      <th>1</th>\n",
       "      <td>0005ef4cd20d2893f0d9fbd94d3c0d97</td>\n",
       "      <td>credit_card</td>\n",
       "      <td>4.0</td>\n",
       "      <td>129.76</td>\n",
       "      <td>-2.5453</td>\n",
       "      <td>-44.2350</td>\n",
       "      <td>1.0</td>\n",
       "    </tr>\n",
       "    <tr>\n",
       "      <th>2</th>\n",
       "      <td>00115fc7123b5310cf6d3a3aa932699e</td>\n",
       "      <td>credit_card</td>\n",
       "      <td>1.0</td>\n",
       "      <td>76.11</td>\n",
       "      <td>-15.8232</td>\n",
       "      <td>-47.9871</td>\n",
       "      <td>1.0</td>\n",
       "    </tr>\n",
       "    <tr>\n",
       "      <th>3</th>\n",
       "      <td>0019e8c501c85848ac0966d45226fa1d</td>\n",
       "      <td>credit_card</td>\n",
       "      <td>2.0</td>\n",
       "      <td>197.27</td>\n",
       "      <td>-15.6087</td>\n",
       "      <td>-56.0863</td>\n",
       "      <td>1.0</td>\n",
       "    </tr>\n",
       "    <tr>\n",
       "      <th>4</th>\n",
       "      <td>003c2067070f5b3d923235b1ea1cc17b</td>\n",
       "      <td>boleto</td>\n",
       "      <td>1.0</td>\n",
       "      <td>147.38</td>\n",
       "      <td>-6.5833</td>\n",
       "      <td>-40.1389</td>\n",
       "      <td>1.0</td>\n",
       "    </tr>\n",
       "  </tbody>\n",
       "</table>\n",
       "</div>"
      ],
      "text/plain": [
       "                 customer_unique_id payment_type  total_payment_installments  \\\n",
       "0  00053a61a98854899e70ed204dd4bafe  credit_card                         3.0   \n",
       "1  0005ef4cd20d2893f0d9fbd94d3c0d97  credit_card                         4.0   \n",
       "2  00115fc7123b5310cf6d3a3aa932699e  credit_card                         1.0   \n",
       "3  0019e8c501c85848ac0966d45226fa1d  credit_card                         2.0   \n",
       "4  003c2067070f5b3d923235b1ea1cc17b       boleto                         1.0   \n",
       "\n",
       "   total_payment_value  geolocation_lat  geolocation_lng  \\\n",
       "0               419.18         -25.4313         -49.2792   \n",
       "1               129.76          -2.5453         -44.2350   \n",
       "2                76.11         -15.8232         -47.9871   \n",
       "3               197.27         -15.6087         -56.0863   \n",
       "4               147.38          -6.5833         -40.1389   \n",
       "\n",
       "   total_payment_sequential  \n",
       "0                       1.0  \n",
       "1                       1.0  \n",
       "2                       1.0  \n",
       "3                       1.0  \n",
       "4                       1.0  "
      ]
     },
     "execution_count": 4,
     "metadata": {},
     "output_type": "execute_result"
    }
   ],
   "source": [
    "df.head()"
   ]
  },
  {
   "cell_type": "code",
   "execution_count": 5,
   "metadata": {},
   "outputs": [
    {
     "data": {
      "text/html": [
       "<div>\n",
       "<style scoped>\n",
       "    .dataframe tbody tr th:only-of-type {\n",
       "        vertical-align: middle;\n",
       "    }\n",
       "\n",
       "    .dataframe tbody tr th {\n",
       "        vertical-align: top;\n",
       "    }\n",
       "\n",
       "    .dataframe thead th {\n",
       "        text-align: right;\n",
       "    }\n",
       "</style>\n",
       "<table border=\"1\" class=\"dataframe\">\n",
       "  <thead>\n",
       "    <tr style=\"text-align: right;\">\n",
       "      <th></th>\n",
       "      <th>customer_unique_id</th>\n",
       "      <th>payment_type</th>\n",
       "      <th>total_payment_installments</th>\n",
       "      <th>total_payment_value</th>\n",
       "      <th>geolocation_lat</th>\n",
       "      <th>geolocation_lng</th>\n",
       "      <th>total_payment_sequential</th>\n",
       "    </tr>\n",
       "  </thead>\n",
       "  <tbody>\n",
       "    <tr>\n",
       "      <th>count</th>\n",
       "      <td>7422</td>\n",
       "      <td>7422</td>\n",
       "      <td>7422.000000</td>\n",
       "      <td>7422.000000</td>\n",
       "      <td>7422.000000</td>\n",
       "      <td>7422.000000</td>\n",
       "      <td>7422.000000</td>\n",
       "    </tr>\n",
       "    <tr>\n",
       "      <th>unique</th>\n",
       "      <td>7414</td>\n",
       "      <td>4</td>\n",
       "      <td>NaN</td>\n",
       "      <td>NaN</td>\n",
       "      <td>NaN</td>\n",
       "      <td>NaN</td>\n",
       "      <td>NaN</td>\n",
       "    </tr>\n",
       "    <tr>\n",
       "      <th>top</th>\n",
       "      <td>d55417a83a73d1702b43988e63f0731a</td>\n",
       "      <td>credit_card</td>\n",
       "      <td>NaN</td>\n",
       "      <td>NaN</td>\n",
       "      <td>NaN</td>\n",
       "      <td>NaN</td>\n",
       "      <td>NaN</td>\n",
       "    </tr>\n",
       "    <tr>\n",
       "      <th>freq</th>\n",
       "      <td>2</td>\n",
       "      <td>5668</td>\n",
       "      <td>NaN</td>\n",
       "      <td>NaN</td>\n",
       "      <td>NaN</td>\n",
       "      <td>NaN</td>\n",
       "      <td>NaN</td>\n",
       "    </tr>\n",
       "    <tr>\n",
       "      <th>mean</th>\n",
       "      <td>NaN</td>\n",
       "      <td>NaN</td>\n",
       "      <td>2.477953</td>\n",
       "      <td>148.886874</td>\n",
       "      <td>-21.282984</td>\n",
       "      <td>-46.327820</td>\n",
       "      <td>1.021692</td>\n",
       "    </tr>\n",
       "    <tr>\n",
       "      <th>std</th>\n",
       "      <td>NaN</td>\n",
       "      <td>NaN</td>\n",
       "      <td>2.388320</td>\n",
       "      <td>187.418710</td>\n",
       "      <td>5.524935</td>\n",
       "      <td>4.037406</td>\n",
       "      <td>0.501380</td>\n",
       "    </tr>\n",
       "    <tr>\n",
       "      <th>min</th>\n",
       "      <td>NaN</td>\n",
       "      <td>NaN</td>\n",
       "      <td>1.000000</td>\n",
       "      <td>0.050000</td>\n",
       "      <td>-33.689900</td>\n",
       "      <td>-69.261400</td>\n",
       "      <td>1.000000</td>\n",
       "    </tr>\n",
       "    <tr>\n",
       "      <th>25%</th>\n",
       "      <td>NaN</td>\n",
       "      <td>NaN</td>\n",
       "      <td>1.000000</td>\n",
       "      <td>65.000000</td>\n",
       "      <td>-23.602700</td>\n",
       "      <td>-48.404400</td>\n",
       "      <td>1.000000</td>\n",
       "    </tr>\n",
       "    <tr>\n",
       "      <th>50%</th>\n",
       "      <td>NaN</td>\n",
       "      <td>NaN</td>\n",
       "      <td>1.000000</td>\n",
       "      <td>108.880000</td>\n",
       "      <td>-22.943400</td>\n",
       "      <td>-46.654200</td>\n",
       "      <td>1.000000</td>\n",
       "    </tr>\n",
       "    <tr>\n",
       "      <th>75%</th>\n",
       "      <td>NaN</td>\n",
       "      <td>NaN</td>\n",
       "      <td>3.000000</td>\n",
       "      <td>167.185000</td>\n",
       "      <td>-20.188100</td>\n",
       "      <td>-43.920650</td>\n",
       "      <td>1.000000</td>\n",
       "    </tr>\n",
       "    <tr>\n",
       "      <th>max</th>\n",
       "      <td>NaN</td>\n",
       "      <td>NaN</td>\n",
       "      <td>24.000000</td>\n",
       "      <td>4163.510000</td>\n",
       "      <td>3.362100</td>\n",
       "      <td>-34.827400</td>\n",
       "      <td>28.000000</td>\n",
       "    </tr>\n",
       "  </tbody>\n",
       "</table>\n",
       "</div>"
      ],
      "text/plain": [
       "                      customer_unique_id payment_type  \\\n",
       "count                               7422         7422   \n",
       "unique                              7414            4   \n",
       "top     d55417a83a73d1702b43988e63f0731a  credit_card   \n",
       "freq                                   2         5668   \n",
       "mean                                 NaN          NaN   \n",
       "std                                  NaN          NaN   \n",
       "min                                  NaN          NaN   \n",
       "25%                                  NaN          NaN   \n",
       "50%                                  NaN          NaN   \n",
       "75%                                  NaN          NaN   \n",
       "max                                  NaN          NaN   \n",
       "\n",
       "        total_payment_installments  total_payment_value  geolocation_lat  \\\n",
       "count                  7422.000000          7422.000000      7422.000000   \n",
       "unique                         NaN                  NaN              NaN   \n",
       "top                            NaN                  NaN              NaN   \n",
       "freq                           NaN                  NaN              NaN   \n",
       "mean                      2.477953           148.886874       -21.282984   \n",
       "std                       2.388320           187.418710         5.524935   \n",
       "min                       1.000000             0.050000       -33.689900   \n",
       "25%                       1.000000            65.000000       -23.602700   \n",
       "50%                       1.000000           108.880000       -22.943400   \n",
       "75%                       3.000000           167.185000       -20.188100   \n",
       "max                      24.000000          4163.510000         3.362100   \n",
       "\n",
       "        geolocation_lng  total_payment_sequential  \n",
       "count       7422.000000               7422.000000  \n",
       "unique              NaN                       NaN  \n",
       "top                 NaN                       NaN  \n",
       "freq                NaN                       NaN  \n",
       "mean         -46.327820                  1.021692  \n",
       "std            4.037406                  0.501380  \n",
       "min          -69.261400                  1.000000  \n",
       "25%          -48.404400                  1.000000  \n",
       "50%          -46.654200                  1.000000  \n",
       "75%          -43.920650                  1.000000  \n",
       "max          -34.827400                 28.000000  "
      ]
     },
     "execution_count": 5,
     "metadata": {},
     "output_type": "execute_result"
    }
   ],
   "source": [
    "df.describe(include='all')"
   ]
  },
  {
   "cell_type": "markdown",
   "metadata": {},
   "source": [
    "### Missing data treatment"
   ]
  },
  {
   "cell_type": "code",
   "execution_count": 6,
   "metadata": {
    "scrolled": true
   },
   "outputs": [
    {
     "data": {
      "text/html": [
       "<div>\n",
       "<style scoped>\n",
       "    .dataframe tbody tr th:only-of-type {\n",
       "        vertical-align: middle;\n",
       "    }\n",
       "\n",
       "    .dataframe tbody tr th {\n",
       "        vertical-align: top;\n",
       "    }\n",
       "\n",
       "    .dataframe thead th {\n",
       "        text-align: right;\n",
       "    }\n",
       "</style>\n",
       "<table border=\"1\" class=\"dataframe\">\n",
       "  <thead>\n",
       "    <tr style=\"text-align: right;\">\n",
       "      <th></th>\n",
       "      <th>total_payment_installments</th>\n",
       "      <th>total_payment_value</th>\n",
       "      <th>geolocation_lat</th>\n",
       "      <th>geolocation_lng</th>\n",
       "      <th>total_payment_sequential</th>\n",
       "    </tr>\n",
       "  </thead>\n",
       "  <tbody>\n",
       "    <tr>\n",
       "      <th>count</th>\n",
       "      <td>7422.000000</td>\n",
       "      <td>7422.000000</td>\n",
       "      <td>7422.000000</td>\n",
       "      <td>7422.000000</td>\n",
       "      <td>7422.000000</td>\n",
       "    </tr>\n",
       "    <tr>\n",
       "      <th>mean</th>\n",
       "      <td>2.477953</td>\n",
       "      <td>148.886874</td>\n",
       "      <td>-21.282984</td>\n",
       "      <td>-46.327820</td>\n",
       "      <td>1.021692</td>\n",
       "    </tr>\n",
       "    <tr>\n",
       "      <th>std</th>\n",
       "      <td>2.388320</td>\n",
       "      <td>187.418710</td>\n",
       "      <td>5.524935</td>\n",
       "      <td>4.037406</td>\n",
       "      <td>0.501380</td>\n",
       "    </tr>\n",
       "    <tr>\n",
       "      <th>min</th>\n",
       "      <td>1.000000</td>\n",
       "      <td>0.050000</td>\n",
       "      <td>-33.689900</td>\n",
       "      <td>-69.261400</td>\n",
       "      <td>1.000000</td>\n",
       "    </tr>\n",
       "    <tr>\n",
       "      <th>25%</th>\n",
       "      <td>1.000000</td>\n",
       "      <td>65.000000</td>\n",
       "      <td>-23.602700</td>\n",
       "      <td>-48.404400</td>\n",
       "      <td>1.000000</td>\n",
       "    </tr>\n",
       "    <tr>\n",
       "      <th>50%</th>\n",
       "      <td>1.000000</td>\n",
       "      <td>108.880000</td>\n",
       "      <td>-22.943400</td>\n",
       "      <td>-46.654200</td>\n",
       "      <td>1.000000</td>\n",
       "    </tr>\n",
       "    <tr>\n",
       "      <th>75%</th>\n",
       "      <td>3.000000</td>\n",
       "      <td>167.185000</td>\n",
       "      <td>-20.188100</td>\n",
       "      <td>-43.920650</td>\n",
       "      <td>1.000000</td>\n",
       "    </tr>\n",
       "    <tr>\n",
       "      <th>max</th>\n",
       "      <td>24.000000</td>\n",
       "      <td>4163.510000</td>\n",
       "      <td>3.362100</td>\n",
       "      <td>-34.827400</td>\n",
       "      <td>28.000000</td>\n",
       "    </tr>\n",
       "  </tbody>\n",
       "</table>\n",
       "</div>"
      ],
      "text/plain": [
       "       total_payment_installments  total_payment_value  geolocation_lat  \\\n",
       "count                 7422.000000          7422.000000      7422.000000   \n",
       "mean                     2.477953           148.886874       -21.282984   \n",
       "std                      2.388320           187.418710         5.524935   \n",
       "min                      1.000000             0.050000       -33.689900   \n",
       "25%                      1.000000            65.000000       -23.602700   \n",
       "50%                      1.000000           108.880000       -22.943400   \n",
       "75%                      3.000000           167.185000       -20.188100   \n",
       "max                     24.000000          4163.510000         3.362100   \n",
       "\n",
       "       geolocation_lng  total_payment_sequential  \n",
       "count      7422.000000               7422.000000  \n",
       "mean        -46.327820                  1.021692  \n",
       "std           4.037406                  0.501380  \n",
       "min         -69.261400                  1.000000  \n",
       "25%         -48.404400                  1.000000  \n",
       "50%         -46.654200                  1.000000  \n",
       "75%         -43.920650                  1.000000  \n",
       "max         -34.827400                 28.000000  "
      ]
     },
     "execution_count": 6,
     "metadata": {},
     "output_type": "execute_result"
    }
   ],
   "source": [
    "df.describe()"
   ]
  },
  {
   "cell_type": "code",
   "execution_count": 7,
   "metadata": {},
   "outputs": [],
   "source": [
    "# isi null value pada kolom total_payment_sequential dengan nilai median\n",
    "df['total_payment_sequential'].fillna(df['total_payment_sequential'].median(), inplace=True)\n",
    "\n",
    "# isi null value pada kolom total_payment_sequential dengan nilai rata-rata\n",
    "df['total_payment_installments'].fillna(df['total_payment_installments'].mean(), inplace=True)\n",
    "\n",
    "# isi null value pada kolom total_payment_value dengan nilai median\n",
    "df['total_payment_value'].fillna(df['total_payment_value'].median(), inplace=True)\n",
    "\n",
    "# isi null value pada kolom payment_type dengan nilai median\n",
    "df['payment_type'].fillna(df['payment_type'].mode().iloc[0], inplace=True)"
   ]
  },
  {
   "cell_type": "code",
   "execution_count": 8,
   "metadata": {},
   "outputs": [
    {
     "name": "stdout",
     "output_type": "stream",
     "text": [
      "<class 'pandas.core.frame.DataFrame'>\n",
      "RangeIndex: 7422 entries, 0 to 7421\n",
      "Data columns (total 7 columns):\n",
      " #   Column                      Non-Null Count  Dtype  \n",
      "---  ------                      --------------  -----  \n",
      " 0   customer_unique_id          7422 non-null   object \n",
      " 1   payment_type                7422 non-null   object \n",
      " 2   total_payment_installments  7422 non-null   float64\n",
      " 3   total_payment_value         7422 non-null   float64\n",
      " 4   geolocation_lat             7422 non-null   float64\n",
      " 5   geolocation_lng             7422 non-null   float64\n",
      " 6   total_payment_sequential    7422 non-null   float64\n",
      "dtypes: float64(5), object(2)\n",
      "memory usage: 406.0+ KB\n"
     ]
    }
   ],
   "source": [
    "df.info()"
   ]
  },
  {
   "cell_type": "markdown",
   "metadata": {},
   "source": [
    "### Outlier treatment"
   ]
  },
  {
   "cell_type": "code",
   "execution_count": 9,
   "metadata": {},
   "outputs": [
    {
     "name": "stderr",
     "output_type": "stream",
     "text": [
      "E:\\Program Files\\Anaconda3\\lib\\site-packages\\seaborn\\distributions.py:369: UserWarning: Default bandwidth for data is 0; skipping density estimation.\n",
      "  warnings.warn(msg, UserWarning)\n"
     ]
    },
    {
     "data": {
      "image/png": "[encoded data removed]",
      "text/plain": [
       "<Figure size 1080x720 with 6 Axes>"
      ]
     },
     "metadata": {
      "needs_background": "light"
     },
     "output_type": "display_data"
    }
   ],
   "source": [
    "f, ax = plt.subplots(2, 3, figsize=(15,10))\n",
    "vis1 = sns.distplot(df[\"total_payment_sequential\"], bins=10, ax=ax[0][0])\n",
    "vis2 = sns.distplot(df[\"total_payment_installments\"],bins=5, ax= ax[0][1])\n",
    "vis3 = sns.distplot(df[\"total_payment_value\"],bins=10, ax=ax[0][2])\n",
    "vis4 = sns.distplot(df[\"geolocation_lat\"],bins=10, ax=ax[1][0])\n",
    "vis5 = sns.distplot(df[\"geolocation_lng\"],bins=10, ax=ax[1][1])"
   ]
  },
  {
   "cell_type": "code",
   "execution_count": 10,
   "metadata": {},
   "outputs": [
    {
     "data": {
      "image/png": "[encoded data removed]",
      "text/plain": [
       "<Figure size 1152x864 with 5 Axes>"
      ]
     },
     "metadata": {
      "needs_background": "light"
     },
     "output_type": "display_data"
    }
   ],
   "source": [
    "plt.figure(figsize= (16,12))\n",
    "plt.subplot(3,3,1)\n",
    "sns.boxplot(x= df['total_payment_sequential'], color='purple')\n",
    "plt.subplot(3,3,2)\n",
    "sns.boxplot(x= df['total_payment_installments'], color='brown')\n",
    "plt.subplot(3,3,3)\n",
    "sns.boxplot(x= df['total_payment_value'], color='blue')\n",
    "plt.subplot(3,3,4)\n",
    "sns.boxplot(x= df['geolocation_lat'], color='brown')\n",
    "plt.subplot(3,3,5)\n",
    "sns.boxplot(x= df['geolocation_lng'], color='blue')\n",
    "plt.show()"
   ]
  },
  {
   "cell_type": "code",
   "execution_count": 11,
   "metadata": {},
   "outputs": [
    {
     "data": {
      "text/html": [
       "<div>\n",
       "<style scoped>\n",
       "    .dataframe tbody tr th:only-of-type {\n",
       "        vertical-align: middle;\n",
       "    }\n",
       "\n",
       "    .dataframe tbody tr th {\n",
       "        vertical-align: top;\n",
       "    }\n",
       "\n",
       "    .dataframe thead th {\n",
       "        text-align: right;\n",
       "    }\n",
       "</style>\n",
       "<table border=\"1\" class=\"dataframe\">\n",
       "  <thead>\n",
       "    <tr style=\"text-align: right;\">\n",
       "      <th></th>\n",
       "      <th>total_payment_installments</th>\n",
       "      <th>total_payment_value</th>\n",
       "      <th>geolocation_lat</th>\n",
       "      <th>geolocation_lng</th>\n",
       "      <th>total_payment_sequential</th>\n",
       "    </tr>\n",
       "  </thead>\n",
       "  <tbody>\n",
       "    <tr>\n",
       "      <th>count</th>\n",
       "      <td>7422.000000</td>\n",
       "      <td>7422.000000</td>\n",
       "      <td>7422.000000</td>\n",
       "      <td>7422.000000</td>\n",
       "      <td>7422.000000</td>\n",
       "    </tr>\n",
       "    <tr>\n",
       "      <th>mean</th>\n",
       "      <td>2.477953</td>\n",
       "      <td>148.886874</td>\n",
       "      <td>-21.282984</td>\n",
       "      <td>-46.327820</td>\n",
       "      <td>1.021692</td>\n",
       "    </tr>\n",
       "    <tr>\n",
       "      <th>std</th>\n",
       "      <td>2.388320</td>\n",
       "      <td>187.418710</td>\n",
       "      <td>5.524935</td>\n",
       "      <td>4.037406</td>\n",
       "      <td>0.501380</td>\n",
       "    </tr>\n",
       "    <tr>\n",
       "      <th>min</th>\n",
       "      <td>1.000000</td>\n",
       "      <td>0.050000</td>\n",
       "      <td>-33.689900</td>\n",
       "      <td>-69.261400</td>\n",
       "      <td>1.000000</td>\n",
       "    </tr>\n",
       "    <tr>\n",
       "      <th>25%</th>\n",
       "      <td>1.000000</td>\n",
       "      <td>65.000000</td>\n",
       "      <td>-23.602700</td>\n",
       "      <td>-48.404400</td>\n",
       "      <td>1.000000</td>\n",
       "    </tr>\n",
       "    <tr>\n",
       "      <th>50%</th>\n",
       "      <td>1.000000</td>\n",
       "      <td>108.880000</td>\n",
       "      <td>-22.943400</td>\n",
       "      <td>-46.654200</td>\n",
       "      <td>1.000000</td>\n",
       "    </tr>\n",
       "    <tr>\n",
       "      <th>75%</th>\n",
       "      <td>3.000000</td>\n",
       "      <td>167.185000</td>\n",
       "      <td>-20.188100</td>\n",
       "      <td>-43.920650</td>\n",
       "      <td>1.000000</td>\n",
       "    </tr>\n",
       "    <tr>\n",
       "      <th>max</th>\n",
       "      <td>24.000000</td>\n",
       "      <td>4163.510000</td>\n",
       "      <td>3.362100</td>\n",
       "      <td>-34.827400</td>\n",
       "      <td>28.000000</td>\n",
       "    </tr>\n",
       "  </tbody>\n",
       "</table>\n",
       "</div>"
      ],
      "text/plain": [
       "       total_payment_installments  total_payment_value  geolocation_lat  \\\n",
       "count                 7422.000000          7422.000000      7422.000000   \n",
       "mean                     2.477953           148.886874       -21.282984   \n",
       "std                      2.388320           187.418710         5.524935   \n",
       "min                      1.000000             0.050000       -33.689900   \n",
       "25%                      1.000000            65.000000       -23.602700   \n",
       "50%                      1.000000           108.880000       -22.943400   \n",
       "75%                      3.000000           167.185000       -20.188100   \n",
       "max                     24.000000          4163.510000         3.362100   \n",
       "\n",
       "       geolocation_lng  total_payment_sequential  \n",
       "count      7422.000000               7422.000000  \n",
       "mean        -46.327820                  1.021692  \n",
       "std           4.037406                  0.501380  \n",
       "min         -69.261400                  1.000000  \n",
       "25%         -48.404400                  1.000000  \n",
       "50%         -46.654200                  1.000000  \n",
       "75%         -43.920650                  1.000000  \n",
       "max         -34.827400                 28.000000  "
      ]
     },
     "execution_count": 11,
     "metadata": {},
     "output_type": "execute_result"
    }
   ],
   "source": [
    "df.describe()"
   ]
  },
  {
   "cell_type": "markdown",
   "metadata": {},
   "source": [
    "#### Eliminasi outlier dengan Interquartil Range (IQR)"
   ]
  },
  {
   "cell_type": "code",
   "execution_count": 12,
   "metadata": {},
   "outputs": [
    {
     "data": {
      "text/plain": [
       "(7422, 7)"
      ]
     },
     "execution_count": 12,
     "metadata": {},
     "output_type": "execute_result"
    }
   ],
   "source": [
    "df.shape"
   ]
  },
  {
   "cell_type": "code",
   "execution_count": 13,
   "metadata": {},
   "outputs": [
    {
     "name": "stdout",
     "output_type": "stream",
     "text": [
      "total_payment_installments      2.00000\n",
      "total_payment_value           102.18500\n",
      "geolocation_lat                 3.41460\n",
      "geolocation_lng                 4.48375\n",
      "total_payment_sequential        0.00000\n",
      "dtype: float64\n"
     ]
    }
   ],
   "source": [
    "# menghitung jumlah row yg dianggap outlier\n",
    "q1 = df.quantile(0.25)\n",
    "q3 = df.quantile(0.75)\n",
    "IQR = q3 - q1\n",
    "print(IQR)\n",
    "\n",
    "mask = (df < (q1 - 1.5 * IQR)) | (df > (q3 + 1.5 * IQR))\n",
    "dfout = df.copy()\n",
    "dfout[mask] = np.nan"
   ]
  },
  {
   "cell_type": "code",
   "execution_count": 14,
   "metadata": {},
   "outputs": [
    {
     "data": {
      "text/plain": [
       "customer_unique_id               0\n",
       "payment_type                     0\n",
       "total_payment_installments     596\n",
       "total_payment_value            467\n",
       "geolocation_lat               1173\n",
       "geolocation_lng                308\n",
       "total_payment_sequential        42\n",
       "dtype: int64"
      ]
     },
     "execution_count": 14,
     "metadata": {},
     "output_type": "execute_result"
    }
   ],
   "source": [
    "dfout.isna().sum()"
   ]
  },
  {
   "cell_type": "code",
   "execution_count": 15,
   "metadata": {},
   "outputs": [],
   "source": [
    "cleandf = df[~((df < (q1 - 1.5 * IQR)) |(df > (q3 + 1.5 * IQR))).any(axis=1)]\n",
    "# cleandf.shape"
   ]
  },
  {
   "cell_type": "code",
   "execution_count": 16,
   "metadata": {},
   "outputs": [
    {
     "data": {
      "text/html": [
       "<div>\n",
       "<style scoped>\n",
       "    .dataframe tbody tr th:only-of-type {\n",
       "        vertical-align: middle;\n",
       "    }\n",
       "\n",
       "    .dataframe tbody tr th {\n",
       "        vertical-align: top;\n",
       "    }\n",
       "\n",
       "    .dataframe thead th {\n",
       "        text-align: right;\n",
       "    }\n",
       "</style>\n",
       "<table border=\"1\" class=\"dataframe\">\n",
       "  <thead>\n",
       "    <tr style=\"text-align: right;\">\n",
       "      <th></th>\n",
       "      <th>total_payment_installments</th>\n",
       "      <th>total_payment_value</th>\n",
       "      <th>geolocation_lat</th>\n",
       "      <th>geolocation_lng</th>\n",
       "      <th>total_payment_sequential</th>\n",
       "    </tr>\n",
       "  </thead>\n",
       "  <tbody>\n",
       "    <tr>\n",
       "      <th>count</th>\n",
       "      <td>5476.000000</td>\n",
       "      <td>5476.000000</td>\n",
       "      <td>5476.000000</td>\n",
       "      <td>5476.000000</td>\n",
       "      <td>5476.0</td>\n",
       "    </tr>\n",
       "    <tr>\n",
       "      <th>mean</th>\n",
       "      <td>1.807408</td>\n",
       "      <td>109.390414</td>\n",
       "      <td>-22.541442</td>\n",
       "      <td>-46.565584</td>\n",
       "      <td>1.0</td>\n",
       "    </tr>\n",
       "    <tr>\n",
       "      <th>std</th>\n",
       "      <td>1.280788</td>\n",
       "      <td>65.830227</td>\n",
       "      <td>2.422928</td>\n",
       "      <td>2.735688</td>\n",
       "      <td>0.0</td>\n",
       "    </tr>\n",
       "    <tr>\n",
       "      <th>min</th>\n",
       "      <td>1.000000</td>\n",
       "      <td>0.050000</td>\n",
       "      <td>-28.717400</td>\n",
       "      <td>-54.963200</td>\n",
       "      <td>1.0</td>\n",
       "    </tr>\n",
       "    <tr>\n",
       "      <th>25%</th>\n",
       "      <td>1.000000</td>\n",
       "      <td>58.280000</td>\n",
       "      <td>-23.597800</td>\n",
       "      <td>-47.890200</td>\n",
       "      <td>1.0</td>\n",
       "    </tr>\n",
       "    <tr>\n",
       "      <th>50%</th>\n",
       "      <td>1.000000</td>\n",
       "      <td>93.020000</td>\n",
       "      <td>-23.048300</td>\n",
       "      <td>-46.659250</td>\n",
       "      <td>1.0</td>\n",
       "    </tr>\n",
       "    <tr>\n",
       "      <th>75%</th>\n",
       "      <td>2.000000</td>\n",
       "      <td>144.025000</td>\n",
       "      <td>-21.672950</td>\n",
       "      <td>-44.249675</td>\n",
       "      <td>1.0</td>\n",
       "    </tr>\n",
       "    <tr>\n",
       "      <th>max</th>\n",
       "      <td>6.000000</td>\n",
       "      <td>320.230000</td>\n",
       "      <td>-15.152600</td>\n",
       "      <td>-39.041600</td>\n",
       "      <td>1.0</td>\n",
       "    </tr>\n",
       "  </tbody>\n",
       "</table>\n",
       "</div>"
      ],
      "text/plain": [
       "       total_payment_installments  total_payment_value  geolocation_lat  \\\n",
       "count                 5476.000000          5476.000000      5476.000000   \n",
       "mean                     1.807408           109.390414       -22.541442   \n",
       "std                      1.280788            65.830227         2.422928   \n",
       "min                      1.000000             0.050000       -28.717400   \n",
       "25%                      1.000000            58.280000       -23.597800   \n",
       "50%                      1.000000            93.020000       -23.048300   \n",
       "75%                      2.000000           144.025000       -21.672950   \n",
       "max                      6.000000           320.230000       -15.152600   \n",
       "\n",
       "       geolocation_lng  total_payment_sequential  \n",
       "count      5476.000000                    5476.0  \n",
       "mean        -46.565584                       1.0  \n",
       "std           2.735688                       0.0  \n",
       "min         -54.963200                       1.0  \n",
       "25%         -47.890200                       1.0  \n",
       "50%         -46.659250                       1.0  \n",
       "75%         -44.249675                       1.0  \n",
       "max         -39.041600                       1.0  "
      ]
     },
     "execution_count": 16,
     "metadata": {},
     "output_type": "execute_result"
    }
   ],
   "source": [
    "cleandf.describe()"
   ]
  },
  {
   "cell_type": "code",
   "execution_count": 17,
   "metadata": {},
   "outputs": [
    {
     "data": {
      "image/png": "[encoded data removed]",
      "text/plain": [
       "<Figure size 1152x864 with 5 Axes>"
      ]
     },
     "metadata": {
      "needs_background": "light"
     },
     "output_type": "display_data"
    }
   ],
   "source": [
    "plt.figure(figsize= (16,12))\n",
    "plt.subplot(3,3,1)\n",
    "sns.boxplot(x= cleandf['total_payment_sequential'], color='purple')\n",
    "plt.subplot(3,3,2)\n",
    "sns.boxplot(x= cleandf['total_payment_installments'], color='brown')\n",
    "plt.subplot(3,3,3)\n",
    "sns.boxplot(x= cleandf['total_payment_value'], color='blue')\n",
    "plt.subplot(3,3,4)\n",
    "sns.boxplot(x= cleandf['geolocation_lat'], color='brown')\n",
    "plt.subplot(3,3,5)\n",
    "sns.boxplot(x= cleandf['geolocation_lng'], color='blue')\n",
    "plt.show()"
   ]
  },
  {
   "cell_type": "markdown",
   "metadata": {},
   "source": [
    "### Encoding data\n",
    "Mengubah categorical data menjadi numerical data"
   ]
  },
  {
   "cell_type": "code",
   "execution_count": 18,
   "metadata": {},
   "outputs": [],
   "source": [
    "# encode kolom verify dengan nilai True = 1 dan False = 0\n",
    "df_enc = pd.get_dummies(cleandf, columns=[\"payment_type\"])\n",
    "# df_enc.head()"
   ]
  },
  {
   "cell_type": "code",
   "execution_count": 19,
   "metadata": {},
   "outputs": [
    {
     "data": {
      "text/html": [
       "<div>\n",
       "<style scoped>\n",
       "    .dataframe tbody tr th:only-of-type {\n",
       "        vertical-align: middle;\n",
       "    }\n",
       "\n",
       "    .dataframe tbody tr th {\n",
       "        vertical-align: top;\n",
       "    }\n",
       "\n",
       "    .dataframe thead th {\n",
       "        text-align: right;\n",
       "    }\n",
       "</style>\n",
       "<table border=\"1\" class=\"dataframe\">\n",
       "  <thead>\n",
       "    <tr style=\"text-align: right;\">\n",
       "      <th></th>\n",
       "      <th>customer_unique_id</th>\n",
       "      <th>total_payment_installments</th>\n",
       "      <th>total_payment_value</th>\n",
       "      <th>geolocation_lat</th>\n",
       "      <th>geolocation_lng</th>\n",
       "      <th>total_payment_sequential</th>\n",
       "      <th>payment_type_boleto</th>\n",
       "      <th>payment_type_credit_card</th>\n",
       "      <th>payment_type_debit_card</th>\n",
       "      <th>payment_type_voucher</th>\n",
       "    </tr>\n",
       "  </thead>\n",
       "  <tbody>\n",
       "    <tr>\n",
       "      <th>count</th>\n",
       "      <td>5476</td>\n",
       "      <td>5476.000000</td>\n",
       "      <td>5476.000000</td>\n",
       "      <td>5476.000000</td>\n",
       "      <td>5476.000000</td>\n",
       "      <td>5476.0</td>\n",
       "      <td>5476.000000</td>\n",
       "      <td>5476.000000</td>\n",
       "      <td>5476.000000</td>\n",
       "      <td>5476.000000</td>\n",
       "    </tr>\n",
       "    <tr>\n",
       "      <th>unique</th>\n",
       "      <td>5470</td>\n",
       "      <td>NaN</td>\n",
       "      <td>NaN</td>\n",
       "      <td>NaN</td>\n",
       "      <td>NaN</td>\n",
       "      <td>NaN</td>\n",
       "      <td>NaN</td>\n",
       "      <td>NaN</td>\n",
       "      <td>NaN</td>\n",
       "      <td>NaN</td>\n",
       "    </tr>\n",
       "    <tr>\n",
       "      <th>top</th>\n",
       "      <td>d55417a83a73d1702b43988e63f0731a</td>\n",
       "      <td>NaN</td>\n",
       "      <td>NaN</td>\n",
       "      <td>NaN</td>\n",
       "      <td>NaN</td>\n",
       "      <td>NaN</td>\n",
       "      <td>NaN</td>\n",
       "      <td>NaN</td>\n",
       "      <td>NaN</td>\n",
       "      <td>NaN</td>\n",
       "    </tr>\n",
       "    <tr>\n",
       "      <th>freq</th>\n",
       "      <td>2</td>\n",
       "      <td>NaN</td>\n",
       "      <td>NaN</td>\n",
       "      <td>NaN</td>\n",
       "      <td>NaN</td>\n",
       "      <td>NaN</td>\n",
       "      <td>NaN</td>\n",
       "      <td>NaN</td>\n",
       "      <td>NaN</td>\n",
       "      <td>NaN</td>\n",
       "    </tr>\n",
       "    <tr>\n",
       "      <th>mean</th>\n",
       "      <td>NaN</td>\n",
       "      <td>1.807408</td>\n",
       "      <td>109.390414</td>\n",
       "      <td>-22.541442</td>\n",
       "      <td>-46.565584</td>\n",
       "      <td>1.0</td>\n",
       "      <td>0.225164</td>\n",
       "      <td>0.745982</td>\n",
       "      <td>0.016253</td>\n",
       "      <td>0.012600</td>\n",
       "    </tr>\n",
       "    <tr>\n",
       "      <th>std</th>\n",
       "      <td>NaN</td>\n",
       "      <td>1.280788</td>\n",
       "      <td>65.830227</td>\n",
       "      <td>2.422928</td>\n",
       "      <td>2.735688</td>\n",
       "      <td>0.0</td>\n",
       "      <td>0.417729</td>\n",
       "      <td>0.435347</td>\n",
       "      <td>0.126458</td>\n",
       "      <td>0.111552</td>\n",
       "    </tr>\n",
       "    <tr>\n",
       "      <th>min</th>\n",
       "      <td>NaN</td>\n",
       "      <td>1.000000</td>\n",
       "      <td>0.050000</td>\n",
       "      <td>-28.717400</td>\n",
       "      <td>-54.963200</td>\n",
       "      <td>1.0</td>\n",
       "      <td>0.000000</td>\n",
       "      <td>0.000000</td>\n",
       "      <td>0.000000</td>\n",
       "      <td>0.000000</td>\n",
       "    </tr>\n",
       "    <tr>\n",
       "      <th>25%</th>\n",
       "      <td>NaN</td>\n",
       "      <td>1.000000</td>\n",
       "      <td>58.280000</td>\n",
       "      <td>-23.597800</td>\n",
       "      <td>-47.890200</td>\n",
       "      <td>1.0</td>\n",
       "      <td>0.000000</td>\n",
       "      <td>0.000000</td>\n",
       "      <td>0.000000</td>\n",
       "      <td>0.000000</td>\n",
       "    </tr>\n",
       "    <tr>\n",
       "      <th>50%</th>\n",
       "      <td>NaN</td>\n",
       "      <td>1.000000</td>\n",
       "      <td>93.020000</td>\n",
       "      <td>-23.048300</td>\n",
       "      <td>-46.659250</td>\n",
       "      <td>1.0</td>\n",
       "      <td>0.000000</td>\n",
       "      <td>1.000000</td>\n",
       "      <td>0.000000</td>\n",
       "      <td>0.000000</td>\n",
       "    </tr>\n",
       "    <tr>\n",
       "      <th>75%</th>\n",
       "      <td>NaN</td>\n",
       "      <td>2.000000</td>\n",
       "      <td>144.025000</td>\n",
       "      <td>-21.672950</td>\n",
       "      <td>-44.249675</td>\n",
       "      <td>1.0</td>\n",
       "      <td>0.000000</td>\n",
       "      <td>1.000000</td>\n",
       "      <td>0.000000</td>\n",
       "      <td>0.000000</td>\n",
       "    </tr>\n",
       "    <tr>\n",
       "      <th>max</th>\n",
       "      <td>NaN</td>\n",
       "      <td>6.000000</td>\n",
       "      <td>320.230000</td>\n",
       "      <td>-15.152600</td>\n",
       "      <td>-39.041600</td>\n",
       "      <td>1.0</td>\n",
       "      <td>1.000000</td>\n",
       "      <td>1.000000</td>\n",
       "      <td>1.000000</td>\n",
       "      <td>1.000000</td>\n",
       "    </tr>\n",
       "  </tbody>\n",
       "</table>\n",
       "</div>"
      ],
      "text/plain": [
       "                      customer_unique_id  total_payment_installments  \\\n",
       "count                               5476                 5476.000000   \n",
       "unique                              5470                         NaN   \n",
       "top     d55417a83a73d1702b43988e63f0731a                         NaN   \n",
       "freq                                   2                         NaN   \n",
       "mean                                 NaN                    1.807408   \n",
       "std                                  NaN                    1.280788   \n",
       "min                                  NaN                    1.000000   \n",
       "25%                                  NaN                    1.000000   \n",
       "50%                                  NaN                    1.000000   \n",
       "75%                                  NaN                    2.000000   \n",
       "max                                  NaN                    6.000000   \n",
       "\n",
       "        total_payment_value  geolocation_lat  geolocation_lng  \\\n",
       "count           5476.000000      5476.000000      5476.000000   \n",
       "unique                  NaN              NaN              NaN   \n",
       "top                     NaN              NaN              NaN   \n",
       "freq                    NaN              NaN              NaN   \n",
       "mean             109.390414       -22.541442       -46.565584   \n",
       "std               65.830227         2.422928         2.735688   \n",
       "min                0.050000       -28.717400       -54.963200   \n",
       "25%               58.280000       -23.597800       -47.890200   \n",
       "50%               93.020000       -23.048300       -46.659250   \n",
       "75%              144.025000       -21.672950       -44.249675   \n",
       "max              320.230000       -15.152600       -39.041600   \n",
       "\n",
       "        total_payment_sequential  payment_type_boleto  \\\n",
       "count                     5476.0          5476.000000   \n",
       "unique                       NaN                  NaN   \n",
       "top                          NaN                  NaN   \n",
       "freq                         NaN                  NaN   \n",
       "mean                         1.0             0.225164   \n",
       "std                          0.0             0.417729   \n",
       "min                          1.0             0.000000   \n",
       "25%                          1.0             0.000000   \n",
       "50%                          1.0             0.000000   \n",
       "75%                          1.0             0.000000   \n",
       "max                          1.0             1.000000   \n",
       "\n",
       "        payment_type_credit_card  payment_type_debit_card  \\\n",
       "count                5476.000000              5476.000000   \n",
       "unique                       NaN                      NaN   \n",
       "top                          NaN                      NaN   \n",
       "freq                         NaN                      NaN   \n",
       "mean                    0.745982                 0.016253   \n",
       "std                     0.435347                 0.126458   \n",
       "min                     0.000000                 0.000000   \n",
       "25%                     0.000000                 0.000000   \n",
       "50%                     1.000000                 0.000000   \n",
       "75%                     1.000000                 0.000000   \n",
       "max                     1.000000                 1.000000   \n",
       "\n",
       "        payment_type_voucher  \n",
       "count            5476.000000  \n",
       "unique                   NaN  \n",
       "top                      NaN  \n",
       "freq                     NaN  \n",
       "mean                0.012600  \n",
       "std                 0.111552  \n",
       "min                 0.000000  \n",
       "25%                 0.000000  \n",
       "50%                 0.000000  \n",
       "75%                 0.000000  \n",
       "max                 1.000000  "
      ]
     },
     "execution_count": 19,
     "metadata": {},
     "output_type": "execute_result"
    }
   ],
   "source": [
    "df_enc.describe(include='all')"
   ]
  },
  {
   "cell_type": "markdown",
   "metadata": {},
   "source": [
    "### Agregasi data"
   ]
  },
  {
   "cell_type": "code",
   "execution_count": 20,
   "metadata": {},
   "outputs": [
    {
     "data": {
      "text/plain": [
       "(5470, 10)"
      ]
     },
     "execution_count": 20,
     "metadata": {},
     "output_type": "execute_result"
    }
   ],
   "source": [
    "# menyederhanakan df_sample_tmp\n",
    "df_sample = pd.DataFrame()\n",
    "df_sample['total_payment_installments'] = df_enc.groupby(['customer_unique_id'])['total_payment_installments'].mean()\n",
    "df_sample['total_payment_value'] = df_enc.groupby(['customer_unique_id'])['total_payment_value'].mean()\n",
    "df_sample['geolocation_lat'] = df_enc.groupby(['customer_unique_id'])['geolocation_lat'].mean()\n",
    "df_sample['geolocation_lng'] = df_enc.groupby(['customer_unique_id'])['geolocation_lng'].mean()\n",
    "df_sample['total_payment_sequential'] = df_enc.groupby(['customer_unique_id'])['total_payment_sequential'].mean()\n",
    "df_sample['payment_type_boleto'] = df_enc.groupby(['customer_unique_id'])['payment_type_boleto'].sum()\n",
    "df_sample['payment_type_credit_card'] = df_enc.groupby(['customer_unique_id'])['payment_type_credit_card'].sum()\n",
    "df_sample['payment_type_debit_card'] = df_enc.groupby(['customer_unique_id'])['payment_type_debit_card'].sum()\n",
    "df_sample['payment_type_voucher'] = df_enc.groupby(['customer_unique_id'])['payment_type_voucher'].sum()\n",
    "df_sample.reset_index(drop=False, inplace=True)\n",
    "df_sample.shape"
   ]
  },
  {
   "cell_type": "code",
   "execution_count": 21,
   "metadata": {},
   "outputs": [],
   "source": [
    "# menentukan X dan y dataset\n",
    "X = df_sample.copy()\n",
    "X.drop(['customer_unique_id'], inplace=True, axis=1)\n",
    "\n",
    "# y untuk statified splitting data\n",
    "y = df_sample.loc[:, [\"customer_unique_id\"]]\n"
   ]
  },
  {
   "cell_type": "code",
   "execution_count": 22,
   "metadata": {},
   "outputs": [
    {
     "data": {
      "text/html": [
       "<div>\n",
       "<style scoped>\n",
       "    .dataframe tbody tr th:only-of-type {\n",
       "        vertical-align: middle;\n",
       "    }\n",
       "\n",
       "    .dataframe tbody tr th {\n",
       "        vertical-align: top;\n",
       "    }\n",
       "\n",
       "    .dataframe thead th {\n",
       "        text-align: right;\n",
       "    }\n",
       "</style>\n",
       "<table border=\"1\" class=\"dataframe\">\n",
       "  <thead>\n",
       "    <tr style=\"text-align: right;\">\n",
       "      <th></th>\n",
       "      <th>total_payment_installments</th>\n",
       "      <th>total_payment_value</th>\n",
       "      <th>geolocation_lat</th>\n",
       "      <th>geolocation_lng</th>\n",
       "      <th>total_payment_sequential</th>\n",
       "      <th>payment_type_boleto</th>\n",
       "      <th>payment_type_credit_card</th>\n",
       "      <th>payment_type_debit_card</th>\n",
       "      <th>payment_type_voucher</th>\n",
       "    </tr>\n",
       "  </thead>\n",
       "  <tbody>\n",
       "    <tr>\n",
       "      <th>0</th>\n",
       "      <td>1.0</td>\n",
       "      <td>76.11</td>\n",
       "      <td>-15.8232</td>\n",
       "      <td>-47.9871</td>\n",
       "      <td>1.0</td>\n",
       "      <td>0</td>\n",
       "      <td>1</td>\n",
       "      <td>0</td>\n",
       "      <td>0</td>\n",
       "    </tr>\n",
       "    <tr>\n",
       "      <th>1</th>\n",
       "      <td>1.0</td>\n",
       "      <td>103.47</td>\n",
       "      <td>-22.2848</td>\n",
       "      <td>-42.5317</td>\n",
       "      <td>1.0</td>\n",
       "      <td>1</td>\n",
       "      <td>0</td>\n",
       "      <td>0</td>\n",
       "      <td>0</td>\n",
       "    </tr>\n",
       "    <tr>\n",
       "      <th>2</th>\n",
       "      <td>1.0</td>\n",
       "      <td>158.74</td>\n",
       "      <td>-23.6295</td>\n",
       "      <td>-46.5241</td>\n",
       "      <td>1.0</td>\n",
       "      <td>1</td>\n",
       "      <td>0</td>\n",
       "      <td>0</td>\n",
       "      <td>0</td>\n",
       "    </tr>\n",
       "    <tr>\n",
       "      <th>3</th>\n",
       "      <td>1.0</td>\n",
       "      <td>94.35</td>\n",
       "      <td>-23.5364</td>\n",
       "      <td>-46.7960</td>\n",
       "      <td>1.0</td>\n",
       "      <td>1</td>\n",
       "      <td>0</td>\n",
       "      <td>0</td>\n",
       "      <td>0</td>\n",
       "    </tr>\n",
       "    <tr>\n",
       "      <th>4</th>\n",
       "      <td>1.0</td>\n",
       "      <td>123.39</td>\n",
       "      <td>-19.8629</td>\n",
       "      <td>-43.8607</td>\n",
       "      <td>1.0</td>\n",
       "      <td>1</td>\n",
       "      <td>0</td>\n",
       "      <td>0</td>\n",
       "      <td>0</td>\n",
       "    </tr>\n",
       "  </tbody>\n",
       "</table>\n",
       "</div>"
      ],
      "text/plain": [
       "   total_payment_installments  total_payment_value  geolocation_lat  \\\n",
       "0                         1.0                76.11         -15.8232   \n",
       "1                         1.0               103.47         -22.2848   \n",
       "2                         1.0               158.74         -23.6295   \n",
       "3                         1.0                94.35         -23.5364   \n",
       "4                         1.0               123.39         -19.8629   \n",
       "\n",
       "   geolocation_lng  total_payment_sequential  payment_type_boleto  \\\n",
       "0         -47.9871                       1.0                    0   \n",
       "1         -42.5317                       1.0                    1   \n",
       "2         -46.5241                       1.0                    1   \n",
       "3         -46.7960                       1.0                    1   \n",
       "4         -43.8607                       1.0                    1   \n",
       "\n",
       "   payment_type_credit_card  payment_type_debit_card  payment_type_voucher  \n",
       "0                         1                        0                     0  \n",
       "1                         0                        0                     0  \n",
       "2                         0                        0                     0  \n",
       "3                         0                        0                     0  \n",
       "4                         0                        0                     0  "
      ]
     },
     "execution_count": 22,
     "metadata": {},
     "output_type": "execute_result"
    }
   ],
   "source": [
    "X.head()"
   ]
  },
  {
   "cell_type": "markdown",
   "metadata": {},
   "source": [
    "### K-Fold Cross Validation"
   ]
  },
  {
   "cell_type": "code",
   "execution_count": 23,
   "metadata": {},
   "outputs": [],
   "source": [
    "\n",
    "kf = KFold(n_splits=5, random_state=3, shuffle=True)"
   ]
  },
  {
   "cell_type": "code",
   "execution_count": 24,
   "metadata": {},
   "outputs": [],
   "source": [
    "X_train, X_test, y_train, y_test = train_test_split(X, y, test_size=0.2, random_state=1)\n",
    "X_train.reset_index(drop=True, inplace=True)\n",
    "X_test.reset_index(drop=True, inplace=True)\n",
    "y_train.reset_index(drop=True, inplace=True)\n",
    "y_test.reset_index(drop=True, inplace=True)"
   ]
  },
  {
   "cell_type": "code",
   "execution_count": 25,
   "metadata": {},
   "outputs": [
    {
     "name": "stdout",
     "output_type": "stream",
     "text": [
      "(4376, 9)\n",
      "(1094, 9)\n"
     ]
    }
   ],
   "source": [
    "print(X_train.shape)\n",
    "print(X_test.shape)"
   ]
  },
  {
   "cell_type": "code",
   "execution_count": 26,
   "metadata": {},
   "outputs": [],
   "source": [
    "# buat kopian df untuk metode pembanding\n",
    "# km-cf\n",
    "X_train2 = X_train.copy()\n",
    "X_test2 = X_test.copy()\n",
    "y_train2 = y_train.copy()\n",
    "y_test2 = y_test.copy()\n",
    "\n",
    "# hc-cf\n",
    "X_train3 = X_train.copy()\n",
    "X_test3 = X_test.copy()\n",
    "y_train3 = y_train.copy()\n",
    "y_test3 = y_test.copy()\n",
    "\n",
    "# cf\n",
    "X_train4 = X_train.copy()\n",
    "X_test4 = X_test.copy()\n",
    "y_train4 = y_train.copy()\n",
    "y_test4 = y_test.copy()\n"
   ]
  },
  {
   "cell_type": "markdown",
   "metadata": {},
   "source": [
    "#### Standardize data"
   ]
  },
  {
   "cell_type": "code",
   "execution_count": 27,
   "metadata": {},
   "outputs": [
    {
     "data": {
      "text/html": [
       "<div>\n",
       "<style scoped>\n",
       "    .dataframe tbody tr th:only-of-type {\n",
       "        vertical-align: middle;\n",
       "    }\n",
       "\n",
       "    .dataframe tbody tr th {\n",
       "        vertical-align: top;\n",
       "    }\n",
       "\n",
       "    .dataframe thead th {\n",
       "        text-align: right;\n",
       "    }\n",
       "</style>\n",
       "<table border=\"1\" class=\"dataframe\">\n",
       "  <thead>\n",
       "    <tr style=\"text-align: right;\">\n",
       "      <th></th>\n",
       "      <th>total_payment_installments</th>\n",
       "      <th>total_payment_value</th>\n",
       "      <th>geolocation_lat</th>\n",
       "      <th>geolocation_lng</th>\n",
       "      <th>total_payment_sequential</th>\n",
       "      <th>payment_type_boleto</th>\n",
       "      <th>payment_type_credit_card</th>\n",
       "      <th>payment_type_debit_card</th>\n",
       "      <th>payment_type_voucher</th>\n",
       "    </tr>\n",
       "  </thead>\n",
       "  <tbody>\n",
       "    <tr>\n",
       "      <th>count</th>\n",
       "      <td>4376.000000</td>\n",
       "      <td>4376.000000</td>\n",
       "      <td>4376.000000</td>\n",
       "      <td>4376.000000</td>\n",
       "      <td>4376.0</td>\n",
       "      <td>4376.000000</td>\n",
       "      <td>4376.000000</td>\n",
       "      <td>4376.000000</td>\n",
       "      <td>4376.000000</td>\n",
       "    </tr>\n",
       "    <tr>\n",
       "      <th>mean</th>\n",
       "      <td>1.805385</td>\n",
       "      <td>109.314465</td>\n",
       "      <td>-22.543019</td>\n",
       "      <td>-46.562386</td>\n",
       "      <td>1.0</td>\n",
       "      <td>0.223720</td>\n",
       "      <td>0.749543</td>\n",
       "      <td>0.015311</td>\n",
       "      <td>0.012797</td>\n",
       "    </tr>\n",
       "    <tr>\n",
       "      <th>std</th>\n",
       "      <td>1.269390</td>\n",
       "      <td>65.457421</td>\n",
       "      <td>2.430718</td>\n",
       "      <td>2.731679</td>\n",
       "      <td>0.0</td>\n",
       "      <td>0.416784</td>\n",
       "      <td>0.433326</td>\n",
       "      <td>0.122800</td>\n",
       "      <td>0.112411</td>\n",
       "    </tr>\n",
       "    <tr>\n",
       "      <th>min</th>\n",
       "      <td>1.000000</td>\n",
       "      <td>0.050000</td>\n",
       "      <td>-28.717400</td>\n",
       "      <td>-54.963200</td>\n",
       "      <td>1.0</td>\n",
       "      <td>0.000000</td>\n",
       "      <td>0.000000</td>\n",
       "      <td>0.000000</td>\n",
       "      <td>0.000000</td>\n",
       "    </tr>\n",
       "    <tr>\n",
       "      <th>25%</th>\n",
       "      <td>1.000000</td>\n",
       "      <td>58.710000</td>\n",
       "      <td>-23.599600</td>\n",
       "      <td>-47.887500</td>\n",
       "      <td>1.0</td>\n",
       "      <td>0.000000</td>\n",
       "      <td>0.000000</td>\n",
       "      <td>0.000000</td>\n",
       "      <td>0.000000</td>\n",
       "    </tr>\n",
       "    <tr>\n",
       "      <th>50%</th>\n",
       "      <td>1.000000</td>\n",
       "      <td>93.875000</td>\n",
       "      <td>-23.081650</td>\n",
       "      <td>-46.659200</td>\n",
       "      <td>1.0</td>\n",
       "      <td>0.000000</td>\n",
       "      <td>1.000000</td>\n",
       "      <td>0.000000</td>\n",
       "      <td>0.000000</td>\n",
       "    </tr>\n",
       "    <tr>\n",
       "      <th>75%</th>\n",
       "      <td>2.000000</td>\n",
       "      <td>143.572500</td>\n",
       "      <td>-21.673900</td>\n",
       "      <td>-44.259200</td>\n",
       "      <td>1.0</td>\n",
       "      <td>0.000000</td>\n",
       "      <td>1.000000</td>\n",
       "      <td>0.000000</td>\n",
       "      <td>0.000000</td>\n",
       "    </tr>\n",
       "    <tr>\n",
       "      <th>max</th>\n",
       "      <td>6.000000</td>\n",
       "      <td>320.230000</td>\n",
       "      <td>-15.152600</td>\n",
       "      <td>-39.075600</td>\n",
       "      <td>1.0</td>\n",
       "      <td>1.000000</td>\n",
       "      <td>1.000000</td>\n",
       "      <td>1.000000</td>\n",
       "      <td>1.000000</td>\n",
       "    </tr>\n",
       "  </tbody>\n",
       "</table>\n",
       "</div>"
      ],
      "text/plain": [
       "       total_payment_installments  total_payment_value  geolocation_lat  \\\n",
       "count                 4376.000000          4376.000000      4376.000000   \n",
       "mean                     1.805385           109.314465       -22.543019   \n",
       "std                      1.269390            65.457421         2.430718   \n",
       "min                      1.000000             0.050000       -28.717400   \n",
       "25%                      1.000000            58.710000       -23.599600   \n",
       "50%                      1.000000            93.875000       -23.081650   \n",
       "75%                      2.000000           143.572500       -21.673900   \n",
       "max                      6.000000           320.230000       -15.152600   \n",
       "\n",
       "       geolocation_lng  total_payment_sequential  payment_type_boleto  \\\n",
       "count      4376.000000                    4376.0          4376.000000   \n",
       "mean        -46.562386                       1.0             0.223720   \n",
       "std           2.731679                       0.0             0.416784   \n",
       "min         -54.963200                       1.0             0.000000   \n",
       "25%         -47.887500                       1.0             0.000000   \n",
       "50%         -46.659200                       1.0             0.000000   \n",
       "75%         -44.259200                       1.0             0.000000   \n",
       "max         -39.075600                       1.0             1.000000   \n",
       "\n",
       "       payment_type_credit_card  payment_type_debit_card  payment_type_voucher  \n",
       "count               4376.000000              4376.000000           4376.000000  \n",
       "mean                   0.749543                 0.015311              0.012797  \n",
       "std                    0.433326                 0.122800              0.112411  \n",
       "min                    0.000000                 0.000000              0.000000  \n",
       "25%                    0.000000                 0.000000              0.000000  \n",
       "50%                    1.000000                 0.000000              0.000000  \n",
       "75%                    1.000000                 0.000000              0.000000  \n",
       "max                    1.000000                 1.000000              1.000000  "
      ]
     },
     "execution_count": 27,
     "metadata": {},
     "output_type": "execute_result"
    }
   ],
   "source": [
    "X_train.describe()"
   ]
  },
  {
   "cell_type": "code",
   "execution_count": 28,
   "metadata": {},
   "outputs": [],
   "source": [
    "sc = StandardScaler()\n",
    "X_train[['total_payment_installments', 'total_payment_value','geolocation_lat', 'geolocation_lng']] = sc.fit_transform(X_train[['total_payment_installments', 'total_payment_value','geolocation_lat', 'geolocation_lng']])\n",
    "X_test[['total_payment_installments', 'total_payment_value','geolocation_lat', 'geolocation_lng']] = sc.fit_transform(X_test[['total_payment_installments', 'total_payment_value','geolocation_lat', 'geolocation_lng']])\n",
    "\n",
    "# X_train[X_train.iloc[:, 1:]] = sc.fit_transform(X_train.iloc[:, 1:])\n",
    "# X_test[X_test.iloc[:, 1:]] = sc.fit_transform(X_test.iloc[:, 1:])\n"
   ]
  },
  {
   "cell_type": "code",
   "execution_count": 29,
   "metadata": {},
   "outputs": [
    {
     "data": {
      "text/html": [
       "<div>\n",
       "<style scoped>\n",
       "    .dataframe tbody tr th:only-of-type {\n",
       "        vertical-align: middle;\n",
       "    }\n",
       "\n",
       "    .dataframe tbody tr th {\n",
       "        vertical-align: top;\n",
       "    }\n",
       "\n",
       "    .dataframe thead th {\n",
       "        text-align: right;\n",
       "    }\n",
       "</style>\n",
       "<table border=\"1\" class=\"dataframe\">\n",
       "  <thead>\n",
       "    <tr style=\"text-align: right;\">\n",
       "      <th></th>\n",
       "      <th>total_payment_installments</th>\n",
       "      <th>total_payment_value</th>\n",
       "      <th>geolocation_lat</th>\n",
       "      <th>geolocation_lng</th>\n",
       "      <th>total_payment_sequential</th>\n",
       "      <th>payment_type_boleto</th>\n",
       "      <th>payment_type_credit_card</th>\n",
       "      <th>payment_type_debit_card</th>\n",
       "      <th>payment_type_voucher</th>\n",
       "    </tr>\n",
       "  </thead>\n",
       "  <tbody>\n",
       "    <tr>\n",
       "      <th>0</th>\n",
       "      <td>-0.634538</td>\n",
       "      <td>-1.166150</td>\n",
       "      <td>-0.449417</td>\n",
       "      <td>-0.005827</td>\n",
       "      <td>1.0</td>\n",
       "      <td>0</td>\n",
       "      <td>1</td>\n",
       "      <td>0</td>\n",
       "      <td>0</td>\n",
       "    </tr>\n",
       "    <tr>\n",
       "      <th>1</th>\n",
       "      <td>1.729071</td>\n",
       "      <td>3.140194</td>\n",
       "      <td>0.901737</td>\n",
       "      <td>2.245756</td>\n",
       "      <td>1.0</td>\n",
       "      <td>0</td>\n",
       "      <td>1</td>\n",
       "      <td>0</td>\n",
       "      <td>0</td>\n",
       "    </tr>\n",
       "    <tr>\n",
       "      <th>2</th>\n",
       "      <td>-0.634538</td>\n",
       "      <td>-0.641016</td>\n",
       "      <td>-0.440324</td>\n",
       "      <td>-0.014906</td>\n",
       "      <td>1.0</td>\n",
       "      <td>0</td>\n",
       "      <td>0</td>\n",
       "      <td>1</td>\n",
       "      <td>0</td>\n",
       "    </tr>\n",
       "    <tr>\n",
       "      <th>3</th>\n",
       "      <td>-0.634538</td>\n",
       "      <td>0.142483</td>\n",
       "      <td>-0.393583</td>\n",
       "      <td>0.032726</td>\n",
       "      <td>1.0</td>\n",
       "      <td>0</td>\n",
       "      <td>1</td>\n",
       "      <td>0</td>\n",
       "      <td>0</td>\n",
       "    </tr>\n",
       "    <tr>\n",
       "      <th>4</th>\n",
       "      <td>0.153331</td>\n",
       "      <td>0.593210</td>\n",
       "      <td>1.074710</td>\n",
       "      <td>0.961564</td>\n",
       "      <td>1.0</td>\n",
       "      <td>0</td>\n",
       "      <td>1</td>\n",
       "      <td>0</td>\n",
       "      <td>0</td>\n",
       "    </tr>\n",
       "  </tbody>\n",
       "</table>\n",
       "</div>"
      ],
      "text/plain": [
       "   total_payment_installments  total_payment_value  geolocation_lat  \\\n",
       "0                   -0.634538            -1.166150        -0.449417   \n",
       "1                    1.729071             3.140194         0.901737   \n",
       "2                   -0.634538            -0.641016        -0.440324   \n",
       "3                   -0.634538             0.142483        -0.393583   \n",
       "4                    0.153331             0.593210         1.074710   \n",
       "\n",
       "   geolocation_lng  total_payment_sequential  payment_type_boleto  \\\n",
       "0        -0.005827                       1.0                    0   \n",
       "1         2.245756                       1.0                    0   \n",
       "2        -0.014906                       1.0                    0   \n",
       "3         0.032726                       1.0                    0   \n",
       "4         0.961564                       1.0                    0   \n",
       "\n",
       "   payment_type_credit_card  payment_type_debit_card  payment_type_voucher  \n",
       "0                         1                        0                     0  \n",
       "1                         1                        0                     0  \n",
       "2                         0                        1                     0  \n",
       "3                         1                        0                     0  \n",
       "4                         1                        0                     0  "
      ]
     },
     "execution_count": 29,
     "metadata": {},
     "output_type": "execute_result"
    }
   ],
   "source": [
    "X_train.head()"
   ]
  },
  {
   "cell_type": "markdown",
   "metadata": {},
   "source": [
    "#### Create K-Fold"
   ]
  },
  {
   "cell_type": "code",
   "execution_count": 30,
   "metadata": {},
   "outputs": [],
   "source": [
    "X_train_cv = []\n",
    "X_val_cv = []\n",
    "y_train_cv = []\n",
    "y_val_cv = []\n",
    "\n",
    "i = 0\n",
    "for train_index, val_index in kf.split(X_train):\n",
    "    X_train_cv.append(X_train.iloc[train_index,:])\n",
    "    X_val_cv.append(X_train.iloc[val_index,:])\n",
    "    y_train_cv.append(y_train.iloc[train_index,:])\n",
    "    y_val_cv.append(y_train.iloc[val_index,:])\n",
    "    \n",
    "    \n",
    "    X_train_cv[i].reset_index(drop=True, inplace=True)\n",
    "    y_train_cv[i].reset_index(drop=True, inplace=True)\n",
    "    X_val_cv[i].reset_index(drop=True, inplace=True)\n",
    "    y_val_cv[i].reset_index(drop=True, inplace=True)\n",
    "    \n",
    "    i += 1"
   ]
  },
  {
   "cell_type": "markdown",
   "metadata": {},
   "source": [
    "### Implementasi dimensionality reduction menggunakan PCA"
   ]
  },
  {
   "cell_type": "code",
   "execution_count": 31,
   "metadata": {
    "scrolled": true
   },
   "outputs": [
    {
     "data": {
      "text/html": [
       "<div>\n",
       "<style scoped>\n",
       "    .dataframe tbody tr th:only-of-type {\n",
       "        vertical-align: middle;\n",
       "    }\n",
       "\n",
       "    .dataframe tbody tr th {\n",
       "        vertical-align: top;\n",
       "    }\n",
       "\n",
       "    .dataframe thead th {\n",
       "        text-align: right;\n",
       "    }\n",
       "</style>\n",
       "<table border=\"1\" class=\"dataframe\">\n",
       "  <thead>\n",
       "    <tr style=\"text-align: right;\">\n",
       "      <th></th>\n",
       "      <th>total_payment_installments</th>\n",
       "      <th>total_payment_value</th>\n",
       "      <th>geolocation_lat</th>\n",
       "      <th>geolocation_lng</th>\n",
       "    </tr>\n",
       "  </thead>\n",
       "  <tbody>\n",
       "    <tr>\n",
       "      <th>0</th>\n",
       "      <td>1.729071</td>\n",
       "      <td>3.140194</td>\n",
       "      <td>0.901737</td>\n",
       "      <td>2.245756</td>\n",
       "    </tr>\n",
       "    <tr>\n",
       "      <th>1</th>\n",
       "      <td>-0.634538</td>\n",
       "      <td>-0.641016</td>\n",
       "      <td>-0.440324</td>\n",
       "      <td>-0.014906</td>\n",
       "    </tr>\n",
       "    <tr>\n",
       "      <th>2</th>\n",
       "      <td>-0.634538</td>\n",
       "      <td>0.142483</td>\n",
       "      <td>-0.393583</td>\n",
       "      <td>0.032726</td>\n",
       "    </tr>\n",
       "    <tr>\n",
       "      <th>3</th>\n",
       "      <td>0.153331</td>\n",
       "      <td>0.593210</td>\n",
       "      <td>1.074710</td>\n",
       "      <td>0.961564</td>\n",
       "    </tr>\n",
       "    <tr>\n",
       "      <th>4</th>\n",
       "      <td>-0.634538</td>\n",
       "      <td>0.151804</td>\n",
       "      <td>-0.465751</td>\n",
       "      <td>-0.081759</td>\n",
       "    </tr>\n",
       "  </tbody>\n",
       "</table>\n",
       "</div>"
      ],
      "text/plain": [
       "   total_payment_installments  total_payment_value  geolocation_lat  \\\n",
       "0                    1.729071             3.140194         0.901737   \n",
       "1                   -0.634538            -0.641016        -0.440324   \n",
       "2                   -0.634538             0.142483        -0.393583   \n",
       "3                    0.153331             0.593210         1.074710   \n",
       "4                   -0.634538             0.151804        -0.465751   \n",
       "\n",
       "   geolocation_lng  \n",
       "0         2.245756  \n",
       "1        -0.014906  \n",
       "2         0.032726  \n",
       "3         0.961564  \n",
       "4        -0.081759  "
      ]
     },
     "execution_count": 31,
     "metadata": {},
     "output_type": "execute_result"
    }
   ],
   "source": [
    "X_train_cv[0].iloc[:5,:4]"
   ]
  },
  {
   "cell_type": "code",
   "execution_count": 32,
   "metadata": {},
   "outputs": [
    {
     "name": "stdout",
     "output_type": "stream",
     "text": [
      "Fold:  0\n",
      "n_component:  4\n",
      "pca.explained_variance_ratio_ : [0.32498077 0.31113713 0.18517336 0.17870874]\n",
      "explained variance % : 100.0\n",
      "Fold:  1\n",
      "n_component:  4\n",
      "pca.explained_variance_ratio_ : [0.32494092 0.30964572 0.18806361 0.17734974]\n",
      "explained variance % : 100.0\n",
      "Fold:  2\n",
      "n_component:  4\n",
      "pca.explained_variance_ratio_ : [0.32056929 0.30884262 0.18992751 0.18066059]\n",
      "explained variance % : 100.0\n",
      "Fold:  3\n",
      "n_component:  4\n",
      "pca.explained_variance_ratio_ : [0.32003918 0.31229609 0.18665299 0.18101174]\n",
      "explained variance % : 99.99999999999999\n",
      "Fold:  4\n",
      "n_component:  4\n",
      "pca.explained_variance_ratio_ : [0.31985416 0.30926305 0.1918781  0.17900469]\n",
      "explained variance % : 100.0\n"
     ]
    }
   ],
   "source": [
    "for i in range(len(X_train_cv)):\n",
    "    pca = PCA()\n",
    "    pca.fit(X_train_cv[i].iloc[:, :4])\n",
    "    print(\"Fold: \",i)\n",
    "    print(\"n_component: \",len(pca.explained_variance_ratio_))\n",
    "    print(\"pca.explained_variance_ratio_ :\",pca.explained_variance_ratio_)\n",
    "    print(\"explained variance % :\", sum(pca.explained_variance_ratio_)*100)\n",
    "#     pca.fit(X_train[['rating', 'total_payment_installments', 'total_payment_value','geolocation_lat', 'geolocation_lng']])\n",
    "# df_train_pca"
   ]
  },
  {
   "cell_type": "code",
   "execution_count": 33,
   "metadata": {
    "scrolled": false
   },
   "outputs": [
    {
     "data": {
      "image/png": "[encoded data removed]",
      "text/plain": [
       "<Figure size 432x288 with 1 Axes>"
      ]
     },
     "metadata": {
      "needs_background": "light"
     },
     "output_type": "display_data"
    }
   ],
   "source": [
    "import matplotlib.pyplot as plt\n",
    "pd.DataFrame(pca.explained_variance_ratio_).plot.bar()\n",
    "plt.legend('')\n",
    "plt.xlabel('Principal Components')\n",
    "plt.ylabel('Explained Varience');"
   ]
  },
  {
   "cell_type": "code",
   "execution_count": 34,
   "metadata": {},
   "outputs": [
    {
     "data": {
      "image/png": "[encoded data removed]",
      "text/plain": [
       "<Figure size 432x288 with 1 Axes>"
      ]
     },
     "metadata": {
      "needs_background": "light"
     },
     "output_type": "display_data"
    }
   ],
   "source": [
    "# plt.rcParams[\"figure.figsize\"] = (12,6)\n",
    "\n",
    "fig, ax = plt.subplots()\n",
    "xi = np.arange(1, len(pca.explained_variance_ratio_)+1, step=1)\n",
    "y = np.cumsum(pca.explained_variance_ratio_)\n",
    "\n",
    "plt.ylim(0.0,1.1)\n",
    "plt.plot(xi, y, marker='o', linestyle='--', color='b')\n",
    "\n",
    "plt.xlabel('Number of Components')\n",
    "plt.xticks(np.arange(0, 6, step=1)) #change from 0-based array index to 1-based human-readable label\n",
    "plt.ylabel('Cumulative variance (%)')\n",
    "plt.title('The number of components needed to explain variance')\n",
    "\n",
    "plt.axhline(y=0.5, color='r', linestyle='-')\n",
    "plt.text(3, 0.55, '50% cut-off threshold', color = 'red', fontsize=12)\n",
    "\n",
    "ax.grid(axis='x')\n",
    "plt.show()"
   ]
  },
  {
   "cell_type": "markdown",
   "metadata": {},
   "source": [
    "#### Apply PCA n_component = 2"
   ]
  },
  {
   "cell_type": "code",
   "execution_count": 35,
   "metadata": {},
   "outputs": [],
   "source": [
    "X_train_cv_pca = []\n",
    "X_val_cv_pca = []\n",
    "\n",
    "pca_new = PCA(n_components=2)\n",
    "for i in range(len(X_train_cv)):    \n",
    "    X_train_cv_pca.append(pd.DataFrame(pca_new.fit_transform(X_train_cv[i].iloc[:, :4])))\n",
    "    X_val_cv_pca.append(pd.DataFrame(pca_new.transform(X_val_cv[i].iloc[:, :4])))"
   ]
  },
  {
   "cell_type": "code",
   "execution_count": 36,
   "metadata": {},
   "outputs": [],
   "source": [
    "for i in range(len(X_train_cv)):\n",
    "    X_train_cv_pca[i] = X_train_cv_pca[i].assign(payment_type_credit_card = X_train_cv[i].loc[:, 'payment_type_credit_card'])\n",
    "    X_train_cv_pca[i] = X_train_cv_pca[i].assign(payment_type_debit_card = X_train_cv[i].loc[:, 'payment_type_debit_card'])\n",
    "    X_train_cv_pca[i] = X_train_cv_pca[i].assign(payment_type_voucher = X_train_cv[i].loc[:, 'payment_type_voucher'])\n",
    "    X_train_cv_pca[i] = X_train_cv_pca[i].assign(payment_type_boleto = X_train_cv[i].loc[:, 'payment_type_boleto'])\n",
    "       \n",
    "    X_val_cv_pca[i] = X_val_cv_pca[i].assign(payment_type_credit_card = X_val_cv[i].loc[:, 'payment_type_credit_card'])\n",
    "    X_val_cv_pca[i] = X_val_cv_pca[i].assign(payment_type_debit_card = X_val_cv[i].loc[:, 'payment_type_debit_card'])\n",
    "    X_val_cv_pca[i] = X_val_cv_pca[i].assign(payment_type_voucher = X_val_cv[i].loc[:, 'payment_type_voucher'])\n",
    "    X_val_cv_pca[i] = X_val_cv_pca[i].assign(payment_type_boleto = X_val_cv[i].loc[:, 'payment_type_boleto'])\n"
   ]
  },
  {
   "cell_type": "code",
   "execution_count": 37,
   "metadata": {
    "scrolled": false
   },
   "outputs": [
    {
     "data": {
      "text/html": [
       "<div>\n",
       "<style scoped>\n",
       "    .dataframe tbody tr th:only-of-type {\n",
       "        vertical-align: middle;\n",
       "    }\n",
       "\n",
       "    .dataframe tbody tr th {\n",
       "        vertical-align: top;\n",
       "    }\n",
       "\n",
       "    .dataframe thead th {\n",
       "        text-align: right;\n",
       "    }\n",
       "</style>\n",
       "<table border=\"1\" class=\"dataframe\">\n",
       "  <thead>\n",
       "    <tr style=\"text-align: right;\">\n",
       "      <th></th>\n",
       "      <th>0</th>\n",
       "      <th>1</th>\n",
       "      <th>payment_type_credit_card</th>\n",
       "      <th>payment_type_debit_card</th>\n",
       "      <th>payment_type_voucher</th>\n",
       "      <th>payment_type_boleto</th>\n",
       "    </tr>\n",
       "  </thead>\n",
       "  <tbody>\n",
       "    <tr>\n",
       "      <th>0</th>\n",
       "      <td>-1.136136</td>\n",
       "      <td>-0.660574</td>\n",
       "      <td>1</td>\n",
       "      <td>0</td>\n",
       "      <td>0</td>\n",
       "      <td>0</td>\n",
       "    </tr>\n",
       "    <tr>\n",
       "      <th>1</th>\n",
       "      <td>-0.402720</td>\n",
       "      <td>0.069010</td>\n",
       "      <td>1</td>\n",
       "      <td>0</td>\n",
       "      <td>0</td>\n",
       "      <td>0</td>\n",
       "    </tr>\n",
       "    <tr>\n",
       "      <th>2</th>\n",
       "      <td>-0.362986</td>\n",
       "      <td>0.124730</td>\n",
       "      <td>1</td>\n",
       "      <td>0</td>\n",
       "      <td>0</td>\n",
       "      <td>0</td>\n",
       "    </tr>\n",
       "    <tr>\n",
       "      <th>3</th>\n",
       "      <td>2.040734</td>\n",
       "      <td>-0.227763</td>\n",
       "      <td>1</td>\n",
       "      <td>0</td>\n",
       "      <td>0</td>\n",
       "      <td>0</td>\n",
       "    </tr>\n",
       "    <tr>\n",
       "      <th>4</th>\n",
       "      <td>-0.147724</td>\n",
       "      <td>1.263423</td>\n",
       "      <td>1</td>\n",
       "      <td>0</td>\n",
       "      <td>0</td>\n",
       "      <td>0</td>\n",
       "    </tr>\n",
       "  </tbody>\n",
       "</table>\n",
       "</div>"
      ],
      "text/plain": [
       "          0         1  payment_type_credit_card  payment_type_debit_card  \\\n",
       "0 -1.136136 -0.660574                         1                        0   \n",
       "1 -0.402720  0.069010                         1                        0   \n",
       "2 -0.362986  0.124730                         1                        0   \n",
       "3  2.040734 -0.227763                         1                        0   \n",
       "4 -0.147724  1.263423                         1                        0   \n",
       "\n",
       "   payment_type_voucher  payment_type_boleto  \n",
       "0                     0                    0  \n",
       "1                     0                    0  \n",
       "2                     0                    0  \n",
       "3                     0                    0  \n",
       "4                     0                    0  "
      ]
     },
     "execution_count": 37,
     "metadata": {},
     "output_type": "execute_result"
    }
   ],
   "source": [
    "X_val_cv_pca[0].head()"
   ]
  },
  {
   "cell_type": "markdown",
   "metadata": {},
   "source": [
    "### Scale data using min max scaler"
   ]
  },
  {
   "cell_type": "code",
   "execution_count": 38,
   "metadata": {},
   "outputs": [],
   "source": [
    "for i in range(len(X_train_cv_pca)):\n",
    "    scaler = MinMaxScaler()\n",
    "    X_train_cv_pca[i].loc[:, X_train_cv_pca[i].columns] = scaler.fit_transform(X_train_cv_pca[i].loc[:, X_train_cv_pca[i].columns])\n",
    "    X_val_cv_pca[i].loc[:, X_val_cv_pca[i].columns] = scaler.transform(X_val_cv_pca[i].loc[:, X_val_cv_pca[i].columns])\n",
    "    \n"
   ]
  },
  {
   "cell_type": "code",
   "execution_count": 39,
   "metadata": {},
   "outputs": [
    {
     "data": {
      "text/html": [
       "<div>\n",
       "<style scoped>\n",
       "    .dataframe tbody tr th:only-of-type {\n",
       "        vertical-align: middle;\n",
       "    }\n",
       "\n",
       "    .dataframe tbody tr th {\n",
       "        vertical-align: top;\n",
       "    }\n",
       "\n",
       "    .dataframe thead th {\n",
       "        text-align: right;\n",
       "    }\n",
       "</style>\n",
       "<table border=\"1\" class=\"dataframe\">\n",
       "  <thead>\n",
       "    <tr style=\"text-align: right;\">\n",
       "      <th></th>\n",
       "      <th>0</th>\n",
       "      <th>1</th>\n",
       "      <th>payment_type_credit_card</th>\n",
       "      <th>payment_type_debit_card</th>\n",
       "      <th>payment_type_voucher</th>\n",
       "      <th>payment_type_boleto</th>\n",
       "    </tr>\n",
       "  </thead>\n",
       "  <tbody>\n",
       "    <tr>\n",
       "      <th>count</th>\n",
       "      <td>876.000000</td>\n",
       "      <td>876.000000</td>\n",
       "      <td>876.000000</td>\n",
       "      <td>876.000000</td>\n",
       "      <td>876.000000</td>\n",
       "      <td>876.000000</td>\n",
       "    </tr>\n",
       "    <tr>\n",
       "      <th>mean</th>\n",
       "      <td>0.431008</td>\n",
       "      <td>0.423595</td>\n",
       "      <td>0.757991</td>\n",
       "      <td>0.018265</td>\n",
       "      <td>0.012557</td>\n",
       "      <td>0.211187</td>\n",
       "    </tr>\n",
       "    <tr>\n",
       "      <th>std</th>\n",
       "      <td>0.138217</td>\n",
       "      <td>0.141533</td>\n",
       "      <td>0.428544</td>\n",
       "      <td>0.133984</td>\n",
       "      <td>0.111416</td>\n",
       "      <td>0.408384</td>\n",
       "    </tr>\n",
       "    <tr>\n",
       "      <th>min</th>\n",
       "      <td>0.024525</td>\n",
       "      <td>-0.028512</td>\n",
       "      <td>0.000000</td>\n",
       "      <td>0.000000</td>\n",
       "      <td>0.000000</td>\n",
       "      <td>0.000000</td>\n",
       "    </tr>\n",
       "    <tr>\n",
       "      <th>25%</th>\n",
       "      <td>0.327242</td>\n",
       "      <td>0.338519</td>\n",
       "      <td>1.000000</td>\n",
       "      <td>0.000000</td>\n",
       "      <td>0.000000</td>\n",
       "      <td>0.000000</td>\n",
       "    </tr>\n",
       "    <tr>\n",
       "      <th>50%</th>\n",
       "      <td>0.412516</td>\n",
       "      <td>0.403446</td>\n",
       "      <td>1.000000</td>\n",
       "      <td>0.000000</td>\n",
       "      <td>0.000000</td>\n",
       "      <td>0.000000</td>\n",
       "    </tr>\n",
       "    <tr>\n",
       "      <th>75%</th>\n",
       "      <td>0.518833</td>\n",
       "      <td>0.509839</td>\n",
       "      <td>1.000000</td>\n",
       "      <td>0.000000</td>\n",
       "      <td>0.000000</td>\n",
       "      <td>0.000000</td>\n",
       "    </tr>\n",
       "    <tr>\n",
       "      <th>max</th>\n",
       "      <td>1.083376</td>\n",
       "      <td>0.977658</td>\n",
       "      <td>1.000000</td>\n",
       "      <td>1.000000</td>\n",
       "      <td>1.000000</td>\n",
       "      <td>1.000000</td>\n",
       "    </tr>\n",
       "  </tbody>\n",
       "</table>\n",
       "</div>"
      ],
      "text/plain": [
       "                0           1  payment_type_credit_card  \\\n",
       "count  876.000000  876.000000                876.000000   \n",
       "mean     0.431008    0.423595                  0.757991   \n",
       "std      0.138217    0.141533                  0.428544   \n",
       "min      0.024525   -0.028512                  0.000000   \n",
       "25%      0.327242    0.338519                  1.000000   \n",
       "50%      0.412516    0.403446                  1.000000   \n",
       "75%      0.518833    0.509839                  1.000000   \n",
       "max      1.083376    0.977658                  1.000000   \n",
       "\n",
       "       payment_type_debit_card  payment_type_voucher  payment_type_boleto  \n",
       "count               876.000000            876.000000           876.000000  \n",
       "mean                  0.018265              0.012557             0.211187  \n",
       "std                   0.133984              0.111416             0.408384  \n",
       "min                   0.000000              0.000000             0.000000  \n",
       "25%                   0.000000              0.000000             0.000000  \n",
       "50%                   0.000000              0.000000             0.000000  \n",
       "75%                   0.000000              0.000000             0.000000  \n",
       "max                   1.000000              1.000000             1.000000  "
      ]
     },
     "execution_count": 39,
     "metadata": {},
     "output_type": "execute_result"
    }
   ],
   "source": [
    "X_val_cv_pca[0].describe()"
   ]
  },
  {
   "cell_type": "markdown",
   "metadata": {},
   "source": [
    "## Model\n",
    "K-Means dengan Silhouette Coefficient"
   ]
  },
  {
   "cell_type": "markdown",
   "metadata": {},
   "source": [
    "### PCA K-Means"
   ]
  },
  {
   "cell_type": "code",
   "execution_count": 40,
   "metadata": {},
   "outputs": [
    {
     "data": {
      "text/html": [
       "<div>\n",
       "<style scoped>\n",
       "    .dataframe tbody tr th:only-of-type {\n",
       "        vertical-align: middle;\n",
       "    }\n",
       "\n",
       "    .dataframe tbody tr th {\n",
       "        vertical-align: top;\n",
       "    }\n",
       "\n",
       "    .dataframe thead th {\n",
       "        text-align: right;\n",
       "    }\n",
       "</style>\n",
       "<table border=\"1\" class=\"dataframe\">\n",
       "  <thead>\n",
       "    <tr style=\"text-align: right;\">\n",
       "      <th></th>\n",
       "      <th>0</th>\n",
       "      <th>1</th>\n",
       "      <th>payment_type_credit_card</th>\n",
       "      <th>payment_type_debit_card</th>\n",
       "      <th>payment_type_voucher</th>\n",
       "      <th>payment_type_boleto</th>\n",
       "    </tr>\n",
       "  </thead>\n",
       "  <tbody>\n",
       "    <tr>\n",
       "      <th>0</th>\n",
       "      <td>0.919487</td>\n",
       "      <td>0.519019</td>\n",
       "      <td>1.0</td>\n",
       "      <td>0.0</td>\n",
       "      <td>0.0</td>\n",
       "      <td>0.0</td>\n",
       "    </tr>\n",
       "    <tr>\n",
       "      <th>1</th>\n",
       "      <td>0.316910</td>\n",
       "      <td>0.378464</td>\n",
       "      <td>0.0</td>\n",
       "      <td>1.0</td>\n",
       "      <td>0.0</td>\n",
       "      <td>0.0</td>\n",
       "    </tr>\n",
       "    <tr>\n",
       "      <th>2</th>\n",
       "      <td>0.370895</td>\n",
       "      <td>0.421047</td>\n",
       "      <td>1.0</td>\n",
       "      <td>0.0</td>\n",
       "      <td>0.0</td>\n",
       "      <td>0.0</td>\n",
       "    </tr>\n",
       "    <tr>\n",
       "      <th>3</th>\n",
       "      <td>0.595273</td>\n",
       "      <td>0.342422</td>\n",
       "      <td>1.0</td>\n",
       "      <td>0.0</td>\n",
       "      <td>0.0</td>\n",
       "      <td>0.0</td>\n",
       "    </tr>\n",
       "    <tr>\n",
       "      <th>4</th>\n",
       "      <td>0.360362</td>\n",
       "      <td>0.433785</td>\n",
       "      <td>1.0</td>\n",
       "      <td>0.0</td>\n",
       "      <td>0.0</td>\n",
       "      <td>0.0</td>\n",
       "    </tr>\n",
       "    <tr>\n",
       "      <th>...</th>\n",
       "      <td>...</td>\n",
       "      <td>...</td>\n",
       "      <td>...</td>\n",
       "      <td>...</td>\n",
       "      <td>...</td>\n",
       "      <td>...</td>\n",
       "    </tr>\n",
       "    <tr>\n",
       "      <th>3495</th>\n",
       "      <td>0.467356</td>\n",
       "      <td>0.327855</td>\n",
       "      <td>1.0</td>\n",
       "      <td>0.0</td>\n",
       "      <td>0.0</td>\n",
       "      <td>0.0</td>\n",
       "    </tr>\n",
       "    <tr>\n",
       "      <th>3496</th>\n",
       "      <td>0.531667</td>\n",
       "      <td>0.128468</td>\n",
       "      <td>1.0</td>\n",
       "      <td>0.0</td>\n",
       "      <td>0.0</td>\n",
       "      <td>0.0</td>\n",
       "    </tr>\n",
       "    <tr>\n",
       "      <th>3497</th>\n",
       "      <td>0.341645</td>\n",
       "      <td>0.391353</td>\n",
       "      <td>0.0</td>\n",
       "      <td>0.0</td>\n",
       "      <td>0.0</td>\n",
       "      <td>1.0</td>\n",
       "    </tr>\n",
       "    <tr>\n",
       "      <th>3498</th>\n",
       "      <td>0.304260</td>\n",
       "      <td>0.347671</td>\n",
       "      <td>1.0</td>\n",
       "      <td>0.0</td>\n",
       "      <td>0.0</td>\n",
       "      <td>0.0</td>\n",
       "    </tr>\n",
       "    <tr>\n",
       "      <th>3499</th>\n",
       "      <td>0.500397</td>\n",
       "      <td>0.559711</td>\n",
       "      <td>1.0</td>\n",
       "      <td>0.0</td>\n",
       "      <td>0.0</td>\n",
       "      <td>0.0</td>\n",
       "    </tr>\n",
       "  </tbody>\n",
       "</table>\n",
       "<p>3500 rows × 6 columns</p>\n",
       "</div>"
      ],
      "text/plain": [
       "             0         1  payment_type_credit_card  payment_type_debit_card  \\\n",
       "0     0.919487  0.519019                       1.0                      0.0   \n",
       "1     0.316910  0.378464                       0.0                      1.0   \n",
       "2     0.370895  0.421047                       1.0                      0.0   \n",
       "3     0.595273  0.342422                       1.0                      0.0   \n",
       "4     0.360362  0.433785                       1.0                      0.0   \n",
       "...        ...       ...                       ...                      ...   \n",
       "3495  0.467356  0.327855                       1.0                      0.0   \n",
       "3496  0.531667  0.128468                       1.0                      0.0   \n",
       "3497  0.341645  0.391353                       0.0                      0.0   \n",
       "3498  0.304260  0.347671                       1.0                      0.0   \n",
       "3499  0.500397  0.559711                       1.0                      0.0   \n",
       "\n",
       "      payment_type_voucher  payment_type_boleto  \n",
       "0                      0.0                  0.0  \n",
       "1                      0.0                  0.0  \n",
       "2                      0.0                  0.0  \n",
       "3                      0.0                  0.0  \n",
       "4                      0.0                  0.0  \n",
       "...                    ...                  ...  \n",
       "3495                   0.0                  0.0  \n",
       "3496                   0.0                  0.0  \n",
       "3497                   0.0                  1.0  \n",
       "3498                   0.0                  0.0  \n",
       "3499                   0.0                  0.0  \n",
       "\n",
       "[3500 rows x 6 columns]"
      ]
     },
     "execution_count": 40,
     "metadata": {},
     "output_type": "execute_result"
    }
   ],
   "source": [
    "X_train_cv_pca[0].iloc[:, :]"
   ]
  },
  {
   "cell_type": "code",
   "execution_count": 41,
   "metadata": {},
   "outputs": [],
   "source": [
    "range_n_clusters = [x+2  for x in range(9)]\n",
    "train_sil_val = {2:[], 3:[], 4:[], 5:[], 6:[], 7:[], 8:[], 9:[], 10:[]}"
   ]
  },
  {
   "cell_type": "code",
   "execution_count": 42,
   "metadata": {
    "scrolled": true
   },
   "outputs": [],
   "source": [
    "\n",
    "for df in X_train_cv_pca:\n",
    "    for n_clusters in range_n_clusters:\n",
    "        # KMeans clustering\n",
    "        km = KMeans(n_clusters=n_clusters, random_state=30)\n",
    "        y_train_predict = km.fit_predict(df)\n",
    "\n",
    "        # Silhouette score\n",
    "        silhouette_val = silhouette_score(df, y_train_predict)\n",
    "        train_sil_val[n_clusters].append(silhouette_val)"
   ]
  },
  {
   "cell_type": "code",
   "execution_count": 43,
   "metadata": {},
   "outputs": [
    {
     "name": "stdout",
     "output_type": "stream",
     "text": [
      "n_cluster: 2  avg silhouette coef: 0.791772659775511\n",
      "n_cluster: 3  avg silhouette coef: 0.8232852265602613\n",
      "n_cluster: 4  avg silhouette coef: 0.8350099295328508\n",
      "n_cluster: 5  avg silhouette coef: 0.5162045909755342\n",
      "n_cluster: 6  avg silhouette coef: 0.5172895672685872\n",
      "n_cluster: 7  avg silhouette coef: 0.5176471717981724\n",
      "n_cluster: 8  avg silhouette coef: 0.42237086661486944\n",
      "n_cluster: 9  avg silhouette coef: 0.42234502431157805\n",
      "n_cluster: 10  avg silhouette coef: 0.4415474371030804\n"
     ]
    }
   ],
   "source": [
    "res_n_clus = []\n",
    "res_sil = []\n",
    "# Average silhoette coef\n",
    "for key, values in train_sil_val.items():    \n",
    "    print(\"n_cluster:\",key,\" avg silhouette coef:\", sum(values)/len(values))\n",
    "    res_n_clus.append(key)\n",
    "    res_sil.append(sum(values)/len(values))\n",
    "    "
   ]
  },
  {
   "cell_type": "code",
   "execution_count": 44,
   "metadata": {},
   "outputs": [
    {
     "data": {
      "image/png": "[encoded data removed]",
      "text/plain": [
       "<Figure size 576x432 with 1 Axes>"
      ]
     },
     "metadata": {
      "needs_background": "light"
     },
     "output_type": "display_data"
    }
   ],
   "source": [
    "fig = plt.figure(figsize=(8,6))\n",
    "ax = fig.add_subplot(111)\n",
    "ax.set_ylim(.3,1)\n",
    "plt.plot(res_n_clus, res_sil, marker='o')\n",
    "for i,j in zip(res_n_clus,res_sil):\n",
    "    ax.annotate(str(f\"{j:.5f}\"),xy=(i-.37,j+0.05))\n",
    "plt.xlabel('Num of clusters')\n",
    "plt.xticks(res_n_clus)\n",
    "plt.ylabel('Silhouette coef.')\n",
    "# plt.yticks(y_tic)\n",
    "plt.title('Silhouette coefficient for each num of clusters')\n",
    "plt.show()"
   ]
  },
  {
   "cell_type": "markdown",
   "metadata": {},
   "source": [
    "### Apply PCA K-Means to Train and Validation Dataset"
   ]
  },
  {
   "cell_type": "code",
   "execution_count": 45,
   "metadata": {},
   "outputs": [],
   "source": [
    "val_sil_val = {1:None, 2:None, 3:None, 4:None, 5:None}"
   ]
  },
  {
   "cell_type": "code",
   "execution_count": 46,
   "metadata": {},
   "outputs": [
    {
     "name": "stdout",
     "output_type": "stream",
     "text": [
      "<class 'pandas.core.frame.DataFrame'>\n",
      "RangeIndex: 876 entries, 0 to 875\n",
      "Data columns (total 6 columns):\n",
      " #   Column                    Non-Null Count  Dtype  \n",
      "---  ------                    --------------  -----  \n",
      " 0   0                         876 non-null    float64\n",
      " 1   1                         876 non-null    float64\n",
      " 2   payment_type_credit_card  876 non-null    float64\n",
      " 3   payment_type_debit_card   876 non-null    float64\n",
      " 4   payment_type_voucher      876 non-null    float64\n",
      " 5   payment_type_boleto       876 non-null    float64\n",
      "dtypes: float64(6)\n",
      "memory usage: 41.2 KB\n"
     ]
    }
   ],
   "source": [
    "X_val_cv_pca[0].info()"
   ]
  },
  {
   "cell_type": "code",
   "execution_count": 48,
   "metadata": {
    "scrolled": true
   },
   "outputs": [
    {
     "data": {
      "image/png": "[encoded data removed]",
      "text/plain": [
       "<Figure size 432x288 with 1 Axes>"
      ]
     },
     "metadata": {
      "needs_background": "light"
     },
     "output_type": "display_data"
    },
    {
     "data": {
      "image/png": "[encoded data removed]",
      "text/plain": [
       "<Figure size 432x288 with 1 Axes>"
      ]
     },
     "metadata": {
      "needs_background": "light"
     },
     "output_type": "display_data"
    },
    {
     "data": {
      "image/png": "[encoded data removed]",
      "text/plain": [
       "<Figure size 432x288 with 1 Axes>"
      ]
     },
     "metadata": {
      "needs_background": "light"
     },
     "output_type": "display_data"
    },
    {
     "data": {
      "image/png": "[encoded data removed]",
      "text/plain": [
       "<Figure size 432x288 with 1 Axes>"
      ]
     },
     "metadata": {
      "needs_background": "light"
     },
     "output_type": "display_data"
    },
    {
     "data": {
      "image/png": "[encoded data removed]",
      "text/plain": [
       "<Figure size 432x288 with 1 Axes>"
      ]
     },
     "metadata": {
      "needs_background": "light"
     },
     "output_type": "display_data"
    }
   ],
   "source": [
    "selected_n_clus = 4\n",
    "for idx in range(len(X_val_cv_pca)):\n",
    "    # KMeans clustering\n",
    "    km_val = KMeans(n_clusters=selected_n_clus, random_state=30)\n",
    "    km_val.fit(X_train_cv_pca[idx])\n",
    "    y_val_predict = km_val.predict(X_val_cv_pca[idx])\n",
    "    y_train_predict = km_val.predict(X_train_cv_pca[idx])\n",
    "\n",
    "    # Silhouette score\n",
    "    silhouette_val = silhouette_score(X_val_cv_pca[idx], y_val_predict)\n",
    "    val_sil_val[idx+1] = silhouette_val\n",
    "    \n",
    "    # Compute the silhouette scores for each sample\n",
    "    sample_silhouette_values = silhouette_samples(X_val_cv_pca[idx], y_val_predict)\n",
    "    \n",
    "    # Create figure\n",
    "    fig = plt.figure()\n",
    "    ax1 = fig.add_axes([0,0,1,1])\n",
    "    ax1.set_xlim([-0.1, 1])\n",
    "    ax1.set_ylim([0, len(X_val_cv_pca[idx]) + (n_clusters + 1) * 10])\n",
    "    y_lower = 10\n",
    "    for i in range(selected_n_clus):\n",
    "        # Aggregate the silhouette scores for samples belonging to\n",
    "        # cluster i, and sort them\n",
    "        ith_cluster_silhouette_values = \\\n",
    "            sample_silhouette_values[y_val_predict == i]\n",
    "\n",
    "        ith_cluster_silhouette_values.sort()\n",
    "\n",
    "        size_cluster_i = ith_cluster_silhouette_values.shape[0]\n",
    "        y_upper = y_lower + size_cluster_i\n",
    "\n",
    "        color = cm.nipy_spectral(float(i) / selected_n_clus)\n",
    "        ax1.fill_betweenx(np.arange(y_lower, y_upper),\n",
    "                          0, ith_cluster_silhouette_values,\n",
    "                          facecolor=color, edgecolor=color, alpha=0.7)\n",
    "\n",
    "        # Label the silhouette plots with their cluster numbers at the middle\n",
    "        ax1.text(-0.05, y_lower + 0.5 * size_cluster_i, str(i))\n",
    "\n",
    "        # Compute the new y_lower for next plot\n",
    "        y_lower = y_upper + 10  # 10 for the 0 samples\n",
    "\n",
    "    ax1.set_xlabel(\"Silhouette coefficient\")\n",
    "    ax1.set_ylabel(\"Cluster label\")\n",
    "\n",
    "    # The vertical line for average silhouette score of all the values\n",
    "    ax1.axvline(x=silhouette_val, color=\"red\", linestyle=\"--\")\n",
    "\n",
    "    ax1.set_yticks([])  # Clear the yaxis labels / ticks\n",
    "    ax1.set_xticks([-0.1, 0, 0.2, 0.4, 0.6, 0.8, 1])\n",
    "    plt.title((\"Silhouette coefficient PCA KMeans clustering fold \",idx+1,\" with n_clusters = %d\" % selected_n_clus), fontsize=14, fontweight='bold')\n",
    "\n",
    "    plt.show()\n",
    "\n",
    "    # tambah kolom kluster dataset val\n",
    "    y_val_cv[idx].loc[:, 'cluster'] = pd.Series(y_val_predict)\n",
    "    #y_val_cv[idx].loc[:, 'customer_unique_id'] = X_val_cv[i].loc[:, 'customer_unique_id']\n",
    "    \n",
    "    # tambah kolom kluster dataset train\n",
    "    y_train_cv[idx].loc[:, 'cluster'] = pd.Series(y_train_predict)\n",
    "    #y_train_cv[idx].loc[:, 'customer_unique_id'] = X_train_cv[i].loc[:, 'customer_unique_id']"
   ]
  },
  {
   "cell_type": "code",
   "execution_count": 49,
   "metadata": {},
   "outputs": [
    {
     "name": "stdout",
     "output_type": "stream",
     "text": [
      "fold: 1 silhouette coef: 0.8344719603726564\n",
      "fold: 2 silhouette coef: 0.829919956107309\n",
      "fold: 3 silhouette coef: 0.8366961788135806\n",
      "fold: 4 silhouette coef: 0.8343261388324557\n",
      "fold: 5 silhouette coef: 0.8391905988879903\n"
     ]
    }
   ],
   "source": [
    "# Average silhoette coef\n",
    "for key, values in val_sil_val.items():\n",
    "    print(\"fold:\",key,\"silhouette coef:\", values)"
   ]
  },
  {
   "cell_type": "code",
   "execution_count": 50,
   "metadata": {
    "scrolled": true
   },
   "outputs": [
    {
     "data": {
      "text/plain": [
       "0    664\n",
       "1    185\n",
       "3     16\n",
       "2     11\n",
       "Name: cluster, dtype: int64"
      ]
     },
     "execution_count": 50,
     "metadata": {},
     "output_type": "execute_result"
    }
   ],
   "source": [
    "y_val_cv[0].loc[:, 'cluster'].value_counts()"
   ]
  },
  {
   "cell_type": "markdown",
   "metadata": {},
   "source": [
    "## Collaborative Filtering"
   ]
  },
  {
   "cell_type": "markdown",
   "metadata": {},
   "source": [
    "### Rating prediction  function based on user similarity"
   ]
  },
  {
   "cell_type": "code",
   "execution_count": 51,
   "metadata": {},
   "outputs": [],
   "source": [
    "# prediction rating function based on num of neighbors\n",
    "def predict_rating(activeUser, itemPredicted, rating_matrix, user_sim, selection_mode = 'neighbors', n=1):\n",
    "    pembilang = []\n",
    "    res = None\n",
    "    penyebut = 0.0001 # to avoid division by zero, penyebut assign with 0.0001\n",
    "    sim_avg = [] # similarity average\n",
    "    \n",
    "    # check selection mode\n",
    "    if selection_mode == 'neighbors':\n",
    "        i = 0\n",
    "        while (i < n) and (i < len(user_sim)):           \n",
    "            # rbp: rating user b for product p (predicted product)\n",
    "            rbp = rating_matrix.loc[user_sim.keys()[i], itemPredicted]\n",
    "\n",
    "            # avg_rb: average rating user b\n",
    "            avg_rb = rating_matrix.loc[user_sim.keys()[i]].mean()\n",
    "\n",
    "            # check if similarity is None\n",
    "            if not math.isnan(user_sim.values[i]):\n",
    "                pembilang.append(user_sim.values[i] * (rbp - avg_rb))\n",
    "                penyebut += user_sim.values[i]\n",
    "                sim_avg.append(user_sim.values[i])\n",
    "                i += 1\n",
    "                \n",
    "            else:\n",
    "                i += 1\n",
    "    elif selection_mode == 'treshold':\n",
    "            for i in range(len(user_sim)):\n",
    "                # treshold user selection\n",
    "                if user_sim.values[i] >= n:            \n",
    "                    # rbp: rating user b for product p (predicted product)\n",
    "                    rbp = rating_matrix.loc[user_sim.keys()[i], itemPredicted]\n",
    "\n",
    "                    # avg_rb: average rating user b\n",
    "                    avg_rb = rating_matrix.loc[user_sim.keys()[i]].mean()\n",
    "                    pembilang.append(user_sim.values[i] * (rbp - avg_rb))\n",
    "                    penyebut += user_sim.values[i]\n",
    "                    sim_avg.append(user_sim.values[i])\n",
    "                    \n",
    "    res = rating_matrix.loc[activeUser].mean() + (sum(pembilang) / penyebut)\n",
    "    avg_sim = (sum(sim_avg)/len(sim_avg))\n",
    "    return res, avg_sim\n",
    "    "
   ]
  },
  {
   "cell_type": "markdown",
   "metadata": {},
   "source": [
    "### Predict user rating  function based on user similarity"
   ]
  },
  {
   "cell_type": "code",
   "execution_count": 52,
   "metadata": {},
   "outputs": [],
   "source": [
    "def predict_user_rating(cust_id, rating_matrix, selection_mode, n):    \n",
    "    \n",
    "    # get rated product from active user\n",
    "    prod = dict(rating_matrix.loc[cust_id].notnull())\n",
    "    ratedProdList = [key for key, val in prod.items() if val == True]\n",
    "\n",
    "    # get un-rated product        \n",
    "    predictProdList = [key for key, val in prod.items() if val == False]\n",
    "\n",
    "    # dict for save predict data\n",
    "    predicted_prod = {'predicted_prod_id': [], 'predicted_rating': []}\n",
    "    \n",
    "    avg_sim_users = []\n",
    "\n",
    "    for predictItem in predictProdList:\n",
    "        # get user who have rated predicted item \n",
    "        user1 = list(rating_matrix[rating_matrix[predictItem].notnull()].index)\n",
    "\n",
    "        # skip loop if no user rated predicted item\n",
    "        if len(user1) <= 0:\n",
    "            continue\n",
    "\n",
    "        # get user who rated predicted item\n",
    "        dftmp = rating_matrix.loc[user1]\n",
    "\n",
    "        # get user who rated predicted item and rated same item with active user\n",
    "        user2 = []\n",
    "        for product in ratedProdList:\n",
    "            a = list(dftmp[dftmp[product].notnull()].index)\n",
    "            if a not in user2:\n",
    "                for userA in a:\n",
    "                    user2.append(userA)\n",
    "\n",
    "        dftmp2 = rating_matrix.loc[[cust_id] + user2]  \n",
    "\n",
    "        # improve sparsity problem by fill null with average value from all neighbors\n",
    "        userAvgTmp = dftmp2.mean(axis=1)\n",
    "        neighbors_avg = userAvgTmp.mean()\n",
    "        dftmp2.fillna(neighbors_avg, inplace=True)\n",
    "        \n",
    "        # calc similarity with pearson correlation    \n",
    "        # user_sim = dftmp2.T.corr().iloc[1:, 0] \n",
    "        \n",
    "        # calc similarity with cosine similarity    \n",
    "        sim_tmp = 1-pairwise_distances(dftmp2, metric='cosine')\n",
    "        user_sim = pd.Series(sim_tmp[0][1:], index=dftmp2.index[1:])\n",
    "        \n",
    "        # remove active user from user_sim\n",
    "        if cust_id in user_sim.index:            \n",
    "            user_sim.drop(cust_id, inplace=True)\n",
    "        # user_sim.sort_values(ascending=False, inplace=True)        \n",
    "        \n",
    "        # check if user_sim is empty\n",
    "        if len(user_sim) != 0:\n",
    "            # predict rating\n",
    "            rating, avg_sim = predict_rating(cust_id, predictItem, rating_matrix, user_sim, selection_mode, n)\n",
    "            predicted_prod['predicted_rating'].append(rating)\n",
    "            predicted_prod['predicted_prod_id'].append(predictItem)\n",
    "            avg_sim_users.append(avg_sim)\n",
    "    avg_sim_val = sum(avg_sim_users)/len(avg_sim_users)\n",
    "    return predicted_prod, avg_sim_val"
   ]
  },
  {
   "cell_type": "markdown",
   "metadata": {},
   "source": [
    "### Recommender system evaluation function"
   ]
  },
  {
   "cell_type": "code",
   "execution_count": 53,
   "metadata": {},
   "outputs": [],
   "source": [
    "# evaluation based on rating prediction with memory-based\n",
    "def rs_user_evaluation(cust_id, userItemMatrix, selection_mode, n):\n",
    "    # get product id from active user    \n",
    "    prod = dict(userItemMatrix.loc[cust_id, :].notnull())\n",
    "    ratedProdList = [key for key, val in prod.items() if val == True]\n",
    "    \n",
    "    # get actual rating from rated product\n",
    "    prod = dict(userItemMatrix.loc[cust_id])\n",
    "    actualRating = [val for key, val in prod.items() if key in ratedProdList]\n",
    "    \n",
    "    # list to store predicted rating\n",
    "    predictedRating = []\n",
    "    \n",
    "    avg_sims = []\n",
    "    \n",
    "    for ratedItem in ratedProdList:\n",
    "        # get user who have rated predicted item \n",
    "        user1 = list(userItemMatrix[userItemMatrix[ratedItem].notnull()].index)\n",
    "\n",
    "        # skip loop if no user rated predicted item\n",
    "        if len(user1) <= 0:\n",
    "            continue\n",
    "\n",
    "        # get user who rated predicted item\n",
    "        dftmp = userItemMatrix.loc[user1]\n",
    "\n",
    "        # get user who rated predicted item and rated same item with active user\n",
    "        user2 = []\n",
    "        for product in ratedProdList:\n",
    "            a = list(dftmp[dftmp[product].notnull()].index)\n",
    "            if a not in user2:\n",
    "                for userA in a:\n",
    "                    user2.append(userA)\n",
    "\n",
    "        dftmp2 = userItemMatrix.loc[[cust_id] + user2]      \n",
    "        # improve sparsity problem by fill null with average value from all neighbors\n",
    "        userAvgTmp = dftmp2.mean(axis=1)\n",
    "        neighbors_avg = userAvgTmp.mean()\n",
    "        dftmp2.fillna(neighbors_avg, inplace=True)\n",
    "        \n",
    "        # calc similarity with pearson correlation    \n",
    "        # user_sim = dftmp2.T.corr().iloc[1:, 0] \n",
    "        \n",
    "        sim_tmp = 1-pairwise_distances(dftmp2, metric='cosine')\n",
    "        user_sim = pd.Series(sim_tmp[0][1:], index=dftmp2.index[1:])\n",
    "\n",
    "        # remove active user from user_sim\n",
    "        if cust_id in user_sim.index:            \n",
    "            user_sim.drop(cust_id, inplace=True)\n",
    "        # user_sim.sort_values(ascending=False, inplace=True)        \n",
    "        \n",
    "        # check if user_sim is empty\n",
    "        if len(user_sim) != 0:\n",
    "            # predict rating\n",
    "            rating, avg_sim = predict_rating(cust_id, ratedItem, userItemMatrix, user_sim, selection_mode, n)\n",
    "            predictedRating.append(rating)\n",
    "            avg_sims.append(avg_sim)\n",
    "        else: # if empty then append None to predicted rating\n",
    "            predictedRating.append(None)\n",
    "            avg_sims.append(0)\n",
    "    \n",
    "    avg_sim_users = sum(avg_sims)/ len(avg_sims)\n",
    "    \n",
    "    # null value check\n",
    "    if None in predictedRating:\n",
    "        # remove null value from predictedRating and actual rating\n",
    "        nullIdx = [i for i, val in enumerate(predictedRating) if not val]\n",
    "        actualRatingClean = [val for i, val in enumerate(actualRating) if i not in nullIdx]\n",
    "        predictedRatingClean = [val for i, val in enumerate(predictedRating) if i not in nullIdx]\n",
    "    else:\n",
    "        actualRatingClean = actualRating\n",
    "        predictedRatingClean = predictedRating\n",
    "    \n",
    "    # rmse & mae calculation\n",
    "    if (len(actualRatingClean) != 0) or (len(predictedRatingClean) != 0):\n",
    "        rmse = mean_squared_error(actualRatingClean, predictedRatingClean, squared=False)\n",
    "        mae = mean_absolute_error(actualRatingClean, predictedRatingClean)\n",
    "        \n",
    "        # dataframe result\n",
    "        res_df = pd.DataFrame(ratedProdList, columns=['product_id'])\n",
    "        res_df['predicted_rating'] = predictedRating\n",
    "        res_df['actual_rating'] = actualRating\n",
    "        # print(res_df['predicted_rating'].count(),' out of ',len(res_df),' items can be predicted:',(res_df['predicted_rating'].count()/len(res_df))*100,'%')\n",
    "        n_item_percentage = (res_df['predicted_rating'].count()/len(res_df))*100\n",
    "    else:\n",
    "        rmse = None\n",
    "        mae = None\n",
    "        res_df = pd.DataFrame()\n",
    "        n_item_percentage = 0\n",
    "    return rmse, mae, res_df, n_item_percentage, avg_sim_users"
   ]
  },
  {
   "cell_type": "markdown",
   "metadata": {},
   "source": [
    "### Generate n-recommendation function"
   ]
  },
  {
   "cell_type": "code",
   "execution_count": 54,
   "metadata": {},
   "outputs": [],
   "source": [
    "def get_recommendation(result, n):\n",
    "    if n != None:\n",
    "        return pd.DataFrame(result).sort_values('predicted_rating', ascending=False).head(n)\n",
    "    else:\n",
    "        return pd.DataFrame(result).sort_values('predicted_rating', ascending=False)"
   ]
  },
  {
   "cell_type": "markdown",
   "metadata": {},
   "source": [
    "### Example: generate product recommendation for a user"
   ]
  },
  {
   "cell_type": "code",
   "execution_count": 55,
   "metadata": {
    "scrolled": true
   },
   "outputs": [],
   "source": [
    "# ambil dataset val\n",
    "tmp = y_val_cv[0].copy()\n",
    "df0 = tmp[tmp['cluster'] == 0]"
   ]
  },
  {
   "cell_type": "code",
   "execution_count": 56,
   "metadata": {
    "scrolled": true
   },
   "outputs": [
    {
     "data": {
      "text/html": [
       "<div>\n",
       "<style scoped>\n",
       "    .dataframe tbody tr th:only-of-type {\n",
       "        vertical-align: middle;\n",
       "    }\n",
       "\n",
       "    .dataframe tbody tr th {\n",
       "        vertical-align: top;\n",
       "    }\n",
       "\n",
       "    .dataframe thead th {\n",
       "        text-align: right;\n",
       "    }\n",
       "</style>\n",
       "<table border=\"1\" class=\"dataframe\">\n",
       "  <thead>\n",
       "    <tr style=\"text-align: right;\">\n",
       "      <th></th>\n",
       "      <th>customer_unique_id</th>\n",
       "      <th>cluster</th>\n",
       "    </tr>\n",
       "  </thead>\n",
       "  <tbody>\n",
       "    <tr>\n",
       "      <th>count</th>\n",
       "      <td>664</td>\n",
       "      <td>664.0</td>\n",
       "    </tr>\n",
       "    <tr>\n",
       "      <th>unique</th>\n",
       "      <td>664</td>\n",
       "      <td>NaN</td>\n",
       "    </tr>\n",
       "    <tr>\n",
       "      <th>top</th>\n",
       "      <td>ae153c43e70fe7ed191a0e437bc5e5b7</td>\n",
       "      <td>NaN</td>\n",
       "    </tr>\n",
       "    <tr>\n",
       "      <th>freq</th>\n",
       "      <td>1</td>\n",
       "      <td>NaN</td>\n",
       "    </tr>\n",
       "    <tr>\n",
       "      <th>mean</th>\n",
       "      <td>NaN</td>\n",
       "      <td>0.0</td>\n",
       "    </tr>\n",
       "    <tr>\n",
       "      <th>std</th>\n",
       "      <td>NaN</td>\n",
       "      <td>0.0</td>\n",
       "    </tr>\n",
       "    <tr>\n",
       "      <th>min</th>\n",
       "      <td>NaN</td>\n",
       "      <td>0.0</td>\n",
       "    </tr>\n",
       "    <tr>\n",
       "      <th>25%</th>\n",
       "      <td>NaN</td>\n",
       "      <td>0.0</td>\n",
       "    </tr>\n",
       "    <tr>\n",
       "      <th>50%</th>\n",
       "      <td>NaN</td>\n",
       "      <td>0.0</td>\n",
       "    </tr>\n",
       "    <tr>\n",
       "      <th>75%</th>\n",
       "      <td>NaN</td>\n",
       "      <td>0.0</td>\n",
       "    </tr>\n",
       "    <tr>\n",
       "      <th>max</th>\n",
       "      <td>NaN</td>\n",
       "      <td>0.0</td>\n",
       "    </tr>\n",
       "  </tbody>\n",
       "</table>\n",
       "</div>"
      ],
      "text/plain": [
       "                      customer_unique_id  cluster\n",
       "count                                664    664.0\n",
       "unique                               664      NaN\n",
       "top     ae153c43e70fe7ed191a0e437bc5e5b7      NaN\n",
       "freq                                   1      NaN\n",
       "mean                                 NaN      0.0\n",
       "std                                  NaN      0.0\n",
       "min                                  NaN      0.0\n",
       "25%                                  NaN      0.0\n",
       "50%                                  NaN      0.0\n",
       "75%                                  NaN      0.0\n",
       "max                                  NaN      0.0"
      ]
     },
     "execution_count": 56,
     "metadata": {},
     "output_type": "execute_result"
    }
   ],
   "source": [
    "df0.describe(include='all')"
   ]
  },
  {
   "cell_type": "code",
   "execution_count": 57,
   "metadata": {
    "scrolled": true
   },
   "outputs": [
    {
     "data": {
      "text/html": [
       "<div>\n",
       "<style scoped>\n",
       "    .dataframe tbody tr th:only-of-type {\n",
       "        vertical-align: middle;\n",
       "    }\n",
       "\n",
       "    .dataframe tbody tr th {\n",
       "        vertical-align: top;\n",
       "    }\n",
       "\n",
       "    .dataframe thead th {\n",
       "        text-align: right;\n",
       "    }\n",
       "</style>\n",
       "<table border=\"1\" class=\"dataframe\">\n",
       "  <thead>\n",
       "    <tr style=\"text-align: right;\">\n",
       "      <th></th>\n",
       "      <th>customer_unique_id</th>\n",
       "      <th>cluster</th>\n",
       "      <th>product_id</th>\n",
       "      <th>rating</th>\n",
       "    </tr>\n",
       "  </thead>\n",
       "  <tbody>\n",
       "    <tr>\n",
       "      <th>0</th>\n",
       "      <td>bee8c71dfec2314e63b7ef0e2ce70bdd</td>\n",
       "      <td>0</td>\n",
       "      <td>5581bb179770e44255d6bb9b9e1bcca9</td>\n",
       "      <td>4</td>\n",
       "    </tr>\n",
       "    <tr>\n",
       "      <th>1</th>\n",
       "      <td>4841d5835d0ab4894f2b0a0ac60aa49a</td>\n",
       "      <td>0</td>\n",
       "      <td>bc911e68db068530ee4d709f33920330</td>\n",
       "      <td>4</td>\n",
       "    </tr>\n",
       "    <tr>\n",
       "      <th>2</th>\n",
       "      <td>4841d5835d0ab4894f2b0a0ac60aa49a</td>\n",
       "      <td>0</td>\n",
       "      <td>a8fe47ad6f852f93cc92c7b408687de3</td>\n",
       "      <td>5</td>\n",
       "    </tr>\n",
       "    <tr>\n",
       "      <th>3</th>\n",
       "      <td>4841d5835d0ab4894f2b0a0ac60aa49a</td>\n",
       "      <td>0</td>\n",
       "      <td>ac8e7cf3a658f63dc68dd7f3b8b5f97b</td>\n",
       "      <td>5</td>\n",
       "    </tr>\n",
       "    <tr>\n",
       "      <th>4</th>\n",
       "      <td>4841d5835d0ab4894f2b0a0ac60aa49a</td>\n",
       "      <td>0</td>\n",
       "      <td>19421075ae0b585f2dc13ff149e2119d</td>\n",
       "      <td>4</td>\n",
       "    </tr>\n",
       "  </tbody>\n",
       "</table>\n",
       "</div>"
      ],
      "text/plain": [
       "                 customer_unique_id  cluster  \\\n",
       "0  bee8c71dfec2314e63b7ef0e2ce70bdd        0   \n",
       "1  4841d5835d0ab4894f2b0a0ac60aa49a        0   \n",
       "2  4841d5835d0ab4894f2b0a0ac60aa49a        0   \n",
       "3  4841d5835d0ab4894f2b0a0ac60aa49a        0   \n",
       "4  4841d5835d0ab4894f2b0a0ac60aa49a        0   \n",
       "\n",
       "                         product_id  rating  \n",
       "0  5581bb179770e44255d6bb9b9e1bcca9       4  \n",
       "1  bc911e68db068530ee4d709f33920330       4  \n",
       "2  a8fe47ad6f852f93cc92c7b408687de3       5  \n",
       "3  ac8e7cf3a658f63dc68dd7f3b8b5f97b       5  \n",
       "4  19421075ae0b585f2dc13ff149e2119d       4  "
      ]
     },
     "execution_count": 57,
     "metadata": {},
     "output_type": "execute_result"
    }
   ],
   "source": [
    "df0_rating = pd.merge(df0, dfp[['customer_unique_id', 'product_id', 'rating']],how='left', left_on=['customer_unique_id'], right_on=['customer_unique_id'])\n",
    "df0_rating.head()"
   ]
  },
  {
   "cell_type": "code",
   "execution_count": 58,
   "metadata": {},
   "outputs": [
    {
     "data": {
      "text/html": [
       "<div>\n",
       "<style scoped>\n",
       "    .dataframe tbody tr th:only-of-type {\n",
       "        vertical-align: middle;\n",
       "    }\n",
       "\n",
       "    .dataframe tbody tr th {\n",
       "        vertical-align: top;\n",
       "    }\n",
       "\n",
       "    .dataframe thead th {\n",
       "        text-align: right;\n",
       "    }\n",
       "</style>\n",
       "<table border=\"1\" class=\"dataframe\">\n",
       "  <thead>\n",
       "    <tr style=\"text-align: right;\">\n",
       "      <th></th>\n",
       "      <th>customer_unique_id</th>\n",
       "      <th>cluster</th>\n",
       "      <th>product_id</th>\n",
       "      <th>rating</th>\n",
       "    </tr>\n",
       "  </thead>\n",
       "  <tbody>\n",
       "    <tr>\n",
       "      <th>count</th>\n",
       "      <td>1728</td>\n",
       "      <td>1728.0</td>\n",
       "      <td>1728</td>\n",
       "      <td>1728.000000</td>\n",
       "    </tr>\n",
       "    <tr>\n",
       "      <th>unique</th>\n",
       "      <td>664</td>\n",
       "      <td>NaN</td>\n",
       "      <td>514</td>\n",
       "      <td>NaN</td>\n",
       "    </tr>\n",
       "    <tr>\n",
       "      <th>top</th>\n",
       "      <td>cf7d5df4ee5ebe39ed41f0c5c1584b1c</td>\n",
       "      <td>NaN</td>\n",
       "      <td>cec09725da5ed01471d9a505e7389d37</td>\n",
       "      <td>NaN</td>\n",
       "    </tr>\n",
       "    <tr>\n",
       "      <th>freq</th>\n",
       "      <td>12</td>\n",
       "      <td>NaN</td>\n",
       "      <td>50</td>\n",
       "      <td>NaN</td>\n",
       "    </tr>\n",
       "    <tr>\n",
       "      <th>mean</th>\n",
       "      <td>NaN</td>\n",
       "      <td>0.0</td>\n",
       "      <td>NaN</td>\n",
       "      <td>4.263889</td>\n",
       "    </tr>\n",
       "    <tr>\n",
       "      <th>std</th>\n",
       "      <td>NaN</td>\n",
       "      <td>0.0</td>\n",
       "      <td>NaN</td>\n",
       "      <td>1.016843</td>\n",
       "    </tr>\n",
       "    <tr>\n",
       "      <th>min</th>\n",
       "      <td>NaN</td>\n",
       "      <td>0.0</td>\n",
       "      <td>NaN</td>\n",
       "      <td>1.000000</td>\n",
       "    </tr>\n",
       "    <tr>\n",
       "      <th>25%</th>\n",
       "      <td>NaN</td>\n",
       "      <td>0.0</td>\n",
       "      <td>NaN</td>\n",
       "      <td>4.000000</td>\n",
       "    </tr>\n",
       "    <tr>\n",
       "      <th>50%</th>\n",
       "      <td>NaN</td>\n",
       "      <td>0.0</td>\n",
       "      <td>NaN</td>\n",
       "      <td>5.000000</td>\n",
       "    </tr>\n",
       "    <tr>\n",
       "      <th>75%</th>\n",
       "      <td>NaN</td>\n",
       "      <td>0.0</td>\n",
       "      <td>NaN</td>\n",
       "      <td>5.000000</td>\n",
       "    </tr>\n",
       "    <tr>\n",
       "      <th>max</th>\n",
       "      <td>NaN</td>\n",
       "      <td>0.0</td>\n",
       "      <td>NaN</td>\n",
       "      <td>5.000000</td>\n",
       "    </tr>\n",
       "  </tbody>\n",
       "</table>\n",
       "</div>"
      ],
      "text/plain": [
       "                      customer_unique_id  cluster  \\\n",
       "count                               1728   1728.0   \n",
       "unique                               664      NaN   \n",
       "top     cf7d5df4ee5ebe39ed41f0c5c1584b1c      NaN   \n",
       "freq                                  12      NaN   \n",
       "mean                                 NaN      0.0   \n",
       "std                                  NaN      0.0   \n",
       "min                                  NaN      0.0   \n",
       "25%                                  NaN      0.0   \n",
       "50%                                  NaN      0.0   \n",
       "75%                                  NaN      0.0   \n",
       "max                                  NaN      0.0   \n",
       "\n",
       "                              product_id       rating  \n",
       "count                               1728  1728.000000  \n",
       "unique                               514          NaN  \n",
       "top     cec09725da5ed01471d9a505e7389d37          NaN  \n",
       "freq                                  50          NaN  \n",
       "mean                                 NaN     4.263889  \n",
       "std                                  NaN     1.016843  \n",
       "min                                  NaN     1.000000  \n",
       "25%                                  NaN     4.000000  \n",
       "50%                                  NaN     5.000000  \n",
       "75%                                  NaN     5.000000  \n",
       "max                                  NaN     5.000000  "
      ]
     },
     "execution_count": 58,
     "metadata": {},
     "output_type": "execute_result"
    }
   ],
   "source": [
    "df0_rating.describe(include='all')"
   ]
  },
  {
   "cell_type": "markdown",
   "metadata": {},
   "source": [
    "### Pilih user yang memberikan rating kurang dari 2 item"
   ]
  },
  {
   "cell_type": "code",
   "execution_count": 59,
   "metadata": {},
   "outputs": [
    {
     "data": {
      "text/plain": [
       "518"
      ]
     },
     "execution_count": 59,
     "metadata": {},
     "output_type": "execute_result"
    }
   ],
   "source": [
    "user_freq = dict(df0_rating['customer_unique_id'].value_counts())\n",
    "user_list = [key for key, val in user_freq.items() if val < 2]\n",
    "len(user_list)"
   ]
  },
  {
   "cell_type": "code",
   "execution_count": 60,
   "metadata": {},
   "outputs": [
    {
     "data": {
      "text/plain": [
       "(1210, 4)"
      ]
     },
     "execution_count": 60,
     "metadata": {},
     "output_type": "execute_result"
    }
   ],
   "source": [
    "idx = df0_rating[df0_rating['customer_unique_id'].isin(user_list)].index\n",
    "df0_rating.drop(idx, axis=0,inplace=True)\n",
    "df0_rating.shape"
   ]
  },
  {
   "cell_type": "markdown",
   "metadata": {},
   "source": [
    "#### Generate product recommendation"
   ]
  },
  {
   "cell_type": "markdown",
   "metadata": {},
   "source": [
    "#### user-item rating matrix"
   ]
  },
  {
   "cell_type": "code",
   "execution_count": 61,
   "metadata": {},
   "outputs": [
    {
     "data": {
      "text/plain": [
       "(146, 183)"
      ]
     },
     "execution_count": 61,
     "metadata": {},
     "output_type": "execute_result"
    }
   ],
   "source": [
    "rating_matrix = df0_rating.pivot_table(values='rating', index='customer_unique_id', columns='product_id', aggfunc='first')\n",
    "rating_matrix.shape"
   ]
  },
  {
   "cell_type": "code",
   "execution_count": 62,
   "metadata": {},
   "outputs": [],
   "source": [
    "# user example\n",
    "cust_unique_id = rating_matrix.index"
   ]
  },
  {
   "cell_type": "markdown",
   "metadata": {},
   "source": [
    "#### Top 10 product recommendation"
   ]
  },
  {
   "cell_type": "code",
   "execution_count": 63,
   "metadata": {},
   "outputs": [
    {
     "data": {
      "text/plain": [
       "'00115fc7123b5310cf6d3a3aa932699e'"
      ]
     },
     "execution_count": 63,
     "metadata": {},
     "output_type": "execute_result"
    }
   ],
   "source": [
    "cust_unique_id[0]"
   ]
  },
  {
   "cell_type": "code",
   "execution_count": 64,
   "metadata": {},
   "outputs": [
    {
     "name": "stdout",
     "output_type": "stream",
     "text": [
      "Average similarity: 0.9978953493651807\n"
     ]
    },
    {
     "data": {
      "text/html": [
       "<div>\n",
       "<style scoped>\n",
       "    .dataframe tbody tr th:only-of-type {\n",
       "        vertical-align: middle;\n",
       "    }\n",
       "\n",
       "    .dataframe tbody tr th {\n",
       "        vertical-align: top;\n",
       "    }\n",
       "\n",
       "    .dataframe thead th {\n",
       "        text-align: right;\n",
       "    }\n",
       "</style>\n",
       "<table border=\"1\" class=\"dataframe\">\n",
       "  <thead>\n",
       "    <tr style=\"text-align: right;\">\n",
       "      <th></th>\n",
       "      <th>predicted_prod_id</th>\n",
       "      <th>predicted_rating</th>\n",
       "    </tr>\n",
       "  </thead>\n",
       "  <tbody>\n",
       "    <tr>\n",
       "      <th>129</th>\n",
       "      <td>f699b297070aa38aaf3de9639302506a</td>\n",
       "      <td>5.111074</td>\n",
       "    </tr>\n",
       "    <tr>\n",
       "      <th>132</th>\n",
       "      <td>f9ce5e5592c6836c379b156a1b043684</td>\n",
       "      <td>4.999950</td>\n",
       "    </tr>\n",
       "    <tr>\n",
       "      <th>28</th>\n",
       "      <td>35c4a5bb0f191b77c8900661f047250b</td>\n",
       "      <td>4.999900</td>\n",
       "    </tr>\n",
       "    <tr>\n",
       "      <th>101</th>\n",
       "      <td>b18e0067418085fab0785606c86d875c</td>\n",
       "      <td>4.999900</td>\n",
       "    </tr>\n",
       "    <tr>\n",
       "      <th>128</th>\n",
       "      <td>f68980d7981fcc92059f42a4fd82fb38</td>\n",
       "      <td>4.999900</td>\n",
       "    </tr>\n",
       "    <tr>\n",
       "      <th>78</th>\n",
       "      <td>8f2a61109d01cbda2cc6cdea233b1102</td>\n",
       "      <td>4.999900</td>\n",
       "    </tr>\n",
       "    <tr>\n",
       "      <th>51</th>\n",
       "      <td>5df044498554dec765264c2cad9804e6</td>\n",
       "      <td>4.899910</td>\n",
       "    </tr>\n",
       "    <tr>\n",
       "      <th>123</th>\n",
       "      <td>ec268f069320a08af47861967e4d7bee</td>\n",
       "      <td>4.888844</td>\n",
       "    </tr>\n",
       "    <tr>\n",
       "      <th>13</th>\n",
       "      <td>13e0e6adec3689a4206c6e9385a29003</td>\n",
       "      <td>4.874971</td>\n",
       "    </tr>\n",
       "    <tr>\n",
       "      <th>86</th>\n",
       "      <td>a0458f75b62b1e812480c0c915d9b649</td>\n",
       "      <td>4.857057</td>\n",
       "    </tr>\n",
       "  </tbody>\n",
       "</table>\n",
       "</div>"
      ],
      "text/plain": [
       "                    predicted_prod_id  predicted_rating\n",
       "129  f699b297070aa38aaf3de9639302506a          5.111074\n",
       "132  f9ce5e5592c6836c379b156a1b043684          4.999950\n",
       "28   35c4a5bb0f191b77c8900661f047250b          4.999900\n",
       "101  b18e0067418085fab0785606c86d875c          4.999900\n",
       "128  f68980d7981fcc92059f42a4fd82fb38          4.999900\n",
       "78   8f2a61109d01cbda2cc6cdea233b1102          4.999900\n",
       "51   5df044498554dec765264c2cad9804e6          4.899910\n",
       "123  ec268f069320a08af47861967e4d7bee          4.888844\n",
       "13   13e0e6adec3689a4206c6e9385a29003          4.874971\n",
       "86   a0458f75b62b1e812480c0c915d9b649          4.857057"
      ]
     },
     "execution_count": 64,
     "metadata": {},
     "output_type": "execute_result"
    }
   ],
   "source": [
    "res, avg_sim = predict_user_rating(cust_unique_id[0], rating_matrix, 'neighbors', 20)\n",
    "print('Average similarity:', avg_sim)\n",
    "get_recommendation(res, 10)"
   ]
  },
  {
   "cell_type": "markdown",
   "metadata": {},
   "source": [
    "#### RS evaluation"
   ]
  },
  {
   "cell_type": "code",
   "execution_count": 65,
   "metadata": {},
   "outputs": [
    {
     "name": "stdout",
     "output_type": "stream",
     "text": [
      "RMSE: 0.8476168032025855\n",
      "MAE: 0.7566342662508823\n",
      "Percentage of total rated items that can be predicted: 100.0 %\n",
      "Average num of similar users: 0.9978159617640661\n"
     ]
    },
    {
     "data": {
      "text/html": [
       "<div>\n",
       "<style scoped>\n",
       "    .dataframe tbody tr th:only-of-type {\n",
       "        vertical-align: middle;\n",
       "    }\n",
       "\n",
       "    .dataframe tbody tr th {\n",
       "        vertical-align: top;\n",
       "    }\n",
       "\n",
       "    .dataframe thead th {\n",
       "        text-align: right;\n",
       "    }\n",
       "</style>\n",
       "<table border=\"1\" class=\"dataframe\">\n",
       "  <thead>\n",
       "    <tr style=\"text-align: right;\">\n",
       "      <th></th>\n",
       "      <th>product_id</th>\n",
       "      <th>predicted_rating</th>\n",
       "      <th>actual_rating</th>\n",
       "    </tr>\n",
       "  </thead>\n",
       "  <tbody>\n",
       "    <tr>\n",
       "      <th>0</th>\n",
       "      <td>008cff0e5792219fae03e570f980b330</td>\n",
       "      <td>3.488422</td>\n",
       "      <td>3.0</td>\n",
       "    </tr>\n",
       "    <tr>\n",
       "      <th>1</th>\n",
       "      <td>1a758361b1c10b3ffe3d3373332de319</td>\n",
       "      <td>3.870600</td>\n",
       "      <td>4.0</td>\n",
       "    </tr>\n",
       "    <tr>\n",
       "      <th>2</th>\n",
       "      <td>3570caaeaa3f5a1ae76392bb2b4155f9</td>\n",
       "      <td>3.842345</td>\n",
       "      <td>3.0</td>\n",
       "    </tr>\n",
       "    <tr>\n",
       "      <th>3</th>\n",
       "      <td>4b5e26931a0b0d3a690a3f520329a975</td>\n",
       "      <td>3.969566</td>\n",
       "      <td>5.0</td>\n",
       "    </tr>\n",
       "    <tr>\n",
       "      <th>4</th>\n",
       "      <td>c6336fa91fbd87c359e44f5dca5a90ed</td>\n",
       "      <td>3.943975</td>\n",
       "      <td>5.0</td>\n",
       "    </tr>\n",
       "    <tr>\n",
       "      <th>5</th>\n",
       "      <td>c72edc98e7d77f0c4c04ec80730c05f5</td>\n",
       "      <td>4.017787</td>\n",
       "      <td>5.0</td>\n",
       "    </tr>\n",
       "    <tr>\n",
       "      <th>6</th>\n",
       "      <td>cb92637d91f8267856d2143b6fc7bd9e</td>\n",
       "      <td>4.400565</td>\n",
       "      <td>4.0</td>\n",
       "    </tr>\n",
       "    <tr>\n",
       "      <th>7</th>\n",
       "      <td>d3c044bd42d84a79e3b0c42662806a48</td>\n",
       "      <td>3.967457</td>\n",
       "      <td>3.0</td>\n",
       "    </tr>\n",
       "    <tr>\n",
       "      <th>8</th>\n",
       "      <td>d8de812ed5d981fc6a3984f4caa2aa05</td>\n",
       "      <td>4.140379</td>\n",
       "      <td>4.0</td>\n",
       "    </tr>\n",
       "    <tr>\n",
       "      <th>9</th>\n",
       "      <td>e44f675b60b3a3a2453ec36421e06f0f</td>\n",
       "      <td>3.958482</td>\n",
       "      <td>3.0</td>\n",
       "    </tr>\n",
       "    <tr>\n",
       "      <th>10</th>\n",
       "      <td>e9b2560544c293e02f2b966041e10f24</td>\n",
       "      <td>3.672744</td>\n",
       "      <td>5.0</td>\n",
       "    </tr>\n",
       "  </tbody>\n",
       "</table>\n",
       "</div>"
      ],
      "text/plain": [
       "                          product_id  predicted_rating  actual_rating\n",
       "0   008cff0e5792219fae03e570f980b330          3.488422            3.0\n",
       "1   1a758361b1c10b3ffe3d3373332de319          3.870600            4.0\n",
       "2   3570caaeaa3f5a1ae76392bb2b4155f9          3.842345            3.0\n",
       "3   4b5e26931a0b0d3a690a3f520329a975          3.969566            5.0\n",
       "4   c6336fa91fbd87c359e44f5dca5a90ed          3.943975            5.0\n",
       "5   c72edc98e7d77f0c4c04ec80730c05f5          4.017787            5.0\n",
       "6   cb92637d91f8267856d2143b6fc7bd9e          4.400565            4.0\n",
       "7   d3c044bd42d84a79e3b0c42662806a48          3.967457            3.0\n",
       "8   d8de812ed5d981fc6a3984f4caa2aa05          4.140379            4.0\n",
       "9   e44f675b60b3a3a2453ec36421e06f0f          3.958482            3.0\n",
       "10  e9b2560544c293e02f2b966041e10f24          3.672744            5.0"
      ]
     },
     "execution_count": 65,
     "metadata": {},
     "output_type": "execute_result"
    }
   ],
   "source": [
    "rmse, mae, result_df, item_predicted_percentage, avg_n_users = rs_user_evaluation(cust_unique_id[0], rating_matrix, 'neighbors',50)\n",
    "print('RMSE:',rmse)\n",
    "print('MAE:',mae)\n",
    "print('Percentage of total rated items that can be predicted:',item_predicted_percentage,'%')\n",
    "print('Average num of similar users:', avg_n_users)\n",
    "result_df"
   ]
  },
  {
   "cell_type": "markdown",
   "metadata": {},
   "source": [
    "# Result Comparison "
   ]
  },
  {
   "cell_type": "code",
   "execution_count": null,
   "metadata": {},
   "outputs": [],
   "source": [
    "# list num of neighbors\n",
    "n_neighbors = [10, 20, 30, 40, 50]"
   ]
  },
  {
   "cell_type": "markdown",
   "metadata": {},
   "source": [
    "## PCA-KM CF Method"
   ]
  },
  {
   "cell_type": "markdown",
   "metadata": {},
   "source": [
    "### Evaluate PCA-KM CF all neighbors with val data"
   ]
  },
  {
   "cell_type": "code",
   "execution_count": 66,
   "metadata": {
    "scrolled": true
   },
   "outputs": [
    {
     "name": "stdout",
     "output_type": "stream",
     "text": [
      "~~~~~~~~~~~~~ Num of neigbors :  10  ~~~~~~~~~~~~~~~~~\n",
      "Dataset train: 0\n",
      "Avg RMSE: 0.7681615980229939\n",
      "Avg MAE: 0.6614402751537621\n",
      "Avg Percentage: 86.64183855360325\n",
      "Avg Similarity Users: 0.8648763767795612\n",
      "############################################################\n",
      "Dataset train: 1\n",
      "Avg RMSE: 0.7853883879877448\n",
      "Avg MAE: 0.6731682665950974\n",
      "Avg Percentage: 87.2322453430408\n",
      "Avg Similarity Users: 0.8705645936877175\n",
      "############################################################\n",
      "Dataset train: 2\n",
      "Avg RMSE: 0.7519516372731733\n",
      "Avg MAE: 0.6451692692320256\n",
      "Avg Percentage: 88.34173694000283\n",
      "Avg Similarity Users: 0.8817084748187591\n",
      "############################################################\n",
      "Dataset train: 3\n",
      "Avg RMSE: 0.7307143740363712\n",
      "Avg MAE: 0.6249677780434846\n",
      "Avg Percentage: 85.75799430771802\n",
      "Avg Similarity Users: 0.8558800115198707\n",
      "############################################################\n",
      "Dataset train: 4\n",
      "Avg RMSE: 0.7727365221559431\n",
      "Avg MAE: 0.6642409778955658\n",
      "Avg Percentage: 86.44568346139023\n",
      "Avg Similarity Users: 0.8627720275519867\n",
      "############################################################\n",
      "Avg RMSE dataset train with n_neighbors  10 : 0.7617905038952453\n",
      "Avg MAE dataset train with n_neighbors  10 : 0.653797313383987\n",
      "~~~~~~~~~~~~~ Num of neigbors :  20  ~~~~~~~~~~~~~~~~~\n",
      "Dataset train: 0\n",
      "Avg RMSE: 0.7557242286740627\n",
      "Avg MAE: 0.6519731696806392\n",
      "Avg Percentage: 86.64183855360325\n",
      "Avg Similarity Users: 0.864886367170011\n",
      "############################################################\n",
      "Dataset train: 1\n",
      "Avg RMSE: 0.7716840018073448\n",
      "Avg MAE: 0.6625799323090816\n",
      "Avg Percentage: 87.2322453430408\n",
      "Avg Similarity Users: 0.8705721583595825\n",
      "############################################################\n",
      "Dataset train: 2\n",
      "Avg RMSE: 0.7407694174703912\n",
      "Avg MAE: 0.63710932676742\n",
      "Avg Percentage: 88.34173694000283\n",
      "Avg Similarity Users: 0.8817137136418295\n",
      "############################################################\n",
      "Dataset train: 3\n",
      "Avg RMSE: 0.724575178979712\n",
      "Avg MAE: 0.6206189504428303\n",
      "Avg Percentage: 85.75799430771802\n",
      "Avg Similarity Users: 0.8558778901801027\n",
      "############################################################\n",
      "Dataset train: 4\n",
      "Avg RMSE: 0.7610593785863674\n",
      "Avg MAE: 0.6605184105564947\n",
      "Avg Percentage: 86.44568346139023\n",
      "Avg Similarity Users: 0.8627738543105147\n",
      "############################################################\n",
      "Avg RMSE dataset train with n_neighbors  20 : 0.7507624411035756\n",
      "Avg MAE dataset train with n_neighbors  20 : 0.6465599579512932\n",
      "~~~~~~~~~~~~~ Num of neigbors :  30  ~~~~~~~~~~~~~~~~~\n",
      "Dataset train: 0\n",
      "Avg RMSE: 0.7504530981789354\n",
      "Avg MAE: 0.6486860655886713\n",
      "Avg Percentage: 86.64183855360325\n",
      "Avg Similarity Users: 0.864888062120193\n",
      "############################################################\n",
      "Dataset train: 1\n",
      "Avg RMSE: 0.7695392344534409\n",
      "Avg MAE: 0.6618919835360988\n",
      "Avg Percentage: 87.2322453430408\n",
      "Avg Similarity Users: 0.8705760234288106\n",
      "############################################################\n",
      "Dataset train: 2\n",
      "Avg RMSE: 0.7388647472494901\n",
      "Avg MAE: 0.6369982119899541\n",
      "Avg Percentage: 88.34173694000283\n",
      "Avg Similarity Users: 0.8817154352478399\n",
      "############################################################\n",
      "Dataset train: 3\n",
      "Avg RMSE: 0.7259116507023753\n",
      "Avg MAE: 0.6233716303166745\n",
      "Avg Percentage: 85.75799430771802\n",
      "Avg Similarity Users: 0.8558780461718705\n",
      "############################################################\n",
      "Dataset train: 4\n",
      "Avg RMSE: 0.7581936586185289\n",
      "Avg MAE: 0.6577697681201551\n",
      "Avg Percentage: 86.44568346139023\n",
      "Avg Similarity Users: 0.8627778979979085\n",
      "############################################################\n",
      "Avg RMSE dataset train with n_neighbors  30 : 0.7485924778405542\n",
      "Avg MAE dataset train with n_neighbors  30 : 0.6457435319103108\n",
      "~~~~~~~~~~~~~ Num of neigbors :  40  ~~~~~~~~~~~~~~~~~\n",
      "Dataset train: 0\n",
      "Avg RMSE: 0.7507966034278976\n",
      "Avg MAE: 0.6497852690453796\n",
      "Avg Percentage: 86.64183855360325\n",
      "Avg Similarity Users: 0.8648879366885365\n",
      "############################################################\n",
      "Dataset train: 1\n",
      "Avg RMSE: 0.7675425495615952\n",
      "Avg MAE: 0.6602114798547696\n",
      "Avg Percentage: 87.2322453430408\n",
      "Avg Similarity Users: 0.8705783064858061\n",
      "############################################################\n",
      "Dataset train: 2\n",
      "Avg RMSE: 0.7401836998804844\n",
      "Avg MAE: 0.6382914352681247\n",
      "Avg Percentage: 88.34173694000283\n",
      "Avg Similarity Users: 0.881714506845272\n",
      "############################################################\n",
      "Dataset train: 3\n",
      "Avg RMSE: 0.7257994098659257\n",
      "Avg MAE: 0.6224754029081482\n",
      "Avg Percentage: 85.75799430771802\n",
      "Avg Similarity Users: 0.8558782663435186\n",
      "############################################################\n",
      "Dataset train: 4\n",
      "Avg RMSE: 0.7582071414297582\n",
      "Avg MAE: 0.6580822123306607\n",
      "Avg Percentage: 86.44568346139023\n",
      "Avg Similarity Users: 0.8627799766924936\n",
      "############################################################\n",
      "Avg RMSE dataset train with n_neighbors  40 : 0.7485058808331322\n",
      "Avg MAE dataset train with n_neighbors  40 : 0.6457691598814165\n",
      "~~~~~~~~~~~~~ Num of neigbors :  50  ~~~~~~~~~~~~~~~~~\n",
      "Dataset train: 0\n",
      "Avg RMSE: 0.7513582788454326\n",
      "Avg MAE: 0.6504153652789493\n",
      "Avg Percentage: 86.64183855360325\n",
      "Avg Similarity Users: 0.8648875098299363\n",
      "############################################################\n",
      "Dataset train: 1\n",
      "Avg RMSE: 0.7669899839798595\n",
      "Avg MAE: 0.6597126125863796\n",
      "Avg Percentage: 87.2322453430408\n",
      "Avg Similarity Users: 0.8705784374518067\n",
      "############################################################\n",
      "Dataset train: 2\n",
      "Avg RMSE: 0.740531423163769\n",
      "Avg MAE: 0.6389673228804597\n",
      "Avg Percentage: 88.34173694000283\n",
      "Avg Similarity Users: 0.8817142852403893\n",
      "############################################################\n",
      "Dataset train: 3\n",
      "Avg RMSE: 0.7262373278446029\n",
      "Avg MAE: 0.6227911238669078\n",
      "Avg Percentage: 85.75799430771802\n",
      "Avg Similarity Users: 0.8558782273580737\n",
      "############################################################\n",
      "Dataset train: 4\n",
      "Avg RMSE: 0.7575582289515682\n",
      "Avg MAE: 0.6568901116135455\n",
      "Avg Percentage: 86.44568346139023\n",
      "Avg Similarity Users: 0.8627805131574969\n",
      "############################################################\n",
      "Avg RMSE dataset train with n_neighbors  50 : 0.7485350485570466\n",
      "Avg MAE dataset train with n_neighbors  50 : 0.6457553072452484\n"
     ]
    }
   ],
   "source": [
    "avg_rmse_all_neighbors = []\n",
    "avg_mae_all_neighbors = []\n",
    "\n",
    "for n_neighbor in n_neighbors:\n",
    "    avg_rmse_df = []\n",
    "    avg_mae_df = []\n",
    "    print('~~~~~~~~~~~~~ Num of neigbors : ',n_neighbor,' ~~~~~~~~~~~~~~~~~')    \n",
    "    for i in range(len(y_val_cv)):    \n",
    "        rmse_all = []\n",
    "        mae_all = []\n",
    "        percentage_all = []\n",
    "        avg_users_all = []\n",
    "        tmp = y_val_cv[i].copy()\n",
    "        n_clus = list(tmp['cluster'].unique())\n",
    "        for n in n_clus:\n",
    "            # get data cluster n\n",
    "            dftmp = tmp[tmp['cluster'] == n]            \n",
    "\n",
    "            # join with df rating\n",
    "            df_rating = pd.merge(dftmp, dfp[['customer_unique_id', 'product_id', 'rating']],how='left', left_on=['customer_unique_id'], right_on=['customer_unique_id'])\n",
    "\n",
    "            # drop user who only rated below 2 product\n",
    "            user_freq = dict(df_rating['customer_unique_id'].value_counts())\n",
    "            user_list = [key for key, val in user_freq.items() if val < 2]\n",
    "            idx = df_rating[df_rating['customer_unique_id'].isin(user_list)].index\n",
    "            df_rating.drop(idx, axis=0,inplace=True)\n",
    "\n",
    "            # create rating matrix\n",
    "            rating_matrix = df_rating.pivot_table(values='rating', index='customer_unique_id', columns='product_id', aggfunc='first')\n",
    "\n",
    "            # get user\n",
    "            cust_unique_id = rating_matrix.index\n",
    "            for user in cust_unique_id:     \n",
    "                rmse, mae, _ , item_predicted_percentage, avg_n_users = rs_user_evaluation(user, rating_matrix, 'neighbors', n_neighbor)\n",
    "                percentage_all.append(item_predicted_percentage)\n",
    "                avg_users_all.append(avg_n_users)\n",
    "                rmse_all.append(rmse)\n",
    "                mae_all.append(mae)\n",
    "\n",
    "        print('Dataset train:', i)\n",
    "        print('Avg RMSE:',sum(filter(None, rmse_all)) / len(rmse_all))\n",
    "        print('Avg MAE:',sum(filter(None, mae_all)) / len(mae_all))\n",
    "        print('Avg Percentage:',sum(filter(None, percentage_all)) / len(percentage_all))\n",
    "        print('Avg Similarity Users:',sum(filter(None, avg_users_all)) / len(avg_users_all))\n",
    "        print('############################################################')\n",
    "        \n",
    "        avg_rmse_df.append(sum(filter(None, rmse_all)) / len(rmse_all))\n",
    "        avg_mae_df.append(sum(filter(None, mae_all)) / len(mae_all))\n",
    "        \n",
    "    print('Avg RMSE dataset train with n_neighbors ',n_neighbor,':',sum(filter(None, avg_rmse_df)) / len(avg_rmse_df))\n",
    "    print('Avg MAE dataset train with n_neighbors ',n_neighbor,':',sum(filter(None, avg_mae_df)) / len(avg_mae_df))\n",
    "    \n",
    "    avg_rmse_all_neighbors.append(sum(filter(None, avg_rmse_df)) / len(avg_rmse_df))\n",
    "    avg_mae_all_neighbors.append(sum(filter(None, avg_mae_df)) / len(avg_mae_df))"
   ]
  },
  {
   "cell_type": "code",
   "execution_count": 79,
   "metadata": {},
   "outputs": [
    {
     "data": {
      "image/png": "[encoded data removed]",
      "text/plain": [
       "<Figure size 576x432 with 1 Axes>"
      ]
     },
     "metadata": {
      "needs_background": "light"
     },
     "output_type": "display_data"
    }
   ],
   "source": [
    "plt.figure(figsize=(8,6))\n",
    "plt.plot(n_neighbors, avg_rmse_all_neighbors, label='RMSE', marker='o')\n",
    "plt.plot(n_neighbors, avg_mae_all_neighbors, label='MAE', marker='s')\n",
    "plt.xlabel('Num of neighbors')\n",
    "plt.xticks(n_neighbors)\n",
    "plt.ylabel('Values')\n",
    "plt.title('RMSE & MAE PCA-KM for Each N-neighbors on Validation data')\n",
    "plt.legend()\n",
    "plt.show()"
   ]
  },
  {
   "cell_type": "markdown",
   "metadata": {},
   "source": [
    "### Evaluate PCA-KM CF all neighbors with test data"
   ]
  },
  {
   "cell_type": "markdown",
   "metadata": {},
   "source": [
    "#### Apply PCA"
   ]
  },
  {
   "cell_type": "code",
   "execution_count": 68,
   "metadata": {},
   "outputs": [
    {
     "data": {
      "text/plain": [
       "(1094, 9)"
      ]
     },
     "execution_count": 68,
     "metadata": {},
     "output_type": "execute_result"
    }
   ],
   "source": [
    "X_test.shape"
   ]
  },
  {
   "cell_type": "code",
   "execution_count": 69,
   "metadata": {},
   "outputs": [
    {
     "data": {
      "text/html": [
       "<div>\n",
       "<style scoped>\n",
       "    .dataframe tbody tr th:only-of-type {\n",
       "        vertical-align: middle;\n",
       "    }\n",
       "\n",
       "    .dataframe tbody tr th {\n",
       "        vertical-align: top;\n",
       "    }\n",
       "\n",
       "    .dataframe thead th {\n",
       "        text-align: right;\n",
       "    }\n",
       "</style>\n",
       "<table border=\"1\" class=\"dataframe\">\n",
       "  <thead>\n",
       "    <tr style=\"text-align: right;\">\n",
       "      <th></th>\n",
       "      <th>total_payment_installments</th>\n",
       "      <th>total_payment_value</th>\n",
       "      <th>geolocation_lat</th>\n",
       "      <th>geolocation_lng</th>\n",
       "    </tr>\n",
       "  </thead>\n",
       "  <tbody>\n",
       "    <tr>\n",
       "      <th>0</th>\n",
       "      <td>2.407572</td>\n",
       "      <td>-0.810558</td>\n",
       "      <td>-0.323816</td>\n",
       "      <td>-1.667628</td>\n",
       "    </tr>\n",
       "    <tr>\n",
       "      <th>1</th>\n",
       "      <td>2.407572</td>\n",
       "      <td>2.576152</td>\n",
       "      <td>-1.865278</td>\n",
       "      <td>-1.662286</td>\n",
       "    </tr>\n",
       "    <tr>\n",
       "      <th>2</th>\n",
       "      <td>-0.617273</td>\n",
       "      <td>-1.339230</td>\n",
       "      <td>-0.442435</td>\n",
       "      <td>-0.121182</td>\n",
       "    </tr>\n",
       "    <tr>\n",
       "      <th>3</th>\n",
       "      <td>-0.617273</td>\n",
       "      <td>1.481692</td>\n",
       "      <td>0.107947</td>\n",
       "      <td>0.075322</td>\n",
       "    </tr>\n",
       "    <tr>\n",
       "      <th>4</th>\n",
       "      <td>-0.617273</td>\n",
       "      <td>-1.036220</td>\n",
       "      <td>0.934648</td>\n",
       "      <td>2.278258</td>\n",
       "    </tr>\n",
       "  </tbody>\n",
       "</table>\n",
       "</div>"
      ],
      "text/plain": [
       "   total_payment_installments  total_payment_value  geolocation_lat  \\\n",
       "0                    2.407572            -0.810558        -0.323816   \n",
       "1                    2.407572             2.576152        -1.865278   \n",
       "2                   -0.617273            -1.339230        -0.442435   \n",
       "3                   -0.617273             1.481692         0.107947   \n",
       "4                   -0.617273            -1.036220         0.934648   \n",
       "\n",
       "   geolocation_lng  \n",
       "0        -1.667628  \n",
       "1        -1.662286  \n",
       "2        -0.121182  \n",
       "3         0.075322  \n",
       "4         2.278258  "
      ]
     },
     "execution_count": 69,
     "metadata": {},
     "output_type": "execute_result"
    }
   ],
   "source": [
    "X_test.iloc[:, :4].head()"
   ]
  },
  {
   "cell_type": "code",
   "execution_count": 70,
   "metadata": {},
   "outputs": [
    {
     "data": {
      "text/html": [
       "<div>\n",
       "<style scoped>\n",
       "    .dataframe tbody tr th:only-of-type {\n",
       "        vertical-align: middle;\n",
       "    }\n",
       "\n",
       "    .dataframe tbody tr th {\n",
       "        vertical-align: top;\n",
       "    }\n",
       "\n",
       "    .dataframe thead th {\n",
       "        text-align: right;\n",
       "    }\n",
       "</style>\n",
       "<table border=\"1\" class=\"dataframe\">\n",
       "  <thead>\n",
       "    <tr style=\"text-align: right;\">\n",
       "      <th></th>\n",
       "      <th>total_payment_installments</th>\n",
       "      <th>total_payment_value</th>\n",
       "      <th>geolocation_lat</th>\n",
       "      <th>geolocation_lng</th>\n",
       "      <th>total_payment_sequential</th>\n",
       "      <th>payment_type_boleto</th>\n",
       "      <th>payment_type_credit_card</th>\n",
       "      <th>payment_type_debit_card</th>\n",
       "      <th>payment_type_voucher</th>\n",
       "    </tr>\n",
       "  </thead>\n",
       "  <tbody>\n",
       "    <tr>\n",
       "      <th>count</th>\n",
       "      <td>1.094000e+03</td>\n",
       "      <td>1.094000e+03</td>\n",
       "      <td>1.094000e+03</td>\n",
       "      <td>1.094000e+03</td>\n",
       "      <td>1094.0</td>\n",
       "      <td>1094.000000</td>\n",
       "      <td>1094.000000</td>\n",
       "      <td>1094.00000</td>\n",
       "      <td>1094.000000</td>\n",
       "    </tr>\n",
       "    <tr>\n",
       "      <th>mean</th>\n",
       "      <td>1.035126e-17</td>\n",
       "      <td>-2.238967e-16</td>\n",
       "      <td>8.482449e-16</td>\n",
       "      <td>2.023239e-15</td>\n",
       "      <td>1.0</td>\n",
       "      <td>0.232176</td>\n",
       "      <td>0.735832</td>\n",
       "      <td>0.02011</td>\n",
       "      <td>0.011883</td>\n",
       "    </tr>\n",
       "    <tr>\n",
       "      <th>std</th>\n",
       "      <td>1.000457e+00</td>\n",
       "      <td>1.000457e+00</td>\n",
       "      <td>1.000457e+00</td>\n",
       "      <td>1.000457e+00</td>\n",
       "      <td>0.0</td>\n",
       "      <td>0.422413</td>\n",
       "      <td>0.441091</td>\n",
       "      <td>0.14044</td>\n",
       "      <td>0.108409</td>\n",
       "    </tr>\n",
       "    <tr>\n",
       "      <th>min</th>\n",
       "      <td>-6.172731e-01</td>\n",
       "      <td>-1.624277e+00</td>\n",
       "      <td>-2.566053e+00</td>\n",
       "      <td>-3.045081e+00</td>\n",
       "      <td>1.0</td>\n",
       "      <td>0.000000</td>\n",
       "      <td>0.000000</td>\n",
       "      <td>0.00000</td>\n",
       "      <td>0.000000</td>\n",
       "    </tr>\n",
       "    <tr>\n",
       "      <th>25%</th>\n",
       "      <td>-6.172731e-01</td>\n",
       "      <td>-7.807911e-01</td>\n",
       "      <td>-4.398043e-01</td>\n",
       "      <td>-4.790105e-01</td>\n",
       "      <td>1.0</td>\n",
       "      <td>0.000000</td>\n",
       "      <td>0.000000</td>\n",
       "      <td>0.00000</td>\n",
       "      <td>0.000000</td>\n",
       "    </tr>\n",
       "    <tr>\n",
       "      <th>50%</th>\n",
       "      <td>-6.172731e-01</td>\n",
       "      <td>-2.778770e-01</td>\n",
       "      <td>-1.929006e-01</td>\n",
       "      <td>-2.998085e-02</td>\n",
       "      <td>1.0</td>\n",
       "      <td>0.000000</td>\n",
       "      <td>1.000000</td>\n",
       "      <td>0.00000</td>\n",
       "      <td>0.000000</td>\n",
       "    </tr>\n",
       "    <tr>\n",
       "      <th>75%</th>\n",
       "      <td>1.389383e-01</td>\n",
       "      <td>5.323901e-01</td>\n",
       "      <td>4.033885e-01</td>\n",
       "      <td>8.460640e-01</td>\n",
       "      <td>1.0</td>\n",
       "      <td>0.000000</td>\n",
       "      <td>1.000000</td>\n",
       "      <td>0.00000</td>\n",
       "      <td>0.000000</td>\n",
       "    </tr>\n",
       "    <tr>\n",
       "      <th>max</th>\n",
       "      <td>3.163784e+00</td>\n",
       "      <td>3.111653e+00</td>\n",
       "      <td>3.042150e+00</td>\n",
       "      <td>2.739117e+00</td>\n",
       "      <td>1.0</td>\n",
       "      <td>1.000000</td>\n",
       "      <td>1.000000</td>\n",
       "      <td>1.00000</td>\n",
       "      <td>1.000000</td>\n",
       "    </tr>\n",
       "  </tbody>\n",
       "</table>\n",
       "</div>"
      ],
      "text/plain": [
       "       total_payment_installments  total_payment_value  geolocation_lat  \\\n",
       "count                1.094000e+03         1.094000e+03     1.094000e+03   \n",
       "mean                 1.035126e-17        -2.238967e-16     8.482449e-16   \n",
       "std                  1.000457e+00         1.000457e+00     1.000457e+00   \n",
       "min                 -6.172731e-01        -1.624277e+00    -2.566053e+00   \n",
       "25%                 -6.172731e-01        -7.807911e-01    -4.398043e-01   \n",
       "50%                 -6.172731e-01        -2.778770e-01    -1.929006e-01   \n",
       "75%                  1.389383e-01         5.323901e-01     4.033885e-01   \n",
       "max                  3.163784e+00         3.111653e+00     3.042150e+00   \n",
       "\n",
       "       geolocation_lng  total_payment_sequential  payment_type_boleto  \\\n",
       "count     1.094000e+03                    1094.0          1094.000000   \n",
       "mean      2.023239e-15                       1.0             0.232176   \n",
       "std       1.000457e+00                       0.0             0.422413   \n",
       "min      -3.045081e+00                       1.0             0.000000   \n",
       "25%      -4.790105e-01                       1.0             0.000000   \n",
       "50%      -2.998085e-02                       1.0             0.000000   \n",
       "75%       8.460640e-01                       1.0             0.000000   \n",
       "max       2.739117e+00                       1.0             1.000000   \n",
       "\n",
       "       payment_type_credit_card  payment_type_debit_card  payment_type_voucher  \n",
       "count               1094.000000               1094.00000           1094.000000  \n",
       "mean                   0.735832                  0.02011              0.011883  \n",
       "std                    0.441091                  0.14044              0.108409  \n",
       "min                    0.000000                  0.00000              0.000000  \n",
       "25%                    0.000000                  0.00000              0.000000  \n",
       "50%                    1.000000                  0.00000              0.000000  \n",
       "75%                    1.000000                  0.00000              0.000000  \n",
       "max                    1.000000                  1.00000              1.000000  "
      ]
     },
     "execution_count": 70,
     "metadata": {},
     "output_type": "execute_result"
    }
   ],
   "source": [
    "X_test.describe(include='all')"
   ]
  },
  {
   "cell_type": "code",
   "execution_count": 71,
   "metadata": {},
   "outputs": [],
   "source": [
    "X_test_pca = pd.DataFrame(pca_new.transform(X_test.iloc[:, :4]))"
   ]
  },
  {
   "cell_type": "code",
   "execution_count": 72,
   "metadata": {},
   "outputs": [],
   "source": [
    "X_test_pca = X_test_pca.assign(payment_type_credit_card = X_test.loc[:, 'payment_type_credit_card'])\n",
    "X_test_pca = X_test_pca.assign(payment_type_debit_card = X_test.loc[:, 'payment_type_debit_card'])\n",
    "X_test_pca = X_test_pca.assign(payment_type_voucher = X_test.loc[:, 'payment_type_voucher'])\n",
    "X_test_pca = X_test_pca.assign(payment_type_boleto = X_test.loc[:, 'payment_type_boleto'])"
   ]
  },
  {
   "cell_type": "code",
   "execution_count": 73,
   "metadata": {},
   "outputs": [
    {
     "data": {
      "text/plain": [
       "(1094, 6)"
      ]
     },
     "execution_count": 73,
     "metadata": {},
     "output_type": "execute_result"
    }
   ],
   "source": [
    "X_test_pca.shape"
   ]
  },
  {
   "cell_type": "markdown",
   "metadata": {},
   "source": [
    "#### Scaling Test Dataset"
   ]
  },
  {
   "cell_type": "code",
   "execution_count": 74,
   "metadata": {},
   "outputs": [],
   "source": [
    "X_test_pca[X_test_pca.columns] = scaler.transform(X_test_pca)"
   ]
  },
  {
   "cell_type": "markdown",
   "metadata": {},
   "source": [
    "#### Apply K-Means"
   ]
  },
  {
   "cell_type": "code",
   "execution_count": 75,
   "metadata": {},
   "outputs": [
    {
     "name": "stdout",
     "output_type": "stream",
     "text": [
      "Dataset test silhouette coef: 0.845154364000818\n"
     ]
    },
    {
     "data": {
      "image/png": "[encoded data removed]",
      "text/plain": [
       "<Figure size 432x288 with 1 Axes>"
      ]
     },
     "metadata": {
      "needs_background": "light"
     },
     "output_type": "display_data"
    }
   ],
   "source": [
    "# KMeans clustering\n",
    "y_test_predict = km_val.predict(X_test_pca)\n",
    "\n",
    "# Silhouette score\n",
    "silhouette_val = silhouette_score(X_test_pca, y_test_predict)\n",
    "print('Dataset test silhouette coef:', silhouette_val)\n",
    "\n",
    "# Compute the silhouette scores for each sample\n",
    "sample_silhouette_values = silhouette_samples(X_test_pca, y_test_predict)\n",
    "\n",
    "# Create figure\n",
    "fig = plt.figure()\n",
    "ax1 = fig.add_axes([0,0,1,1])\n",
    "ax1.set_xlim([-0.1, 1])\n",
    "ax1.set_ylim([0, len(X_test_pca) + (selected_n_clus + 1) * 10])\n",
    "y_lower = 10\n",
    "for i in range(selected_n_clus):\n",
    "    # Aggregate the silhouette scores for samples belonging to\n",
    "    # cluster i, and sort them\n",
    "    ith_cluster_silhouette_values = \\\n",
    "        sample_silhouette_values[y_test_predict == i]\n",
    "\n",
    "    ith_cluster_silhouette_values.sort()\n",
    "\n",
    "    size_cluster_i = ith_cluster_silhouette_values.shape[0]\n",
    "    y_upper = y_lower + size_cluster_i\n",
    "\n",
    "    color = cm.nipy_spectral(float(i) / n_clusters)\n",
    "    ax1.fill_betweenx(np.arange(y_lower, y_upper),\n",
    "                      0, ith_cluster_silhouette_values,\n",
    "                      facecolor=color, edgecolor=color, alpha=0.7)\n",
    "\n",
    "    # Label the silhouette plots with their cluster numbers at the middle\n",
    "    ax1.text(-0.05, y_lower + 0.5 * size_cluster_i, str(i))\n",
    "\n",
    "    # Compute the new y_lower for next plot\n",
    "    y_lower = y_upper + 10  # 10 for the 0 samples\n",
    "\n",
    "ax1.set_xlabel(\"Silhouette coefficient\")\n",
    "ax1.set_ylabel(\"Cluster label\")\n",
    "\n",
    "# The vertical line for average silhouette score of all the values\n",
    "ax1.axvline(x=silhouette_val, color=\"red\", linestyle=\"--\")\n",
    "\n",
    "ax1.set_yticks([])  # Clear the yaxis labels / ticks\n",
    "ax1.set_xticks([-0.1, 0, 0.2, 0.4, 0.6, 0.8, 1])\n",
    "plt.title((\"Silhouette coefficient PCA KMeans clustering data test with n_clusters = %d\" % selected_n_clus), fontsize=14, fontweight='bold')\n",
    "\n",
    "plt.show()\n",
    "\n",
    "# tambah kolom kluster\n",
    "y_test['cluster'] = pd.Series(y_test_predict)\n"
   ]
  },
  {
   "cell_type": "markdown",
   "metadata": {},
   "source": [
    "#### Evaluate PCA-KM CF test"
   ]
  },
  {
   "cell_type": "code",
   "execution_count": 76,
   "metadata": {
    "scrolled": true
   },
   "outputs": [
    {
     "name": "stdout",
     "output_type": "stream",
     "text": [
      "~~~~~~~~~~~~~ Num of neigbors :  10  ~~~~~~~~~~~~~~~~~\n",
      "############################################################\n",
      "Dataset test:\n",
      "Avg RMSE: 0.7718062651856156\n",
      "Avg MAE: 0.6626521178543732\n",
      "Avg Percentage: 88.03827669707493\n",
      "Avg Num of Similar Users: 0.8788839276677758\n",
      "~~~~~~~~~~~~~ Num of neigbors :  20  ~~~~~~~~~~~~~~~~~\n",
      "############################################################\n",
      "Dataset test:\n",
      "Avg RMSE: 0.7574715051261616\n",
      "Avg MAE: 0.6529668337381309\n",
      "Avg Percentage: 88.03827669707493\n",
      "Avg Num of Similar Users: 0.87889269760343\n",
      "~~~~~~~~~~~~~ Num of neigbors :  30  ~~~~~~~~~~~~~~~~~\n",
      "############################################################\n",
      "Dataset test:\n",
      "Avg RMSE: 0.7530450892181813\n",
      "Avg MAE: 0.6510499314090272\n",
      "Avg Percentage: 88.03827669707493\n",
      "Avg Num of Similar Users: 0.8788957801393528\n",
      "~~~~~~~~~~~~~ Num of neigbors :  40  ~~~~~~~~~~~~~~~~~\n",
      "############################################################\n",
      "Dataset test:\n",
      "Avg RMSE: 0.7530429058110321\n",
      "Avg MAE: 0.6516585170294231\n",
      "Avg Percentage: 88.03827669707493\n",
      "Avg Num of Similar Users: 0.8788969242296067\n",
      "~~~~~~~~~~~~~ Num of neigbors :  50  ~~~~~~~~~~~~~~~~~\n",
      "############################################################\n",
      "Dataset test:\n",
      "Avg RMSE: 0.7527003180521902\n",
      "Avg MAE: 0.65113024315349\n",
      "Avg Percentage: 88.03827669707493\n",
      "Avg Num of Similar Users: 0.8788970801504381\n"
     ]
    }
   ],
   "source": [
    "avg_rmse_all_neighbors_test1 = []\n",
    "avg_mae_all_neighbors_test1 = []\n",
    "for n_neighbor in n_neighbors:\n",
    "    print('~~~~~~~~~~~~~ Num of neigbors : ',n_neighbor,' ~~~~~~~~~~~~~~~~~')    \n",
    "    rmse_all_test1 = []\n",
    "    mae_all_test1 = []\n",
    "    percentage_all_test1 = []\n",
    "    avg_users_all_test1 = []\n",
    "\n",
    "    tmp = y_test.copy()\n",
    "    n_clus = list(tmp['cluster'].unique())\n",
    "    for n in n_clus:\n",
    "        # get data cluster n\n",
    "        dftmp = tmp[tmp['cluster'] == n]\n",
    "\n",
    "\n",
    "        # join with df rating\n",
    "        df_rating = pd.merge(dftmp, dfp[['customer_unique_id', 'product_id', 'rating']],how='left', left_on=['customer_unique_id'], right_on=['customer_unique_id'])\n",
    "\n",
    "        # drop user who only rated below 2 product\n",
    "        user_freq = dict(df_rating['customer_unique_id'].value_counts())\n",
    "        user_list = [key for key, val in user_freq.items() if val < 2]\n",
    "        idx = df_rating[df_rating['customer_unique_id'].isin(user_list)].index\n",
    "        df_rating.drop(idx, axis=0,inplace=True)\n",
    "\n",
    "        # create rating matrix\n",
    "        test_rating_matrix = df_rating.pivot_table(values='rating', index='customer_unique_id', columns='product_id', aggfunc='first')\n",
    "\n",
    "        # get user\n",
    "        cust_unique_id = test_rating_matrix.index\n",
    "        for user in cust_unique_id:\n",
    "            rmse, mae, _ , item_predicted_percentage, avg_n_users = rs_user_evaluation(user, test_rating_matrix, 'neighbors', n_neighbor)\n",
    "            percentage_all_test1.append(item_predicted_percentage)\n",
    "            avg_users_all_test1.append(avg_n_users)\n",
    "            rmse_all_test1.append(rmse)\n",
    "            mae_all_test1.append(mae)\n",
    "\n",
    "    rmse1 = sum(filter(None, rmse_all_test1)) / len(rmse_all_test1)\n",
    "    mae1 = sum(filter(None, mae_all_test1)) / len(mae_all_test1)\n",
    "    \n",
    "    avg_rmse_all_neighbors_test1.append(rmse1)\n",
    "    avg_mae_all_neighbors_test1.append(mae1)\n",
    "    print('############################################################')\n",
    "    print('Dataset test:')\n",
    "    print('Avg RMSE:',rmse1)\n",
    "    print('Avg MAE:',mae1)\n",
    "    print('Avg Percentage:',sum(filter(None, percentage_all_test1)) / len(percentage_all_test1))\n",
    "    print('Avg Num of Similar Users:',sum(filter(None, avg_users_all_test1)) / len(avg_users_all_test1))"
   ]
  },
  {
   "cell_type": "code",
   "execution_count": 78,
   "metadata": {},
   "outputs": [
    {
     "data": {
      "image/png": "[encoded data removed]",
      "text/plain": [
       "<Figure size 576x432 with 1 Axes>"
      ]
     },
     "metadata": {
      "needs_background": "light"
     },
     "output_type": "display_data"
    }
   ],
   "source": [
    "plt.figure(figsize=(8,6))\n",
    "plt.plot(n_neighbors, avg_rmse_all_neighbors_test1, label='RMSE', marker='o')\n",
    "plt.plot(n_neighbors, avg_mae_all_neighbors_test1, label='MAE', marker='s')\n",
    "plt.xlabel('Num of neighbors')\n",
    "plt.xticks(n_neighbors)\n",
    "plt.ylabel('Values')\n",
    "plt.title('RMSE & MAE PCA-KM for Each N-neighbors on Test data')\n",
    "plt.legend()\n",
    "plt.show()"
   ]
  },
  {
   "cell_type": "code",
   "execution_count": null,
   "metadata": {},
   "outputs": [],
   "source": [
    "# rmse_all_test1 = []\n",
    "# mae_all_test1 = []\n",
    "# percentage_all_test1 = []\n",
    "# avg_users_all_test1 = []\n",
    "\n",
    "# start_time = time.time()\n",
    "# tmp = y_test.copy()\n",
    "# n_clus = list(tmp['cluster'].unique())\n",
    "# for n in n_clus:\n",
    "#     # get data cluster n\n",
    "#     dftmp = tmp[tmp['cluster'] == n]\n",
    "#     # dftmp.drop(['dummy_rating', 'cluster'], axis=1, inplace=True)\n",
    "    \n",
    "#     # join with df rating\n",
    "#     df_rating = pd.merge(dftmp, dfp[['customer_unique_id', 'product_id', 'rating']],how='left', left_on=['customer_unique_id'], right_on=['customer_unique_id'])\n",
    "    \n",
    "#     # drop user who only rated below 2 product\n",
    "#     user_freq = dict(df_rating['customer_unique_id'].value_counts())\n",
    "#     user_list = [key for key, val in user_freq.items() if val < 2]\n",
    "#     idx = df_rating[df_rating['customer_unique_id'].isin(user_list)].index\n",
    "#     df_rating.drop(idx, axis=0,inplace=True)\n",
    "\n",
    "#     # create rating matrix\n",
    "#     test_rating_matrix = df_rating.pivot_table(values='rating', index='customer_unique_id', columns='product_id', aggfunc='first')\n",
    "\n",
    "#     # get user\n",
    "#     cust_unique_id = test_rating_matrix.index\n",
    "#     for user in cust_unique_id:\n",
    "#         rmse, mae, _ , item_predicted_percentage, avg_n_users = rs_user_evaluation(user, test_rating_matrix, 'neighbors', 20)\n",
    "#         percentage_all_test1.append(item_predicted_percentage)\n",
    "#         avg_users_all_test1.append(avg_n_users)\n",
    "#         rmse_all_test1.append(rmse)\n",
    "#         mae_all_test1.append(mae)\n",
    "\n",
    "# # end of execution time\n",
    "# end_time = time.time()\n",
    "# exec_time_test1 = (end_time - start_time)\n",
    "# rmse1 = sum(filter(None, rmse_all_test1)) / len(rmse_all_test1)\n",
    "# mae1 = sum(filter(None, mae_all_test1)) / len(mae_all_test1)\n",
    "# print('############################################################')\n",
    "# print('Dataset test:')\n",
    "# print('Avg RMSE:',rmse1)\n",
    "# print('Avg MAE:',mae1)\n",
    "# print('Execution time: ',exec_time_test1)\n",
    "# print('Avg Percentage:',sum(filter(None, percentage_all_test1)) / len(percentage_all_test1))\n",
    "# print('Avg Num of Similar Users:',sum(filter(None, avg_users_all_test1)) / len(avg_users_all_test1))"
   ]
  },
  {
   "cell_type": "markdown",
   "metadata": {},
   "source": [
    "## K-Means CF Method"
   ]
  },
  {
   "cell_type": "markdown",
   "metadata": {},
   "source": [
    "### Evaluate KM CF all neighbors with val data"
   ]
  },
  {
   "cell_type": "markdown",
   "metadata": {},
   "source": [
    "#### Create new cross validation"
   ]
  },
  {
   "cell_type": "code",
   "execution_count": 80,
   "metadata": {},
   "outputs": [],
   "source": [
    "X_train_cv_km = []\n",
    "X_val_cv_km = []\n",
    "y_train_cv_km = []\n",
    "y_val_cv_km = []\n",
    "\n",
    "i = 0\n",
    "for train_index, val_index in kf.split(X_train2):\n",
    "    X_train_cv_km.append(X_train2.iloc[train_index,:])\n",
    "    X_val_cv_km.append(X_train2.iloc[val_index,:])\n",
    "    y_train_cv_km.append(y_train2.iloc[train_index,:])\n",
    "    y_val_cv_km.append(y_train2.iloc[val_index,:])\n",
    "    \n",
    "    \n",
    "    X_train_cv_km[i].reset_index(drop=True, inplace=True)\n",
    "    y_train_cv_km[i].reset_index(drop=True, inplace=True)\n",
    "    X_val_cv_km[i].reset_index(drop=True, inplace=True)\n",
    "    y_val_cv_km[i].reset_index(drop=True, inplace=True)\n",
    "    \n",
    "    i += 1"
   ]
  },
  {
   "cell_type": "code",
   "execution_count": 81,
   "metadata": {},
   "outputs": [
    {
     "data": {
      "text/html": [
       "<div>\n",
       "<style scoped>\n",
       "    .dataframe tbody tr th:only-of-type {\n",
       "        vertical-align: middle;\n",
       "    }\n",
       "\n",
       "    .dataframe tbody tr th {\n",
       "        vertical-align: top;\n",
       "    }\n",
       "\n",
       "    .dataframe thead th {\n",
       "        text-align: right;\n",
       "    }\n",
       "</style>\n",
       "<table border=\"1\" class=\"dataframe\">\n",
       "  <thead>\n",
       "    <tr style=\"text-align: right;\">\n",
       "      <th></th>\n",
       "      <th>total_payment_installments</th>\n",
       "      <th>total_payment_value</th>\n",
       "      <th>geolocation_lat</th>\n",
       "      <th>geolocation_lng</th>\n",
       "      <th>total_payment_sequential</th>\n",
       "      <th>payment_type_boleto</th>\n",
       "      <th>payment_type_credit_card</th>\n",
       "      <th>payment_type_debit_card</th>\n",
       "      <th>payment_type_voucher</th>\n",
       "    </tr>\n",
       "  </thead>\n",
       "  <tbody>\n",
       "    <tr>\n",
       "      <th>0</th>\n",
       "      <td>-0.634538</td>\n",
       "      <td>-1.166150</td>\n",
       "      <td>-0.449417</td>\n",
       "      <td>-0.005827</td>\n",
       "      <td>1.0</td>\n",
       "      <td>0</td>\n",
       "      <td>1</td>\n",
       "      <td>0</td>\n",
       "      <td>0</td>\n",
       "    </tr>\n",
       "    <tr>\n",
       "      <th>1</th>\n",
       "      <td>1.729071</td>\n",
       "      <td>3.140194</td>\n",
       "      <td>0.901737</td>\n",
       "      <td>2.245756</td>\n",
       "      <td>1.0</td>\n",
       "      <td>0</td>\n",
       "      <td>1</td>\n",
       "      <td>0</td>\n",
       "      <td>0</td>\n",
       "    </tr>\n",
       "    <tr>\n",
       "      <th>2</th>\n",
       "      <td>-0.634538</td>\n",
       "      <td>-0.641016</td>\n",
       "      <td>-0.440324</td>\n",
       "      <td>-0.014906</td>\n",
       "      <td>1.0</td>\n",
       "      <td>0</td>\n",
       "      <td>0</td>\n",
       "      <td>1</td>\n",
       "      <td>0</td>\n",
       "    </tr>\n",
       "    <tr>\n",
       "      <th>3</th>\n",
       "      <td>-0.634538</td>\n",
       "      <td>0.142483</td>\n",
       "      <td>-0.393583</td>\n",
       "      <td>0.032726</td>\n",
       "      <td>1.0</td>\n",
       "      <td>0</td>\n",
       "      <td>1</td>\n",
       "      <td>0</td>\n",
       "      <td>0</td>\n",
       "    </tr>\n",
       "    <tr>\n",
       "      <th>4</th>\n",
       "      <td>0.153331</td>\n",
       "      <td>0.593210</td>\n",
       "      <td>1.074710</td>\n",
       "      <td>0.961564</td>\n",
       "      <td>1.0</td>\n",
       "      <td>0</td>\n",
       "      <td>1</td>\n",
       "      <td>0</td>\n",
       "      <td>0</td>\n",
       "    </tr>\n",
       "  </tbody>\n",
       "</table>\n",
       "</div>"
      ],
      "text/plain": [
       "   total_payment_installments  total_payment_value  geolocation_lat  \\\n",
       "0                   -0.634538            -1.166150        -0.449417   \n",
       "1                    1.729071             3.140194         0.901737   \n",
       "2                   -0.634538            -0.641016        -0.440324   \n",
       "3                   -0.634538             0.142483        -0.393583   \n",
       "4                    0.153331             0.593210         1.074710   \n",
       "\n",
       "   geolocation_lng  total_payment_sequential  payment_type_boleto  \\\n",
       "0        -0.005827                       1.0                    0   \n",
       "1         2.245756                       1.0                    0   \n",
       "2        -0.014906                       1.0                    0   \n",
       "3         0.032726                       1.0                    0   \n",
       "4         0.961564                       1.0                    0   \n",
       "\n",
       "   payment_type_credit_card  payment_type_debit_card  payment_type_voucher  \n",
       "0                         1                        0                     0  \n",
       "1                         1                        0                     0  \n",
       "2                         0                        1                     0  \n",
       "3                         1                        0                     0  \n",
       "4                         1                        0                     0  "
      ]
     },
     "execution_count": 81,
     "metadata": {},
     "output_type": "execute_result"
    }
   ],
   "source": [
    "X_train.head()"
   ]
  },
  {
   "cell_type": "markdown",
   "metadata": {},
   "source": [
    "#### Scaling data"
   ]
  },
  {
   "cell_type": "code",
   "execution_count": 82,
   "metadata": {},
   "outputs": [],
   "source": [
    "for i in range(len(X_val_cv)):\n",
    "    scaler_km = MinMaxScaler()\n",
    "    X_train_cv_km[i].iloc[:, :] = scaler_km.fit_transform(X_train_cv_km[i].iloc[:, :])\n",
    "    X_val_cv_km[i].iloc[:, :] = scaler_km.transform(X_val_cv_km[i].iloc[:, :])"
   ]
  },
  {
   "cell_type": "markdown",
   "metadata": {},
   "source": [
    "#### Apply K-Means to validation dataset"
   ]
  },
  {
   "cell_type": "code",
   "execution_count": 83,
   "metadata": {},
   "outputs": [],
   "source": [
    "val_sil_val = {1:None, 2:None, 3:None, 4:None, 5:None}"
   ]
  },
  {
   "cell_type": "code",
   "execution_count": 84,
   "metadata": {},
   "outputs": [
    {
     "name": "stdout",
     "output_type": "stream",
     "text": [
      "<class 'pandas.core.frame.DataFrame'>\n",
      "RangeIndex: 876 entries, 0 to 875\n",
      "Data columns (total 9 columns):\n",
      " #   Column                      Non-Null Count  Dtype  \n",
      "---  ------                      --------------  -----  \n",
      " 0   total_payment_installments  876 non-null    float64\n",
      " 1   total_payment_value         876 non-null    float64\n",
      " 2   geolocation_lat             876 non-null    float64\n",
      " 3   geolocation_lng             876 non-null    float64\n",
      " 4   total_payment_sequential    876 non-null    float64\n",
      " 5   payment_type_boleto         876 non-null    float64\n",
      " 6   payment_type_credit_card    876 non-null    float64\n",
      " 7   payment_type_debit_card     876 non-null    float64\n",
      " 8   payment_type_voucher        876 non-null    float64\n",
      "dtypes: float64(9)\n",
      "memory usage: 61.7 KB\n"
     ]
    }
   ],
   "source": [
    "X_val_cv_km[0].info()"
   ]
  },
  {
   "cell_type": "code",
   "execution_count": 85,
   "metadata": {
    "scrolled": true
   },
   "outputs": [
    {
     "data": {
      "image/png": "[encoded data removed]",
      "text/plain": [
       "<Figure size 432x288 with 1 Axes>"
      ]
     },
     "metadata": {
      "needs_background": "light"
     },
     "output_type": "display_data"
    },
    {
     "data": {
      "image/png": "[encoded data removed]",
      "text/plain": [
       "<Figure size 432x288 with 1 Axes>"
      ]
     },
     "metadata": {
      "needs_background": "light"
     },
     "output_type": "display_data"
    },
    {
     "data": {
      "image/png": "[encoded data removed]",
      "text/plain": [
       "<Figure size 432x288 with 1 Axes>"
      ]
     },
     "metadata": {
      "needs_background": "light"
     },
     "output_type": "display_data"
    },
    {
     "data": {
      "image/png": "[encoded data removed]",
      "text/plain": [
       "<Figure size 432x288 with 1 Axes>"
      ]
     },
     "metadata": {
      "needs_background": "light"
     },
     "output_type": "display_data"
    },
    {
     "data": {
      "image/png": "[encoded data removed]",
      "text/plain": [
       "<Figure size 432x288 with 1 Axes>"
      ]
     },
     "metadata": {
      "needs_background": "light"
     },
     "output_type": "display_data"
    }
   ],
   "source": [
    "for idx in range(len(X_val_cv_km)):\n",
    "    # KMeans clustering\n",
    "    km_val2 = KMeans(n_clusters=selected_n_clus, random_state=30)\n",
    "    km_val2.fit(X_train_cv_km[idx])\n",
    "    y_val_km_predict = km_val2.predict(X_val_cv_km[idx])    \n",
    "\n",
    "    # Silhouette score\n",
    "    silhouette_val = silhouette_score(X_val_cv_km[idx], y_val_km_predict)\n",
    "    val_sil_val[idx+1] = silhouette_val\n",
    "    \n",
    "    # Compute the silhouette scores for each sample\n",
    "    sample_silhouette_values = silhouette_samples(X_val_cv_km[idx], y_val_km_predict)\n",
    "       \n",
    "    # Create figure\n",
    "    fig = plt.figure()\n",
    "    ax1 = fig.add_axes([0,0,1,1])\n",
    "    ax1.set_xlim([-0.1, 1])\n",
    "    ax1.set_ylim([0, len(X_val_cv_km[idx]) + (selected_n_clus + 1) * 10])\n",
    "    y_lower = 10\n",
    "    for i in range(selected_n_clus):\n",
    "        # Aggregate the silhouette scores for samples belonging to\n",
    "        # cluster i, and sort them\n",
    "        ith_cluster_silhouette_values = \\\n",
    "            sample_silhouette_values[y_val_km_predict == i]\n",
    "\n",
    "        ith_cluster_silhouette_values.sort()\n",
    "\n",
    "        size_cluster_i = ith_cluster_silhouette_values.shape[0]\n",
    "        y_upper = y_lower + size_cluster_i\n",
    "\n",
    "        color = cm.nipy_spectral(float(i) / selected_n_clus)\n",
    "        ax1.fill_betweenx(np.arange(y_lower, y_upper),\n",
    "                          0, ith_cluster_silhouette_values,\n",
    "                          facecolor=color, edgecolor=color, alpha=0.7)\n",
    "\n",
    "        # Label the silhouette plots with their cluster numbers at the middle\n",
    "        ax1.text(-0.05, y_lower + 0.5 * size_cluster_i, str(i))\n",
    "\n",
    "        # Compute the new y_lower for next plot\n",
    "        y_lower = y_upper + 10  # 10 for the 0 samples\n",
    "\n",
    "    ax1.set_xlabel(\"Silhouette coefficient\")\n",
    "    ax1.set_ylabel(\"Cluster label\")\n",
    "\n",
    "    # The vertical line for average silhouette score of all the values\n",
    "    ax1.axvline(x=silhouette_val, color=\"red\", linestyle=\"--\")\n",
    "\n",
    "    ax1.set_yticks([])  # Clear the yaxis labels / ticks\n",
    "    ax1.set_xticks([-0.1, 0, 0.2, 0.4, 0.6, 0.8, 1])\n",
    "    plt.title((\"Silhouette coefficient KMeans clustering fold \",idx+1,\" with n_clusters = %d\" % selected_n_clus), fontsize=14, fontweight='bold')\n",
    "\n",
    "    plt.show()\n",
    "\n",
    "    # tambah kolom kluster dataset val\n",
    "    y_val_cv_km[idx].loc[:, 'cluster'] = pd.Series(y_val_km_predict)\n",
    "    "
   ]
  },
  {
   "cell_type": "code",
   "execution_count": 86,
   "metadata": {},
   "outputs": [
    {
     "name": "stdout",
     "output_type": "stream",
     "text": [
      "fold: 1 silhouette coef: 0.4285582448367277\n",
      "fold: 2 silhouette coef: 0.435719347400756\n",
      "fold: 3 silhouette coef: 0.4522194776155601\n",
      "fold: 4 silhouette coef: 0.4431816097089556\n",
      "fold: 5 silhouette coef: 0.4515171438361322\n"
     ]
    }
   ],
   "source": [
    "# Average silhoette coef\n",
    "for key, values in val_sil_val.items():\n",
    "    print(\"fold:\",key,\"silhouette coef:\", values)"
   ]
  },
  {
   "cell_type": "code",
   "execution_count": 87,
   "metadata": {},
   "outputs": [
    {
     "data": {
      "text/plain": [
       "0    454\n",
       "3    210\n",
       "1    185\n",
       "2     27\n",
       "Name: cluster, dtype: int64"
      ]
     },
     "execution_count": 87,
     "metadata": {},
     "output_type": "execute_result"
    }
   ],
   "source": [
    "y_val_cv_km[0].loc[:, 'cluster'].value_counts()"
   ]
  },
  {
   "cell_type": "markdown",
   "metadata": {},
   "source": [
    "#### Evaluate KMCF all neighbors with dataset val"
   ]
  },
  {
   "cell_type": "code",
   "execution_count": 92,
   "metadata": {
    "scrolled": true
   },
   "outputs": [
    {
     "name": "stdout",
     "output_type": "stream",
     "text": [
      "~~~~~~~~~~~~~ Num of neigbors :  10  ~~~~~~~~~~~~~~~~~\n",
      "############################################################\n",
      "Dataset validation: 0\n",
      "Avg RMSE: 0.8004411064578857\n",
      "Avg MAE: 0.6822505845839504\n",
      "Avg Percentage: 86.42521471398474\n",
      "Avg Num of Similar Users: 0.8622930621638947\n",
      "############################################################\n",
      "Dataset validation: 1\n",
      "Avg RMSE: 0.8014095806359564\n",
      "Avg MAE: 0.6853472286842662\n",
      "Avg Percentage: 87.11639528400889\n",
      "Avg Num of Similar Users: 0.8690264997832586\n",
      "############################################################\n",
      "Dataset validation: 2\n",
      "Avg RMSE: 0.7772829799067308\n",
      "Avg MAE: 0.6615597722299538\n",
      "Avg Percentage: 87.92518496275719\n",
      "Avg Num of Similar Users: 0.8770714197399856\n",
      "############################################################\n",
      "Dataset validation: 3\n",
      "Avg RMSE: 0.7360522645226535\n",
      "Avg MAE: 0.6225307336499457\n",
      "Avg Percentage: 86.41804788213625\n",
      "Avg Num of Similar Users: 0.862119298413791\n",
      "############################################################\n",
      "Dataset validation: 4\n",
      "Avg RMSE: 0.7976662297766518\n",
      "Avg MAE: 0.6851007822270218\n",
      "Avg Percentage: 86.19874889508394\n",
      "Avg Num of Similar Users: 0.8598862684957786\n",
      "Avg RMSE dataset train with n_neighbors  10 : 0.7825704322599757\n",
      "Avg MAE dataset train with n_neighbors  10 : 0.6673578202750275\n",
      "~~~~~~~~~~~~~ Num of neigbors :  20  ~~~~~~~~~~~~~~~~~\n",
      "############################################################\n",
      "Dataset validation: 0\n",
      "Avg RMSE: 0.7918331207660655\n",
      "Avg MAE: 0.6764049996437822\n",
      "Avg Percentage: 86.42521471398474\n",
      "Avg Num of Similar Users: 0.8622976807007119\n",
      "############################################################\n",
      "Dataset validation: 1\n",
      "Avg RMSE: 0.7908117576837355\n",
      "Avg MAE: 0.6750833759610095\n",
      "Avg Percentage: 87.11639528400889\n",
      "Avg Num of Similar Users: 0.8690328284774235\n",
      "############################################################\n",
      "Dataset validation: 2\n",
      "Avg RMSE: 0.7726158332825958\n",
      "Avg MAE: 0.6597981384142307\n",
      "Avg Percentage: 87.92518496275719\n",
      "Avg Num of Similar Users: 0.8770743772342707\n",
      "############################################################\n",
      "Dataset validation: 3\n",
      "Avg RMSE: 0.7334367108061477\n",
      "Avg MAE: 0.6230985691387597\n",
      "Avg Percentage: 86.41804788213625\n",
      "Avg Num of Similar Users: 0.8621204299857657\n",
      "############################################################\n",
      "Dataset validation: 4\n",
      "Avg RMSE: 0.7894623879697112\n",
      "Avg MAE: 0.6802804487672813\n",
      "Avg Percentage: 86.19874889508394\n",
      "Avg Num of Similar Users: 0.8598858600576245\n",
      "Avg RMSE dataset train with n_neighbors  20 : 0.7756319621016512\n",
      "Avg MAE dataset train with n_neighbors  20 : 0.6629331063850128\n",
      "~~~~~~~~~~~~~ Num of neigbors :  30  ~~~~~~~~~~~~~~~~~\n",
      "############################################################\n",
      "Dataset validation: 0\n",
      "Avg RMSE: 0.7913282260963778\n",
      "Avg MAE: 0.6768510994442799\n",
      "Avg Percentage: 86.42521471398474\n",
      "Avg Num of Similar Users: 0.8622981626649652\n",
      "############################################################\n",
      "Dataset validation: 1\n",
      "Avg RMSE: 0.7885722703944165\n",
      "Avg MAE: 0.6732357027213474\n",
      "Avg Percentage: 87.11639528400889\n",
      "Avg Num of Similar Users: 0.8690348604416694\n",
      "############################################################\n",
      "Dataset validation: 2\n",
      "Avg RMSE: 0.7730139997824641\n",
      "Avg MAE: 0.6607334687733818\n",
      "Avg Percentage: 87.92518496275719\n",
      "Avg Num of Similar Users: 0.8770736811004598\n",
      "############################################################\n",
      "Dataset validation: 3\n",
      "Avg RMSE: 0.733442401896444\n",
      "Avg MAE: 0.623061772360961\n",
      "Avg Percentage: 86.41804788213625\n",
      "Avg Num of Similar Users: 0.8621223986226255\n",
      "############################################################\n",
      "Dataset validation: 4\n",
      "Avg RMSE: 0.7874983272659445\n",
      "Avg MAE: 0.6776901486335116\n",
      "Avg Percentage: 86.19874889508394\n",
      "Avg Num of Similar Users: 0.859887896016493\n",
      "Avg RMSE dataset train with n_neighbors  30 : 0.7747710450871294\n",
      "Avg MAE dataset train with n_neighbors  30 : 0.6623144383866965\n",
      "~~~~~~~~~~~~~ Num of neigbors :  40  ~~~~~~~~~~~~~~~~~\n",
      "############################################################\n",
      "Dataset validation: 0\n",
      "Avg RMSE: 0.7918918783864687\n",
      "Avg MAE: 0.67729907846533\n",
      "Avg Percentage: 86.42521471398474\n",
      "Avg Num of Similar Users: 0.8622970994410796\n",
      "############################################################\n",
      "Dataset validation: 1\n",
      "Avg RMSE: 0.7880512874724371\n",
      "Avg MAE: 0.6728688925285342\n",
      "Avg Percentage: 87.11639528400889\n",
      "Avg Num of Similar Users: 0.8690350676125568\n",
      "############################################################\n",
      "Dataset validation: 2\n",
      "Avg RMSE: 0.7733522200241663\n",
      "Avg MAE: 0.6612178862730772\n",
      "Avg Percentage: 87.92518496275719\n",
      "Avg Num of Similar Users: 0.8770738239673167\n",
      "############################################################\n",
      "Dataset validation: 3\n",
      "Avg RMSE: 0.7339971203209067\n",
      "Avg MAE: 0.6234500095353356\n",
      "Avg Percentage: 86.41804788213625\n",
      "Avg Num of Similar Users: 0.8621225068439091\n",
      "############################################################\n",
      "Dataset validation: 4\n",
      "Avg RMSE: 0.7872489451762101\n",
      "Avg MAE: 0.6772223484973823\n",
      "Avg Percentage: 86.19874889508394\n",
      "Avg Num of Similar Users: 0.8598893561003518\n",
      "Avg RMSE dataset train with n_neighbors  40 : 0.7749082902760378\n",
      "Avg MAE dataset train with n_neighbors  40 : 0.6624116430599318\n",
      "~~~~~~~~~~~~~ Num of neigbors :  50  ~~~~~~~~~~~~~~~~~\n",
      "############################################################\n",
      "Dataset validation: 0\n",
      "Avg RMSE: 0.791855286348569\n",
      "Avg MAE: 0.67725640673958\n",
      "Avg Percentage: 86.42521471398474\n",
      "Avg Num of Similar Users: 0.8622971505493124\n",
      "############################################################\n",
      "Dataset validation: 1\n",
      "Avg RMSE: 0.7882994683030135\n",
      "Avg MAE: 0.673140193132994\n",
      "Avg Percentage: 87.11639528400889\n",
      "Avg Num of Similar Users: 0.8690348613944331\n",
      "############################################################\n",
      "Dataset validation: 2\n",
      "Avg RMSE: 0.7731751107596277\n",
      "Avg MAE: 0.6611095824811374\n",
      "Avg Percentage: 87.92518496275719\n",
      "Avg Num of Similar Users: 0.8770738607629052\n",
      "############################################################\n",
      "Dataset validation: 3\n",
      "Avg RMSE: 0.7337628031867798\n",
      "Avg MAE: 0.6235082919817034\n",
      "Avg Percentage: 86.41804788213625\n",
      "Avg Num of Similar Users: 0.862122669701463\n",
      "############################################################\n",
      "Dataset validation: 4\n",
      "Avg RMSE: 0.7872300131820059\n",
      "Avg MAE: 0.6771497560213512\n",
      "Avg Percentage: 86.19874889508394\n",
      "Avg Num of Similar Users: 0.8598904319991145\n",
      "Avg RMSE dataset train with n_neighbors  50 : 0.7748645363559992\n",
      "Avg MAE dataset train with n_neighbors  50 : 0.6624328460713532\n"
     ]
    }
   ],
   "source": [
    "avg_rmse_all_neighbors_km = []\n",
    "avg_mae_all_neighbors_km = []\n",
    "\n",
    "for n_neighbor in n_neighbors:\n",
    "    avg_rmse_all_km = []\n",
    "    avg_mae_all_km = []\n",
    "    print('~~~~~~~~~~~~~ Num of neigbors : ',n_neighbor,' ~~~~~~~~~~~~~~~~~')    \n",
    "    for i in range(len(y_val_cv_km)):\n",
    "        rmse_all = []\n",
    "        mae_all = []\n",
    "        percentage_all = []\n",
    "        avg_users_all = []\n",
    "\n",
    "        tmp = y_val_cv_km[i].copy()\n",
    "        n_clus = list(tmp['cluster'].unique())\n",
    "        for n in n_clus:\n",
    "            # get data cluster n\n",
    "            dftmp = tmp[tmp['cluster'] == n]\n",
    "            #dftmp.drop(['dummy_rating', 'cluster'], axis=1, inplace=True)\n",
    "\n",
    "            # join with df rating\n",
    "            df_rating_km = pd.merge(dftmp, dfp[['customer_unique_id', 'product_id', 'rating']],how='left', left_on=['customer_unique_id'], right_on=['customer_unique_id'])\n",
    "\n",
    "            # drop user who only rated below 2 product\n",
    "            user_freq = dict(df_rating_km['customer_unique_id'].value_counts())\n",
    "            user_list = [key for key, val in user_freq.items() if val < 2]\n",
    "            idx = df_rating_km[df_rating_km['customer_unique_id'].isin(user_list)].index\n",
    "            df_rating_km.drop(idx, axis=0,inplace=True)\n",
    "\n",
    "            # create rating matrix\n",
    "            rating_matrix_km = df_rating_km.pivot_table(values='rating', index='customer_unique_id', columns='product_id', aggfunc='first')\n",
    "\n",
    "            # get user\n",
    "            cust_unique_id = rating_matrix_km.index\n",
    "            for user in cust_unique_id:\n",
    "                rmse, mae, _ , item_predicted_percentage, avg_n_users = rs_user_evaluation(user, rating_matrix_km, 'neighbors', n_neighbor)\n",
    "                percentage_all.append(item_predicted_percentage)\n",
    "                avg_users_all.append(avg_n_users)\n",
    "                rmse_all.append(rmse)\n",
    "                mae_all.append(mae)\n",
    "\n",
    "        print('############################################################')\n",
    "        print('Dataset validation:', i)\n",
    "        print('Avg RMSE:',sum(filter(None, rmse_all)) / len(rmse_all))\n",
    "        print('Avg MAE:',sum(filter(None, mae_all)) / len(mae_all))\n",
    "        print('Avg Percentage:',sum(filter(None, percentage_all)) / len(percentage_all))\n",
    "        print('Avg Num of Similar Users:',sum(filter(None, avg_users_all)) / len(avg_users_all))\n",
    "\n",
    "        avg_rmse_all_km.append(sum(filter(None, rmse_all)) / len(rmse_all))\n",
    "        avg_mae_all_km.append(sum(filter(None, mae_all)) / len(mae_all))\n",
    "                \n",
    "    print('Avg RMSE dataset train with n_neighbors ',n_neighbor,':',sum(filter(None, avg_rmse_all_km)) / len(avg_rmse_all_km))\n",
    "    print('Avg MAE dataset train with n_neighbors ',n_neighbor,':',sum(filter(None, avg_mae_all_km)) / len(avg_mae_all_km))\n",
    "    \n",
    "    avg_rmse_all_neighbors_km.append(sum(filter(None, avg_rmse_all_km)) / len(avg_rmse_all_km))\n",
    "    avg_mae_all_neighbors_km.append(sum(filter(None, avg_mae_all_km)) / len(avg_mae_all_km))"
   ]
  },
  {
   "cell_type": "code",
   "execution_count": 120,
   "metadata": {},
   "outputs": [
    {
     "data": {
      "image/png": "[encoded data removed]",
      "text/plain": [
       "<Figure size 576x432 with 1 Axes>"
      ]
     },
     "metadata": {
      "needs_background": "light"
     },
     "output_type": "display_data"
    }
   ],
   "source": [
    "plt.figure(figsize=(8,6))\n",
    "plt.plot(n_neighbors, avg_rmse_all_neighbors_km, label='RMSE', marker='o')\n",
    "plt.plot(n_neighbors, avg_mae_all_neighbors_km, label='MAE', marker='s')\n",
    "plt.xlabel('Num of neighbors')\n",
    "plt.xticks(n_neighbors)\n",
    "plt.ylabel('Values')\n",
    "plt.title('RMSE & MAE KMCF for Each N-neighbors on Validation data')\n",
    "plt.legend()\n",
    "plt.show()"
   ]
  },
  {
   "cell_type": "markdown",
   "metadata": {},
   "source": [
    "### Evaluate KM CF all neighbors with test data"
   ]
  },
  {
   "cell_type": "code",
   "execution_count": 94,
   "metadata": {},
   "outputs": [
    {
     "name": "stdout",
     "output_type": "stream",
     "text": [
      "<class 'pandas.core.frame.DataFrame'>\n",
      "RangeIndex: 1094 entries, 0 to 1093\n",
      "Data columns (total 9 columns):\n",
      " #   Column                      Non-Null Count  Dtype  \n",
      "---  ------                      --------------  -----  \n",
      " 0   total_payment_installments  1094 non-null   float64\n",
      " 1   total_payment_value         1094 non-null   float64\n",
      " 2   geolocation_lat             1094 non-null   float64\n",
      " 3   geolocation_lng             1094 non-null   float64\n",
      " 4   total_payment_sequential    1094 non-null   float64\n",
      " 5   payment_type_boleto         1094 non-null   uint8  \n",
      " 6   payment_type_credit_card    1094 non-null   uint8  \n",
      " 7   payment_type_debit_card     1094 non-null   uint8  \n",
      " 8   payment_type_voucher        1094 non-null   uint8  \n",
      "dtypes: float64(5), uint8(4)\n",
      "memory usage: 47.1 KB\n"
     ]
    }
   ],
   "source": [
    "X_test2.info()"
   ]
  },
  {
   "cell_type": "markdown",
   "metadata": {},
   "source": [
    "#### Scale data"
   ]
  },
  {
   "cell_type": "code",
   "execution_count": 95,
   "metadata": {},
   "outputs": [],
   "source": [
    "X_test2.iloc[:, :] = scaler_km.transform(X_test2.iloc[:, :])"
   ]
  },
  {
   "cell_type": "code",
   "execution_count": 96,
   "metadata": {},
   "outputs": [
    {
     "data": {
      "text/html": [
       "<div>\n",
       "<style scoped>\n",
       "    .dataframe tbody tr th:only-of-type {\n",
       "        vertical-align: middle;\n",
       "    }\n",
       "\n",
       "    .dataframe tbody tr th {\n",
       "        vertical-align: top;\n",
       "    }\n",
       "\n",
       "    .dataframe thead th {\n",
       "        text-align: right;\n",
       "    }\n",
       "</style>\n",
       "<table border=\"1\" class=\"dataframe\">\n",
       "  <thead>\n",
       "    <tr style=\"text-align: right;\">\n",
       "      <th></th>\n",
       "      <th>total_payment_installments</th>\n",
       "      <th>total_payment_value</th>\n",
       "      <th>geolocation_lat</th>\n",
       "      <th>geolocation_lng</th>\n",
       "      <th>total_payment_sequential</th>\n",
       "      <th>payment_type_boleto</th>\n",
       "      <th>payment_type_credit_card</th>\n",
       "      <th>payment_type_debit_card</th>\n",
       "      <th>payment_type_voucher</th>\n",
       "    </tr>\n",
       "  </thead>\n",
       "  <tbody>\n",
       "    <tr>\n",
       "      <th>0</th>\n",
       "      <td>0.8</td>\n",
       "      <td>0.171649</td>\n",
       "      <td>0.395220</td>\n",
       "      <td>0.238928</td>\n",
       "      <td>0.0</td>\n",
       "      <td>0.0</td>\n",
       "      <td>1.0</td>\n",
       "      <td>0.0</td>\n",
       "      <td>0.0</td>\n",
       "    </tr>\n",
       "    <tr>\n",
       "      <th>1</th>\n",
       "      <td>0.8</td>\n",
       "      <td>0.884235</td>\n",
       "      <td>0.121593</td>\n",
       "      <td>0.239854</td>\n",
       "      <td>0.0</td>\n",
       "      <td>0.0</td>\n",
       "      <td>1.0</td>\n",
       "      <td>0.0</td>\n",
       "      <td>0.0</td>\n",
       "    </tr>\n",
       "    <tr>\n",
       "      <th>2</th>\n",
       "      <td>0.0</td>\n",
       "      <td>0.060413</td>\n",
       "      <td>0.374163</td>\n",
       "      <td>0.506760</td>\n",
       "      <td>0.0</td>\n",
       "      <td>0.0</td>\n",
       "      <td>1.0</td>\n",
       "      <td>0.0</td>\n",
       "      <td>0.0</td>\n",
       "    </tr>\n",
       "    <tr>\n",
       "      <th>3</th>\n",
       "      <td>0.0</td>\n",
       "      <td>0.653953</td>\n",
       "      <td>0.471862</td>\n",
       "      <td>0.540793</td>\n",
       "      <td>0.0</td>\n",
       "      <td>1.0</td>\n",
       "      <td>0.0</td>\n",
       "      <td>0.0</td>\n",
       "      <td>0.0</td>\n",
       "    </tr>\n",
       "    <tr>\n",
       "      <th>4</th>\n",
       "      <td>0.0</td>\n",
       "      <td>0.124168</td>\n",
       "      <td>0.618610</td>\n",
       "      <td>0.922323</td>\n",
       "      <td>0.0</td>\n",
       "      <td>1.0</td>\n",
       "      <td>0.0</td>\n",
       "      <td>0.0</td>\n",
       "      <td>0.0</td>\n",
       "    </tr>\n",
       "  </tbody>\n",
       "</table>\n",
       "</div>"
      ],
      "text/plain": [
       "   total_payment_installments  total_payment_value  geolocation_lat  \\\n",
       "0                         0.8             0.171649         0.395220   \n",
       "1                         0.8             0.884235         0.121593   \n",
       "2                         0.0             0.060413         0.374163   \n",
       "3                         0.0             0.653953         0.471862   \n",
       "4                         0.0             0.124168         0.618610   \n",
       "\n",
       "   geolocation_lng  total_payment_sequential  payment_type_boleto  \\\n",
       "0         0.238928                       0.0                  0.0   \n",
       "1         0.239854                       0.0                  0.0   \n",
       "2         0.506760                       0.0                  0.0   \n",
       "3         0.540793                       0.0                  1.0   \n",
       "4         0.922323                       0.0                  1.0   \n",
       "\n",
       "   payment_type_credit_card  payment_type_debit_card  payment_type_voucher  \n",
       "0                       1.0                      0.0                   0.0  \n",
       "1                       1.0                      0.0                   0.0  \n",
       "2                       1.0                      0.0                   0.0  \n",
       "3                       0.0                      0.0                   0.0  \n",
       "4                       0.0                      0.0                   0.0  "
      ]
     },
     "execution_count": 96,
     "metadata": {},
     "output_type": "execute_result"
    }
   ],
   "source": [
    "X_test2.head()"
   ]
  },
  {
   "cell_type": "markdown",
   "metadata": {},
   "source": [
    "#### Apply K-Means"
   ]
  },
  {
   "cell_type": "code",
   "execution_count": 97,
   "metadata": {},
   "outputs": [
    {
     "name": "stdout",
     "output_type": "stream",
     "text": [
      "Dataset test silhouette coef: 0.4525436420361471\n"
     ]
    },
    {
     "data": {
      "image/png": "[encoded data removed]",
      "text/plain": [
       "<Figure size 432x288 with 1 Axes>"
      ]
     },
     "metadata": {
      "needs_background": "light"
     },
     "output_type": "display_data"
    }
   ],
   "source": [
    "# KMeans clustering\n",
    "y_test2_predict = km_val2.predict(X_test2)\n",
    "\n",
    "# Silhouette score\n",
    "silhouette_val = silhouette_score(X_test2, y_test2_predict)\n",
    "print('Dataset test silhouette coef:', silhouette_val)\n",
    "\n",
    "# Compute the silhouette scores for each sample\n",
    "sample_silhouette_values = silhouette_samples(X_test2, y_test2_predict)\n",
    "\n",
    "# Create figure\n",
    "fig = plt.figure()\n",
    "ax1 = fig.add_axes([0,0,1,1])\n",
    "ax1.set_xlim([-0.1, 1])\n",
    "ax1.set_ylim([0, len(X_test) + (selected_n_clus + 1) * 10])\n",
    "y_lower = 10\n",
    "for i in range(selected_n_clus):\n",
    "    # Aggregate the silhouette scores for samples belonging to\n",
    "    # cluster i, and sort them\n",
    "    ith_cluster_silhouette_values = \\\n",
    "        sample_silhouette_values[y_test2_predict == i]\n",
    "\n",
    "    ith_cluster_silhouette_values.sort()\n",
    "\n",
    "    size_cluster_i = ith_cluster_silhouette_values.shape[0]\n",
    "    y_upper = y_lower + size_cluster_i\n",
    "\n",
    "    color = cm.nipy_spectral(float(i) / selected_n_clus)\n",
    "    ax1.fill_betweenx(np.arange(y_lower, y_upper),\n",
    "                      0, ith_cluster_silhouette_values,\n",
    "                      facecolor=color, edgecolor=color, alpha=0.7)\n",
    "\n",
    "    # Label the silhouette plots with their cluster numbers at the middle\n",
    "    ax1.text(-0.05, y_lower + 0.5 * size_cluster_i, str(i))\n",
    "\n",
    "    # Compute the new y_lower for next plot\n",
    "    y_lower = y_upper + 10  # 10 for the 0 samples\n",
    "\n",
    "ax1.set_xlabel(\"Silhouette coefficient\")\n",
    "ax1.set_ylabel(\"Cluster label\")\n",
    "\n",
    "# The vertical line for average silhouette score of all the values\n",
    "ax1.axvline(x=silhouette_val, color=\"red\", linestyle=\"--\")\n",
    "\n",
    "ax1.set_yticks([])  # Clear the yaxis labels / ticks\n",
    "ax1.set_xticks([-0.1, 0, 0.2, 0.4, 0.6, 0.8, 1])\n",
    "plt.title((\"Silhouette coefficient KMeans clustering data test with n_clusters = %d\" % selected_n_clus), fontsize=14, fontweight='bold')\n",
    "\n",
    "plt.show()\n",
    "\n",
    "# tambah kolom kluster\n",
    "y_test2['cluster'] = pd.Series(y_test2_predict)"
   ]
  },
  {
   "cell_type": "code",
   "execution_count": 98,
   "metadata": {},
   "outputs": [
    {
     "data": {
      "text/plain": [
       "0    554\n",
       "1    254\n",
       "2    251\n",
       "3     35\n",
       "Name: cluster, dtype: int64"
      ]
     },
     "execution_count": 98,
     "metadata": {},
     "output_type": "execute_result"
    }
   ],
   "source": [
    "y_test2['cluster'].value_counts()"
   ]
  },
  {
   "cell_type": "markdown",
   "metadata": {},
   "source": [
    "#### Evaluate KMCF on test data"
   ]
  },
  {
   "cell_type": "code",
   "execution_count": 99,
   "metadata": {},
   "outputs": [
    {
     "name": "stdout",
     "output_type": "stream",
     "text": [
      "~~~~~~~~~~~~~ Num of neigbors :  10  ~~~~~~~~~~~~~~~~~\n",
      "############################################################\n",
      "Dataset test:\n",
      "Avg RMSE: 0.7721829156602452\n",
      "Avg MAE: 0.6586673030674212\n",
      "Avg Percentage: 88.05956561321368\n",
      "Avg Num of Similar Users: 0.8787295212658749\n",
      "~~~~~~~~~~~~~ Num of neigbors :  20  ~~~~~~~~~~~~~~~~~\n",
      "############################################################\n",
      "Dataset test:\n",
      "Avg RMSE: 0.7631549260623239\n",
      "Avg MAE: 0.6539483241883404\n",
      "Avg Percentage: 88.05956561321368\n",
      "Avg Num of Similar Users: 0.8787344551499422\n",
      "~~~~~~~~~~~~~ Num of neigbors :  30  ~~~~~~~~~~~~~~~~~\n",
      "############################################################\n",
      "Dataset test:\n",
      "Avg RMSE: 0.7623186740807069\n",
      "Avg MAE: 0.6540873836359992\n",
      "Avg Percentage: 88.05956561321368\n",
      "Avg Num of Similar Users: 0.8787363566822886\n",
      "~~~~~~~~~~~~~ Num of neigbors :  40  ~~~~~~~~~~~~~~~~~\n",
      "############################################################\n",
      "Dataset test:\n",
      "Avg RMSE: 0.7616963454096842\n",
      "Avg MAE: 0.6533822850206741\n",
      "Avg Percentage: 88.05956561321368\n",
      "Avg Num of Similar Users: 0.8787362680386379\n",
      "~~~~~~~~~~~~~ Num of neigbors :  50  ~~~~~~~~~~~~~~~~~\n",
      "############################################################\n",
      "Dataset test:\n",
      "Avg RMSE: 0.7624621466785302\n",
      "Avg MAE: 0.6538954157154552\n",
      "Avg Percentage: 88.05956561321368\n",
      "Avg Num of Similar Users: 0.8787359076491761\n"
     ]
    }
   ],
   "source": [
    "avg_rmse_all_neighbors_test2 = []\n",
    "avg_mae_all_neighbors_test2 = []\n",
    "for n_neighbor in n_neighbors:\n",
    "    print('~~~~~~~~~~~~~ Num of neigbors : ',n_neighbor,' ~~~~~~~~~~~~~~~~~')    \n",
    "    rmse_all_test2 = []\n",
    "    mae_all_test2 = []\n",
    "    percentage_all_test2 = []\n",
    "    avg_users_all_test2 = []\n",
    "\n",
    "    tmp = y_test2.copy()\n",
    "    n_clus = list(tmp['cluster'].unique())\n",
    "    for n in n_clus:\n",
    "        # get data cluster n\n",
    "        dftmp = tmp[tmp['cluster'] == n]\n",
    "        # dftmp.drop(['dummy_rating', 'cluster'], axis=1, inplace=True)\n",
    "\n",
    "        # join with df rating\n",
    "        df_rating = pd.merge(dftmp, dfp[['customer_unique_id', 'product_id', 'rating']],how='left', left_on=['customer_unique_id'], right_on=['customer_unique_id'])\n",
    "\n",
    "        # drop user who only rated below 2 product\n",
    "        user_freq = dict(df_rating['customer_unique_id'].value_counts())\n",
    "        user_list = [key for key, val in user_freq.items() if val < 2]\n",
    "        idx = df_rating[df_rating['customer_unique_id'].isin(user_list)].index\n",
    "        df_rating.drop(idx, axis=0,inplace=True)\n",
    "\n",
    "        # create rating matrix\n",
    "        test_rating_matrix = df_rating.pivot_table(values='rating', index='customer_unique_id', columns='product_id', aggfunc='first')\n",
    "\n",
    "        # get user\n",
    "        cust_unique_id = test_rating_matrix.index\n",
    "        for user in cust_unique_id:\n",
    "            rmse, mae, _ , item_predicted_percentage, avg_n_users = rs_user_evaluation(user, test_rating_matrix, 'neighbors', n_neighbor)\n",
    "            percentage_all_test2.append(item_predicted_percentage)\n",
    "            avg_users_all_test2.append(avg_n_users)\n",
    "            rmse_all_test2.append(rmse)\n",
    "            mae_all_test2.append(mae)\n",
    "\n",
    "    \n",
    "    rmse2 = sum(filter(None, rmse_all_test2)) / len(rmse_all_test2)\n",
    "    mae2 = sum(filter(None, mae_all_test2)) / len(mae_all_test2)\n",
    "    \n",
    "    avg_rmse_all_neighbors_test2.append(rmse2)\n",
    "    avg_mae_all_neighbors_test2.append(mae2)\n",
    "    print('############################################################')\n",
    "    print('Dataset test:')\n",
    "    print('Avg RMSE:',rmse2)\n",
    "    print('Avg MAE:',mae2)\n",
    "    print('Avg Percentage:',sum(filter(None, percentage_all_test2)) / len(percentage_all_test2))\n",
    "    print('Avg Num of Similar Users:',sum(filter(None, avg_users_all_test2)) / len(avg_users_all_test2))"
   ]
  },
  {
   "cell_type": "code",
   "execution_count": 100,
   "metadata": {},
   "outputs": [
    {
     "data": {
      "image/png": "[encoded data removed]",
      "text/plain": [
       "<Figure size 576x432 with 1 Axes>"
      ]
     },
     "metadata": {
      "needs_background": "light"
     },
     "output_type": "display_data"
    }
   ],
   "source": [
    "plt.figure(figsize=(8,6))\n",
    "plt.plot(n_neighbors, avg_rmse_all_neighbors_test2, label='RMSE', marker='o')\n",
    "plt.plot(n_neighbors, avg_mae_all_neighbors_test2, label='MAE', marker='s')\n",
    "plt.xlabel('Num of neighbors')\n",
    "plt.xticks(n_neighbors)\n",
    "plt.ylabel('Values')\n",
    "plt.title('RMSE & MAE KMCF for Each N-neighbors on Test data')\n",
    "plt.legend()\n",
    "plt.show()"
   ]
  },
  {
   "cell_type": "markdown",
   "metadata": {},
   "source": [
    "## Hierarchical Clustering CF Method"
   ]
  },
  {
   "cell_type": "markdown",
   "metadata": {},
   "source": [
    "### Evaluate HCCF all neighbors with validation data"
   ]
  },
  {
   "cell_type": "markdown",
   "metadata": {},
   "source": [
    "#### Create new cross validation"
   ]
  },
  {
   "cell_type": "code",
   "execution_count": 101,
   "metadata": {},
   "outputs": [],
   "source": [
    "X_train_cv_hac = []\n",
    "X_val_cv_hac = []\n",
    "y_train_cv_hac = []\n",
    "y_val_cv_hac = []\n",
    "\n",
    "i = 0\n",
    "for train_index, val_index in kf.split(X_train3):\n",
    "    X_train_cv_hac.append(X_train3.iloc[train_index,:])\n",
    "    X_val_cv_hac.append(X_train3.iloc[val_index,:])\n",
    "    y_train_cv_hac.append(y_train3.iloc[train_index,:])\n",
    "    y_val_cv_hac.append(y_train3.iloc[val_index,:])\n",
    "    \n",
    "    \n",
    "    X_train_cv_hac[i].reset_index(drop=True, inplace=True)\n",
    "    y_train_cv_hac[i].reset_index(drop=True, inplace=True)\n",
    "    X_val_cv_hac[i].reset_index(drop=True, inplace=True)\n",
    "    y_val_cv_hac[i].reset_index(drop=True, inplace=True)\n",
    "    \n",
    "    i += 1"
   ]
  },
  {
   "cell_type": "code",
   "execution_count": 102,
   "metadata": {},
   "outputs": [
    {
     "data": {
      "text/html": [
       "<div>\n",
       "<style scoped>\n",
       "    .dataframe tbody tr th:only-of-type {\n",
       "        vertical-align: middle;\n",
       "    }\n",
       "\n",
       "    .dataframe tbody tr th {\n",
       "        vertical-align: top;\n",
       "    }\n",
       "\n",
       "    .dataframe thead th {\n",
       "        text-align: right;\n",
       "    }\n",
       "</style>\n",
       "<table border=\"1\" class=\"dataframe\">\n",
       "  <thead>\n",
       "    <tr style=\"text-align: right;\">\n",
       "      <th></th>\n",
       "      <th>total_payment_installments</th>\n",
       "      <th>total_payment_value</th>\n",
       "      <th>geolocation_lat</th>\n",
       "      <th>geolocation_lng</th>\n",
       "      <th>total_payment_sequential</th>\n",
       "      <th>payment_type_boleto</th>\n",
       "      <th>payment_type_credit_card</th>\n",
       "      <th>payment_type_debit_card</th>\n",
       "      <th>payment_type_voucher</th>\n",
       "    </tr>\n",
       "  </thead>\n",
       "  <tbody>\n",
       "    <tr>\n",
       "      <th>0</th>\n",
       "      <td>4.0</td>\n",
       "      <td>314.84</td>\n",
       "      <td>-20.3514</td>\n",
       "      <td>-40.4284</td>\n",
       "      <td>1.0</td>\n",
       "      <td>0</td>\n",
       "      <td>1</td>\n",
       "      <td>0</td>\n",
       "      <td>0</td>\n",
       "    </tr>\n",
       "    <tr>\n",
       "      <th>1</th>\n",
       "      <td>1.0</td>\n",
       "      <td>67.36</td>\n",
       "      <td>-23.6132</td>\n",
       "      <td>-46.6031</td>\n",
       "      <td>1.0</td>\n",
       "      <td>0</td>\n",
       "      <td>0</td>\n",
       "      <td>1</td>\n",
       "      <td>0</td>\n",
       "    </tr>\n",
       "    <tr>\n",
       "      <th>2</th>\n",
       "      <td>1.0</td>\n",
       "      <td>118.64</td>\n",
       "      <td>-23.4996</td>\n",
       "      <td>-46.4730</td>\n",
       "      <td>1.0</td>\n",
       "      <td>0</td>\n",
       "      <td>1</td>\n",
       "      <td>0</td>\n",
       "      <td>0</td>\n",
       "    </tr>\n",
       "    <tr>\n",
       "      <th>3</th>\n",
       "      <td>2.0</td>\n",
       "      <td>148.14</td>\n",
       "      <td>-19.9310</td>\n",
       "      <td>-43.9360</td>\n",
       "      <td>1.0</td>\n",
       "      <td>0</td>\n",
       "      <td>1</td>\n",
       "      <td>0</td>\n",
       "      <td>0</td>\n",
       "    </tr>\n",
       "    <tr>\n",
       "      <th>4</th>\n",
       "      <td>1.0</td>\n",
       "      <td>119.25</td>\n",
       "      <td>-23.6750</td>\n",
       "      <td>-46.7857</td>\n",
       "      <td>1.0</td>\n",
       "      <td>0</td>\n",
       "      <td>1</td>\n",
       "      <td>0</td>\n",
       "      <td>0</td>\n",
       "    </tr>\n",
       "  </tbody>\n",
       "</table>\n",
       "</div>"
      ],
      "text/plain": [
       "   total_payment_installments  total_payment_value  geolocation_lat  \\\n",
       "0                         4.0               314.84         -20.3514   \n",
       "1                         1.0                67.36         -23.6132   \n",
       "2                         1.0               118.64         -23.4996   \n",
       "3                         2.0               148.14         -19.9310   \n",
       "4                         1.0               119.25         -23.6750   \n",
       "\n",
       "   geolocation_lng  total_payment_sequential  payment_type_boleto  \\\n",
       "0         -40.4284                       1.0                    0   \n",
       "1         -46.6031                       1.0                    0   \n",
       "2         -46.4730                       1.0                    0   \n",
       "3         -43.9360                       1.0                    0   \n",
       "4         -46.7857                       1.0                    0   \n",
       "\n",
       "   payment_type_credit_card  payment_type_debit_card  payment_type_voucher  \n",
       "0                         1                        0                     0  \n",
       "1                         0                        1                     0  \n",
       "2                         1                        0                     0  \n",
       "3                         1                        0                     0  \n",
       "4                         1                        0                     0  "
      ]
     },
     "execution_count": 102,
     "metadata": {},
     "output_type": "execute_result"
    }
   ],
   "source": [
    "X_train_cv_hac[0].head()"
   ]
  },
  {
   "cell_type": "markdown",
   "metadata": {},
   "source": [
    "#### Scaling data"
   ]
  },
  {
   "cell_type": "code",
   "execution_count": 103,
   "metadata": {},
   "outputs": [],
   "source": [
    "for i in range(len(X_val_cv_hac)):\n",
    "    scaler_hac = MinMaxScaler()\n",
    "    X_train_cv_hac[i].iloc[:, :] = scaler_hac.fit_transform(X_train_cv_hac[i].iloc[:, :])\n",
    "    X_val_cv_hac[i].iloc[:, :] = scaler_hac.transform(X_val_cv_hac[i].iloc[:, :])"
   ]
  },
  {
   "cell_type": "markdown",
   "metadata": {},
   "source": [
    "#### Apply agglomerative hierarchical clustering to validation dataset"
   ]
  },
  {
   "cell_type": "code",
   "execution_count": 104,
   "metadata": {},
   "outputs": [],
   "source": [
    "val_sil_val = {1:None, 2:None, 3:None, 4:None, 5:None}"
   ]
  },
  {
   "cell_type": "code",
   "execution_count": 105,
   "metadata": {},
   "outputs": [
    {
     "name": "stdout",
     "output_type": "stream",
     "text": [
      "<class 'pandas.core.frame.DataFrame'>\n",
      "RangeIndex: 876 entries, 0 to 875\n",
      "Data columns (total 9 columns):\n",
      " #   Column                      Non-Null Count  Dtype  \n",
      "---  ------                      --------------  -----  \n",
      " 0   total_payment_installments  876 non-null    float64\n",
      " 1   total_payment_value         876 non-null    float64\n",
      " 2   geolocation_lat             876 non-null    float64\n",
      " 3   geolocation_lng             876 non-null    float64\n",
      " 4   total_payment_sequential    876 non-null    float64\n",
      " 5   payment_type_boleto         876 non-null    float64\n",
      " 6   payment_type_credit_card    876 non-null    float64\n",
      " 7   payment_type_debit_card     876 non-null    float64\n",
      " 8   payment_type_voucher        876 non-null    float64\n",
      "dtypes: float64(9)\n",
      "memory usage: 61.7 KB\n"
     ]
    }
   ],
   "source": [
    "X_val_cv_hac[0].info()"
   ]
  },
  {
   "cell_type": "code",
   "execution_count": 106,
   "metadata": {
    "scrolled": true
   },
   "outputs": [],
   "source": [
    "for idx in range(len(X_val_cv_hac)):\n",
    "    \n",
    "    # KMeans clustering\n",
    "    hac = AgglomerativeClustering(n_clusters=selected_n_clus, affinity='euclidean', linkage='ward')\n",
    "    #hac.fit(X_train_cv_hac[idx])\n",
    "    y_val_hac_predict = hac.fit_predict(X_val_cv_hac[idx])    \n",
    "\n",
    "    # Silhouette score\n",
    "    silhouette_val = silhouette_score(X_val_cv_hac[idx], y_val_hac_predict)\n",
    "    val_sil_val[idx+1] = silhouette_val\n",
    "    \n",
    "    # tambah kolom kluster dataset val\n",
    "    y_val_cv_hac[idx].loc[:, 'cluster'] = pd.Series(y_val_hac_predict)\n",
    "    "
   ]
  },
  {
   "cell_type": "code",
   "execution_count": 107,
   "metadata": {},
   "outputs": [
    {
     "name": "stdout",
     "output_type": "stream",
     "text": [
      "fold: 1 silhouette coef: 0.41332264264171276\n",
      "fold: 2 silhouette coef: 0.4318931273470786\n",
      "fold: 3 silhouette coef: 0.4227513081400522\n",
      "fold: 4 silhouette coef: 0.3968149471463533\n",
      "fold: 5 silhouette coef: 0.40093203846076786\n"
     ]
    }
   ],
   "source": [
    "# Average silhoette coef\n",
    "for key, values in val_sil_val.items():\n",
    "    print(\"fold:\",key,\"silhouette coef:\", values)"
   ]
  },
  {
   "cell_type": "code",
   "execution_count": 108,
   "metadata": {},
   "outputs": [
    {
     "data": {
      "text/plain": [
       "1    459\n",
       "3    205\n",
       "2    185\n",
       "0     27\n",
       "Name: cluster, dtype: int64"
      ]
     },
     "execution_count": 108,
     "metadata": {},
     "output_type": "execute_result"
    }
   ],
   "source": [
    "y_val_cv_hac[0].loc[:, 'cluster'].value_counts()"
   ]
  },
  {
   "cell_type": "markdown",
   "metadata": {},
   "source": [
    "#### Evaluate HCCF on val data"
   ]
  },
  {
   "cell_type": "code",
   "execution_count": 121,
   "metadata": {
    "scrolled": true
   },
   "outputs": [
    {
     "name": "stdout",
     "output_type": "stream",
     "text": [
      "~~~~~~~~~~~~~ Num of neigbors :  10  ~~~~~~~~~~~~~~~~~\n",
      "############################################################\n",
      "Dataset validation: 0\n",
      "Avg RMSE: 0.7916142110418091\n",
      "Avg MAE: 0.6772489702981771\n",
      "Avg Percentage: 86.74437268020154\n",
      "Avg Num of Similar Users: 0.865462617411689\n",
      "############################################################\n",
      "Dataset validation: 1\n",
      "Avg RMSE: 0.8075646881871479\n",
      "Avg MAE: 0.6835511602820856\n",
      "Avg Percentage: 87.02323560278103\n",
      "Avg Num of Similar Users: 0.868150672394584\n",
      "############################################################\n",
      "Dataset validation: 2\n",
      "Avg RMSE: 0.7835967193521\n",
      "Avg MAE: 0.6660722469904595\n",
      "Avg Percentage: 88.14632701915939\n",
      "Avg Num of Similar Users: 0.8792792648320666\n",
      "############################################################\n",
      "Dataset validation: 3\n",
      "Avg RMSE: 0.73188216738081\n",
      "Avg MAE: 0.6229080781823708\n",
      "Avg Percentage: 85.82322833704043\n",
      "Avg Num of Similar Users: 0.8562339046962935\n",
      "############################################################\n",
      "Dataset validation: 4\n",
      "Avg RMSE: 0.7985947730891155\n",
      "Avg MAE: 0.6869297087383083\n",
      "Avg Percentage: 86.1307918375981\n",
      "Avg Num of Similar Users: 0.8591704943074314\n",
      "Avg RMSE dataset val with n_neighbors  10 : 0.7826505118101964\n",
      "Avg MAE dataset val with n_neighbors  10 : 0.6673420328982802\n",
      "~~~~~~~~~~~~~ Num of neigbors :  20  ~~~~~~~~~~~~~~~~~\n",
      "############################################################\n",
      "Dataset validation: 0\n",
      "Avg RMSE: 0.7813407976900154\n",
      "Avg MAE: 0.6697254206476111\n",
      "Avg Percentage: 86.74437268020154\n",
      "Avg Num of Similar Users: 0.8654668016082513\n",
      "############################################################\n",
      "Dataset validation: 1\n",
      "Avg RMSE: 0.7950526400483793\n",
      "Avg MAE: 0.6707763621530093\n",
      "Avg Percentage: 87.02323560278103\n",
      "Avg Num of Similar Users: 0.8681559937333515\n",
      "############################################################\n",
      "Dataset validation: 2\n",
      "Avg RMSE: 0.7773419933428665\n",
      "Avg MAE: 0.6631371101526339\n",
      "Avg Percentage: 88.14632701915939\n",
      "Avg Num of Similar Users: 0.8792800578583831\n",
      "############################################################\n",
      "Dataset validation: 3\n",
      "Avg RMSE: 0.7298296117468234\n",
      "Avg MAE: 0.6226441967376186\n",
      "Avg Percentage: 85.82322833704043\n",
      "Avg Num of Similar Users: 0.8562347663443192\n",
      "############################################################\n",
      "Dataset validation: 4\n",
      "Avg RMSE: 0.7877778098933508\n",
      "Avg MAE: 0.6802656523490602\n",
      "Avg Percentage: 86.1307918375981\n",
      "Avg Num of Similar Users: 0.8591784249347352\n",
      "Avg RMSE dataset val with n_neighbors  20 : 0.7742685705442871\n",
      "Avg MAE dataset val with n_neighbors  20 : 0.6613097484079867\n",
      "~~~~~~~~~~~~~ Num of neigbors :  30  ~~~~~~~~~~~~~~~~~\n",
      "############################################################\n",
      "Dataset validation: 0\n",
      "Avg RMSE: 0.7811196166443121\n",
      "Avg MAE: 0.6709275375815458\n",
      "Avg Percentage: 86.74437268020154\n",
      "Avg Num of Similar Users: 0.8654668257763339\n",
      "############################################################\n",
      "Dataset validation: 1\n",
      "Avg RMSE: 0.7947522953802593\n",
      "Avg MAE: 0.6716565378018708\n",
      "Avg Percentage: 87.02323560278103\n",
      "Avg Num of Similar Users: 0.8681574187614346\n",
      "############################################################\n",
      "Dataset validation: 2\n",
      "Avg RMSE: 0.7774016023564781\n",
      "Avg MAE: 0.6635632566971388\n",
      "Avg Percentage: 88.14632701915939\n",
      "Avg Num of Similar Users: 0.8792793768759423\n",
      "############################################################\n",
      "Dataset validation: 3\n",
      "Avg RMSE: 0.7295365097730251\n",
      "Avg MAE: 0.6223401749697908\n",
      "Avg Percentage: 85.82322833704043\n",
      "Avg Num of Similar Users: 0.8562369541786261\n",
      "############################################################\n",
      "Dataset validation: 4\n",
      "Avg RMSE: 0.7868266980037194\n",
      "Avg MAE: 0.6790673038695415\n",
      "Avg Percentage: 86.1307918375981\n",
      "Avg Num of Similar Users: 0.8591802293869879\n",
      "Avg RMSE dataset val with n_neighbors  30 : 0.7739273444315588\n",
      "Avg MAE dataset val with n_neighbors  30 : 0.6615109621839775\n",
      "~~~~~~~~~~~~~ Num of neigbors :  40  ~~~~~~~~~~~~~~~~~\n",
      "############################################################\n",
      "Dataset validation: 0\n",
      "Avg RMSE: 0.7814932313302636\n",
      "Avg MAE: 0.6711291225887763\n",
      "Avg Percentage: 86.74437268020154\n",
      "Avg Num of Similar Users: 0.8654659464108249\n",
      "############################################################\n",
      "Dataset validation: 1\n",
      "Avg RMSE: 0.7936240793137755\n",
      "Avg MAE: 0.6708563495829829\n",
      "Avg Percentage: 87.02323560278103\n",
      "Avg Num of Similar Users: 0.8681580842026574\n",
      "############################################################\n",
      "Dataset validation: 2\n",
      "Avg RMSE: 0.7780336719476703\n",
      "Avg MAE: 0.6642297873565306\n",
      "Avg Percentage: 88.14632701915939\n",
      "Avg Num of Similar Users: 0.8792789585271199\n",
      "############################################################\n",
      "Dataset validation: 3\n",
      "Avg RMSE: 0.7297862866190404\n",
      "Avg MAE: 0.622455849580209\n",
      "Avg Percentage: 85.82322833704043\n",
      "Avg Num of Similar Users: 0.8562372527445291\n",
      "############################################################\n",
      "Dataset validation: 4\n",
      "Avg RMSE: 0.7867156312298234\n",
      "Avg MAE: 0.6787102022586218\n",
      "Avg Percentage: 86.1307918375981\n",
      "Avg Num of Similar Users: 0.8591818497420364\n",
      "Avg RMSE dataset val with n_neighbors  40 : 0.7739305800881147\n",
      "Avg MAE dataset val with n_neighbors  40 : 0.6614762622734242\n",
      "~~~~~~~~~~~~~ Num of neigbors :  50  ~~~~~~~~~~~~~~~~~\n",
      "############################################################\n",
      "Dataset validation: 0\n",
      "Avg RMSE: 0.7814805311310782\n",
      "Avg MAE: 0.6709760067729593\n",
      "Avg Percentage: 86.74437268020154\n",
      "Avg Num of Similar Users: 0.8654657618549207\n",
      "############################################################\n",
      "Dataset validation: 1\n",
      "Avg RMSE: 0.7939012207514223\n",
      "Avg MAE: 0.6709611948034109\n",
      "Avg Percentage: 87.02323560278103\n",
      "Avg Num of Similar Users: 0.8681578899455086\n",
      "############################################################\n",
      "Dataset validation: 2\n",
      "Avg RMSE: 0.7778900000692864\n",
      "Avg MAE: 0.6641407520744079\n",
      "Avg Percentage: 88.14632701915939\n",
      "Avg Num of Similar Users: 0.8792790430890082\n",
      "############################################################\n",
      "Dataset validation: 3\n",
      "Avg RMSE: 0.7301141877099897\n",
      "Avg MAE: 0.6227766697564119\n",
      "Avg Percentage: 85.82322833704043\n",
      "Avg Num of Similar Users: 0.8562372456928914\n",
      "############################################################\n",
      "Dataset validation: 4\n",
      "Avg RMSE: 0.786828664027252\n",
      "Avg MAE: 0.6786998200606682\n",
      "Avg Percentage: 86.1307918375981\n",
      "Avg Num of Similar Users: 0.8591828297342614\n",
      "Avg RMSE dataset val with n_neighbors  50 : 0.7740429207378058\n",
      "Avg MAE dataset val with n_neighbors  50 : 0.6615108886935717\n"
     ]
    }
   ],
   "source": [
    "avg_rmse_all_neighbors_hac = []\n",
    "avg_mae_all_neighbors_hac = []\n",
    "\n",
    "for n_neighbor in n_neighbors:   \n",
    "    avg_rmse_all_hac = []\n",
    "    avg_mae_all_hac = []\n",
    "    print('~~~~~~~~~~~~~ Num of neigbors : ',n_neighbor,' ~~~~~~~~~~~~~~~~~')    \n",
    "    for i in range(len(y_val_cv_hac)):\n",
    "        rmse_all = []\n",
    "        mae_all = []\n",
    "        percentage_all = []\n",
    "        avg_users_all = []\n",
    "\n",
    "        tmp = y_val_cv_hac[i].copy()\n",
    "        n_clus = list(tmp['cluster'].unique())\n",
    "        for n in n_clus:\n",
    "            # get data cluster n\n",
    "            dftmp = tmp[tmp['cluster'] == n]\n",
    "            #dftmp.drop(['dummy_rating', 'cluster'], axis=1, inplace=True)\n",
    "\n",
    "            # join with df rating\n",
    "            df_rating_hac = pd.merge(dftmp, dfp[['customer_unique_id', 'product_id', 'rating']],how='left', left_on=['customer_unique_id'], right_on=['customer_unique_id'])\n",
    "\n",
    "            # drop user who only rated below 2 product\n",
    "            user_freq = dict(df_rating_hac['customer_unique_id'].value_counts())\n",
    "            user_list = [key for key, val in user_freq.items() if val < 2]\n",
    "            idx = df_rating_hac[df_rating_hac['customer_unique_id'].isin(user_list)].index\n",
    "            df_rating_hac.drop(idx, axis=0,inplace=True)\n",
    "\n",
    "            # create rating matrix\n",
    "            rating_matrix_hac = df_rating_hac.pivot_table(values='rating', index='customer_unique_id', columns='product_id', aggfunc='first')\n",
    "\n",
    "            # get user\n",
    "            cust_unique_id = rating_matrix_hac.index\n",
    "            for user in cust_unique_id:\n",
    "                rmse, mae, _ , item_predicted_percentage, avg_n_users = rs_user_evaluation(user, rating_matrix_hac, 'neighbors', n_neighbor)\n",
    "                percentage_all.append(item_predicted_percentage)\n",
    "                avg_users_all.append(avg_n_users)\n",
    "                rmse_all.append(rmse)\n",
    "                mae_all.append(mae)\n",
    "\n",
    "\n",
    "        print('############################################################')\n",
    "        print('Dataset validation:', i)\n",
    "        print('Avg RMSE:',sum(filter(None, rmse_all)) / len(rmse_all))\n",
    "        print('Avg MAE:',sum(filter(None, mae_all)) / len(mae_all))\n",
    "        print('Avg Percentage:',sum(filter(None, percentage_all)) / len(percentage_all))\n",
    "        print('Avg Num of Similar Users:',sum(filter(None, avg_users_all)) / len(avg_users_all))\n",
    "\n",
    "        avg_rmse_all_hac.append(sum(filter(None, rmse_all)) / len(rmse_all))\n",
    "        avg_mae_all_hac.append(sum(filter(None, mae_all)) / len(mae_all))\n",
    "        \n",
    "    print('Avg RMSE dataset val with n_neighbors ',n_neighbor,':',sum(filter(None, avg_rmse_all_hac)) / len(avg_rmse_all_hac))\n",
    "    print('Avg MAE dataset val with n_neighbors ',n_neighbor,':',sum(filter(None, avg_mae_all_hac)) / len(avg_mae_all_hac))\n",
    "    \n",
    "    avg_rmse_all_neighbors_hac.append(sum(filter(None, avg_rmse_all_hac)) / len(avg_rmse_all_hac))\n",
    "    avg_mae_all_neighbors_hac.append(sum(filter(None, avg_mae_all_hac)) / len(avg_mae_all_hac))"
   ]
  },
  {
   "cell_type": "code",
   "execution_count": 122,
   "metadata": {},
   "outputs": [
    {
     "data": {
      "image/png": "[encoded data removed]",
      "text/plain": [
       "<Figure size 576x432 with 1 Axes>"
      ]
     },
     "metadata": {
      "needs_background": "light"
     },
     "output_type": "display_data"
    }
   ],
   "source": [
    "plt.figure(figsize=(8,6))\n",
    "plt.plot(n_neighbors, avg_rmse_all_neighbors_hac, label='RMSE', marker='o')\n",
    "plt.plot(n_neighbors, avg_mae_all_neighbors_hac, label='MAE', marker='s')\n",
    "plt.xlabel('Num of neighbors')\n",
    "plt.xticks(n_neighbors)\n",
    "plt.ylabel('Values')\n",
    "plt.title('RMSE & MAE HCCF for Each N-neighbors on Validation data')\n",
    "plt.legend()\n",
    "plt.show()"
   ]
  },
  {
   "cell_type": "markdown",
   "metadata": {},
   "source": [
    "### Evaluate HCCF all neighbors with test data"
   ]
  },
  {
   "cell_type": "code",
   "execution_count": 111,
   "metadata": {},
   "outputs": [
    {
     "name": "stdout",
     "output_type": "stream",
     "text": [
      "<class 'pandas.core.frame.DataFrame'>\n",
      "RangeIndex: 1094 entries, 0 to 1093\n",
      "Data columns (total 9 columns):\n",
      " #   Column                      Non-Null Count  Dtype  \n",
      "---  ------                      --------------  -----  \n",
      " 0   total_payment_installments  1094 non-null   float64\n",
      " 1   total_payment_value         1094 non-null   float64\n",
      " 2   geolocation_lat             1094 non-null   float64\n",
      " 3   geolocation_lng             1094 non-null   float64\n",
      " 4   total_payment_sequential    1094 non-null   float64\n",
      " 5   payment_type_boleto         1094 non-null   uint8  \n",
      " 6   payment_type_credit_card    1094 non-null   uint8  \n",
      " 7   payment_type_debit_card     1094 non-null   uint8  \n",
      " 8   payment_type_voucher        1094 non-null   uint8  \n",
      "dtypes: float64(5), uint8(4)\n",
      "memory usage: 47.1 KB\n"
     ]
    }
   ],
   "source": [
    "X_test3.info()"
   ]
  },
  {
   "cell_type": "markdown",
   "metadata": {},
   "source": [
    "#### Scale data"
   ]
  },
  {
   "cell_type": "code",
   "execution_count": 112,
   "metadata": {},
   "outputs": [],
   "source": [
    "X_test3.iloc[:, :] = scaler_hac.transform(X_test3.iloc[:, :])"
   ]
  },
  {
   "cell_type": "code",
   "execution_count": 113,
   "metadata": {},
   "outputs": [
    {
     "data": {
      "text/html": [
       "<div>\n",
       "<style scoped>\n",
       "    .dataframe tbody tr th:only-of-type {\n",
       "        vertical-align: middle;\n",
       "    }\n",
       "\n",
       "    .dataframe tbody tr th {\n",
       "        vertical-align: top;\n",
       "    }\n",
       "\n",
       "    .dataframe thead th {\n",
       "        text-align: right;\n",
       "    }\n",
       "</style>\n",
       "<table border=\"1\" class=\"dataframe\">\n",
       "  <thead>\n",
       "    <tr style=\"text-align: right;\">\n",
       "      <th></th>\n",
       "      <th>total_payment_installments</th>\n",
       "      <th>total_payment_value</th>\n",
       "      <th>geolocation_lat</th>\n",
       "      <th>geolocation_lng</th>\n",
       "      <th>total_payment_sequential</th>\n",
       "      <th>payment_type_boleto</th>\n",
       "      <th>payment_type_credit_card</th>\n",
       "      <th>payment_type_debit_card</th>\n",
       "      <th>payment_type_voucher</th>\n",
       "    </tr>\n",
       "  </thead>\n",
       "  <tbody>\n",
       "    <tr>\n",
       "      <th>0</th>\n",
       "      <td>0.8</td>\n",
       "      <td>0.171649</td>\n",
       "      <td>0.395220</td>\n",
       "      <td>0.238928</td>\n",
       "      <td>0.0</td>\n",
       "      <td>0.0</td>\n",
       "      <td>1.0</td>\n",
       "      <td>0.0</td>\n",
       "      <td>0.0</td>\n",
       "    </tr>\n",
       "    <tr>\n",
       "      <th>1</th>\n",
       "      <td>0.8</td>\n",
       "      <td>0.884235</td>\n",
       "      <td>0.121593</td>\n",
       "      <td>0.239854</td>\n",
       "      <td>0.0</td>\n",
       "      <td>0.0</td>\n",
       "      <td>1.0</td>\n",
       "      <td>0.0</td>\n",
       "      <td>0.0</td>\n",
       "    </tr>\n",
       "    <tr>\n",
       "      <th>2</th>\n",
       "      <td>0.0</td>\n",
       "      <td>0.060413</td>\n",
       "      <td>0.374163</td>\n",
       "      <td>0.506760</td>\n",
       "      <td>0.0</td>\n",
       "      <td>0.0</td>\n",
       "      <td>1.0</td>\n",
       "      <td>0.0</td>\n",
       "      <td>0.0</td>\n",
       "    </tr>\n",
       "    <tr>\n",
       "      <th>3</th>\n",
       "      <td>0.0</td>\n",
       "      <td>0.653953</td>\n",
       "      <td>0.471862</td>\n",
       "      <td>0.540793</td>\n",
       "      <td>0.0</td>\n",
       "      <td>1.0</td>\n",
       "      <td>0.0</td>\n",
       "      <td>0.0</td>\n",
       "      <td>0.0</td>\n",
       "    </tr>\n",
       "    <tr>\n",
       "      <th>4</th>\n",
       "      <td>0.0</td>\n",
       "      <td>0.124168</td>\n",
       "      <td>0.618610</td>\n",
       "      <td>0.922323</td>\n",
       "      <td>0.0</td>\n",
       "      <td>1.0</td>\n",
       "      <td>0.0</td>\n",
       "      <td>0.0</td>\n",
       "      <td>0.0</td>\n",
       "    </tr>\n",
       "  </tbody>\n",
       "</table>\n",
       "</div>"
      ],
      "text/plain": [
       "   total_payment_installments  total_payment_value  geolocation_lat  \\\n",
       "0                         0.8             0.171649         0.395220   \n",
       "1                         0.8             0.884235         0.121593   \n",
       "2                         0.0             0.060413         0.374163   \n",
       "3                         0.0             0.653953         0.471862   \n",
       "4                         0.0             0.124168         0.618610   \n",
       "\n",
       "   geolocation_lng  total_payment_sequential  payment_type_boleto  \\\n",
       "0         0.238928                       0.0                  0.0   \n",
       "1         0.239854                       0.0                  0.0   \n",
       "2         0.506760                       0.0                  0.0   \n",
       "3         0.540793                       0.0                  1.0   \n",
       "4         0.922323                       0.0                  1.0   \n",
       "\n",
       "   payment_type_credit_card  payment_type_debit_card  payment_type_voucher  \n",
       "0                       1.0                      0.0                   0.0  \n",
       "1                       1.0                      0.0                   0.0  \n",
       "2                       1.0                      0.0                   0.0  \n",
       "3                       0.0                      0.0                   0.0  \n",
       "4                       0.0                      0.0                   0.0  "
      ]
     },
     "execution_count": 113,
     "metadata": {},
     "output_type": "execute_result"
    }
   ],
   "source": [
    "X_test3.head()"
   ]
  },
  {
   "cell_type": "markdown",
   "metadata": {},
   "source": [
    "#### Apply Hierarchical Clustering"
   ]
  },
  {
   "cell_type": "code",
   "execution_count": 114,
   "metadata": {},
   "outputs": [
    {
     "name": "stdout",
     "output_type": "stream",
     "text": [
      "Dataset test silhouette coef: 0.4503748684401373\n"
     ]
    }
   ],
   "source": [
    "# Hierarchical clustering\n",
    "y_test3_predict = hac.fit_predict(X_test3)\n",
    "\n",
    "# Silhouette score\n",
    "silhouette_val = silhouette_score(X_test3, y_test3_predict)\n",
    "print('Dataset test silhouette coef:', silhouette_val)\n",
    "\n",
    "# tambah kolom kluster\n",
    "y_test3['cluster'] = pd.Series(y_test3_predict)"
   ]
  },
  {
   "cell_type": "code",
   "execution_count": 115,
   "metadata": {},
   "outputs": [
    {
     "data": {
      "text/plain": [
       "0    696\n",
       "2    254\n",
       "3    109\n",
       "1     35\n",
       "Name: cluster, dtype: int64"
      ]
     },
     "execution_count": 115,
     "metadata": {},
     "output_type": "execute_result"
    }
   ],
   "source": [
    "y_test3['cluster'].value_counts()"
   ]
  },
  {
   "cell_type": "markdown",
   "metadata": {},
   "source": [
    "#### Evaluate CF on test data"
   ]
  },
  {
   "cell_type": "code",
   "execution_count": 116,
   "metadata": {},
   "outputs": [
    {
     "name": "stdout",
     "output_type": "stream",
     "text": [
      "~~~~~~~~~~~~~ Num of neigbors :  10  ~~~~~~~~~~~~~~~~~\n",
      "############################################################\n",
      "Dataset test:\n",
      "Avg RMSE: 0.7733159170456049\n",
      "Avg MAE: 0.6565611774910322\n",
      "Avg Percentage: 87.51813041512612\n",
      "Avg Num of Similar Users: 0.8734320820691509\n",
      "~~~~~~~~~~~~~ Num of neigbors :  20  ~~~~~~~~~~~~~~~~~\n",
      "############################################################\n",
      "Dataset test:\n",
      "Avg RMSE: 0.7607669787249145\n",
      "Avg MAE: 0.650505091074189\n",
      "Avg Percentage: 87.51813041512612\n",
      "Avg Num of Similar Users: 0.8734392283022989\n",
      "~~~~~~~~~~~~~ Num of neigbors :  30  ~~~~~~~~~~~~~~~~~\n",
      "############################################################\n",
      "Dataset test:\n",
      "Avg RMSE: 0.7588107893395121\n",
      "Avg MAE: 0.6491062093146795\n",
      "Avg Percentage: 87.51813041512612\n",
      "Avg Num of Similar Users: 0.8734420841427604\n",
      "~~~~~~~~~~~~~ Num of neigbors :  40  ~~~~~~~~~~~~~~~~~\n",
      "############################################################\n",
      "Dataset test:\n",
      "Avg RMSE: 0.7583791507987039\n",
      "Avg MAE: 0.6490732369495725\n",
      "Avg Percentage: 87.51813041512612\n",
      "Avg Num of Similar Users: 0.8734428659302398\n",
      "~~~~~~~~~~~~~ Num of neigbors :  50  ~~~~~~~~~~~~~~~~~\n",
      "############################################################\n",
      "Dataset test:\n",
      "Avg RMSE: 0.7579866588242601\n",
      "Avg MAE: 0.648639537613879\n",
      "Avg Percentage: 87.51813041512612\n",
      "Avg Num of Similar Users: 0.8734430189732605\n"
     ]
    }
   ],
   "source": [
    "avg_rmse_all_neighbors_test3 = []\n",
    "avg_mae_all_neighbors_test3 = []\n",
    "exec_time_test3 = []\n",
    "for n_neighbor in n_neighbors:\n",
    "    print('~~~~~~~~~~~~~ Num of neigbors : ',n_neighbor,' ~~~~~~~~~~~~~~~~~')    \n",
    "    rmse_all_test3 = []\n",
    "    mae_all_test3 = []\n",
    "    percentage_all_test3 = []\n",
    "    avg_users_all_test3 = []\n",
    "\n",
    "\n",
    "    tmp = y_test3.copy()\n",
    "    n_clus = list(tmp['cluster'].unique())\n",
    "    for n in n_clus:\n",
    "        # get data cluster n\n",
    "        dftmp = tmp[tmp['cluster'] == n]\n",
    "        # dftmp.drop(['dummy_rating', 'cluster'], axis=1, inplace=True)\n",
    "\n",
    "        # join with df rating\n",
    "        df_rating = pd.merge(dftmp, dfp[['customer_unique_id', 'product_id', 'rating']],how='left', left_on=['customer_unique_id'], right_on=['customer_unique_id'])\n",
    "\n",
    "        # drop user who only rated below 2 product\n",
    "        user_freq = dict(df_rating['customer_unique_id'].value_counts())\n",
    "        user_list = [key for key, val in user_freq.items() if val < 2]\n",
    "        idx = df_rating[df_rating['customer_unique_id'].isin(user_list)].index\n",
    "        df_rating.drop(idx, axis=0,inplace=True)\n",
    "\n",
    "        # create rating matrix\n",
    "        test_rating_matrix = df_rating.pivot_table(values='rating', index='customer_unique_id', columns='product_id', aggfunc='first')\n",
    "\n",
    "        # get user\n",
    "        cust_unique_id = test_rating_matrix.index\n",
    "        for user in cust_unique_id:\n",
    "            rmse, mae, _ , item_predicted_percentage, avg_n_users = rs_user_evaluation(user, test_rating_matrix, 'neighbors', n_neighbor)\n",
    "            percentage_all_test3.append(item_predicted_percentage)\n",
    "            avg_users_all_test3.append(avg_n_users)\n",
    "            rmse_all_test3.append(rmse)\n",
    "            mae_all_test3.append(mae)\n",
    "\n",
    "    rmse3 = sum(filter(None, rmse_all_test3)) / len(rmse_all_test3)\n",
    "    mae3 = sum(filter(None, mae_all_test3)) / len(mae_all_test3)\n",
    "    \n",
    "    avg_rmse_all_neighbors_test3.append(rmse3)\n",
    "    avg_mae_all_neighbors_test3.append(mae3)\n",
    "    print('############################################################')\n",
    "    print('Dataset test:')\n",
    "    print('Avg RMSE:',rmse3)\n",
    "    print('Avg MAE:',mae3)\n",
    "    print('Avg Percentage:',sum(filter(None, percentage_all_test3)) / len(percentage_all_test3))\n",
    "    print('Avg Num of Similar Users:',sum(filter(None, avg_users_all_test3)) / len(avg_users_all_test3))"
   ]
  },
  {
   "cell_type": "code",
   "execution_count": 117,
   "metadata": {},
   "outputs": [
    {
     "data": {
      "image/png": "[encoded data removed]",
      "text/plain": [
       "<Figure size 576x432 with 1 Axes>"
      ]
     },
     "metadata": {
      "needs_background": "light"
     },
     "output_type": "display_data"
    }
   ],
   "source": [
    "plt.figure(figsize=(8,6))\n",
    "plt.plot(n_neighbors, avg_rmse_all_neighbors_test3, label='RMSE', marker='o')\n",
    "plt.plot(n_neighbors, avg_mae_all_neighbors_test3, label='MAE', marker='s')\n",
    "plt.xlabel('Num of neighbors')\n",
    "plt.xticks(n_neighbors)\n",
    "plt.ylabel('Values')\n",
    "plt.title('RMSE & MAE HCCF for Each N-neighbors on Test data')\n",
    "plt.legend()\n",
    "plt.show()"
   ]
  },
  {
   "cell_type": "markdown",
   "metadata": {},
   "source": [
    "## Result Comparison"
   ]
  },
  {
   "cell_type": "markdown",
   "metadata": {},
   "source": [
    "## Comparison Result All Neighbors CF on Validation Data"
   ]
  },
  {
   "cell_type": "code",
   "execution_count": 123,
   "metadata": {},
   "outputs": [
    {
     "data": {
      "image/png": "[encoded data removed]",
      "text/plain": [
       "<Figure size 1008x360 with 2 Axes>"
      ]
     },
     "metadata": {
      "needs_background": "light"
     },
     "output_type": "display_data"
    }
   ],
   "source": [
    "f, (ax1, ax2) = plt.subplots(1, 2, figsize=(14,5))\n",
    "dfnum = [0, 1, 2, 3, 4]\n",
    "plt.suptitle('Comparison Validation Result with all neighbors')\n",
    "\n",
    "ax1 = plt.subplot('121', )\n",
    "ax1.set_title('RMSE Result')\n",
    "plt.xlabel('Dataset Fold #')\n",
    "plt.xticks(dfnum)\n",
    "plt.ylabel('Values')\n",
    "plt.plot(dfnum, avg_rmse_all_neighbors, label='RMSE PCA-KM CF',color='blue', marker='o')\n",
    "plt.plot(dfnum, avg_rmse_all_neighbors_km, label='RMSE KM CF',color='red', marker='o')\n",
    "plt.plot(dfnum, avg_rmse_all_neighbors_hac, label='RMSE HC CF',color='green', marker='o')\n",
    "plt.legend()\n",
    "\n",
    "ax1 = plt.subplot('122')\n",
    "ax1.set_title('MAE Result')\n",
    "plt.xlabel('Dataset Fold #')\n",
    "plt.xticks(dfnum)\n",
    "plt.ylabel('Values')\n",
    "plt.plot(dfnum, avg_mae_all_neighbors, label='MAE PCA-KM CF',color='blue', marker='s')\n",
    "plt.plot(dfnum, avg_mae_all_neighbors_km, label='MAE KM CF',color='red',marker='s')\n",
    "plt.plot(dfnum, avg_mae_all_neighbors_hac, label='MAE HC CF',color='green',marker='s')\n",
    "plt.legend()\n",
    "\n",
    "# f.tight_layout()\n",
    "plt.show()"
   ]
  },
  {
   "cell_type": "markdown",
   "metadata": {},
   "source": [
    "### Test all neighbors PCA-KM CF"
   ]
  },
  {
   "cell_type": "code",
   "execution_count": null,
   "metadata": {},
   "outputs": [],
   "source": [
    "# # list num of neighbors\n",
    "# n_neighbors = [10, 20, 30, 40, 50]\n",
    "# avg_rmse_all_neighbors_test1 = []\n",
    "# avg_mae_all_neighbors_test1 = []\n",
    "# exec_time_test1 = []\n",
    "# for n_neighbor in n_neighbors:\n",
    "#     print('~~~~~~~~~~~~~ Num of neigbors : ',n_neighbor,' ~~~~~~~~~~~~~~~~~')    \n",
    "#     rmse_all_test1 = []\n",
    "#     mae_all_test1 = []\n",
    "#     percentage_all_test1 = []\n",
    "#     avg_users_all_test1 = []\n",
    "\n",
    "#     start_time = time.time()\n",
    "#     tmp = y_test.copy()\n",
    "#     n_clus = list(tmp['cluster'].unique())\n",
    "#     for n in n_clus:\n",
    "#         # get data cluster n\n",
    "#         dftmp = tmp[tmp['cluster'] == n]\n",
    "\n",
    "\n",
    "#         # join with df rating\n",
    "#         df_rating = pd.merge(dftmp, dfp[['customer_unique_id', 'product_id', 'rating']],how='left', left_on=['customer_unique_id'], right_on=['customer_unique_id'])\n",
    "\n",
    "#         # drop user who only rated below 2 product\n",
    "#         user_freq = dict(df_rating['customer_unique_id'].value_counts())\n",
    "#         user_list = [key for key, val in user_freq.items() if val < 2]\n",
    "#         idx = df_rating[df_rating['customer_unique_id'].isin(user_list)].index\n",
    "#         df_rating.drop(idx, axis=0,inplace=True)\n",
    "\n",
    "#         # create rating matrix\n",
    "#         test_rating_matrix = df_rating.pivot_table(values='rating', index='customer_unique_id', columns='product_id', aggfunc='first')\n",
    "\n",
    "#         # get user\n",
    "#         cust_unique_id = test_rating_matrix.index\n",
    "#         for user in cust_unique_id:\n",
    "#             rmse, mae, _ , item_predicted_percentage, avg_n_users = rs_user_evaluation(user, test_rating_matrix, 'neighbors', n_neighbor)\n",
    "#             percentage_all_test1.append(item_predicted_percentage)\n",
    "#             avg_users_all_test1.append(avg_n_users)\n",
    "#             rmse_all_test1.append(rmse)\n",
    "#             mae_all_test1.append(mae)\n",
    "\n",
    "#     # end of execution time\n",
    "#     end_time = time.time()\n",
    "#     exec_time_test1.append(end_time - start_time)\n",
    "#     rmse1 = sum(filter(None, rmse_all_test1)) / len(rmse_all_test1)\n",
    "#     mae1 = sum(filter(None, mae_all_test1)) / len(mae_all_test1)\n",
    "    \n",
    "#     avg_rmse_all_neighbors_test1.append(rmse1)\n",
    "#     avg_mae_all_neighbors_test1.append(mae1)\n",
    "#     print('############################################################')\n",
    "#     print('Dataset test:')\n",
    "#     print('Avg RMSE:',rmse1)\n",
    "#     print('Avg MAE:',mae1)\n",
    "#     print('Execution time: ',exec_time_test1)\n",
    "#     print('Avg Percentage:',sum(filter(None, percentage_all_test1)) / len(percentage_all_test1))\n",
    "#     print('Avg Num of Similar Users:',sum(filter(None, avg_users_all_test1)) / len(avg_users_all_test1))"
   ]
  },
  {
   "cell_type": "markdown",
   "metadata": {},
   "source": [
    "### Test all neighbors KM CF"
   ]
  },
  {
   "cell_type": "code",
   "execution_count": null,
   "metadata": {},
   "outputs": [],
   "source": [
    "# # list num of neighbors\n",
    "# # n_neighbors = [5, 10, 15, 20]\n",
    "# avg_rmse_all_neighbors_test2 = []\n",
    "# avg_mae_all_neighbors_test2 = []\n",
    "# exec_time_test2 = []\n",
    "# for n_neighbor in n_neighbors:\n",
    "#     print('~~~~~~~~~~~~~ Num of neigbors : ',n_neighbor,' ~~~~~~~~~~~~~~~~~')    \n",
    "#     rmse_all_test2 = []\n",
    "#     mae_all_test2 = []\n",
    "#     percentage_all_test2 = []\n",
    "#     avg_users_all_test2 = []\n",
    "\n",
    "#     start_time = time.time()\n",
    "#     tmp = y_test2.copy()\n",
    "#     n_clus = list(tmp['cluster'].unique())\n",
    "#     for n in n_clus:\n",
    "#         # get data cluster n\n",
    "#         dftmp = tmp[tmp['cluster'] == n]\n",
    "#         # dftmp.drop(['dummy_rating', 'cluster'], axis=1, inplace=True)\n",
    "\n",
    "#         # join with df rating\n",
    "#         df_rating = pd.merge(dftmp, dfp[['customer_unique_id', 'product_id', 'rating']],how='left', left_on=['customer_unique_id'], right_on=['customer_unique_id'])\n",
    "\n",
    "#         # drop user who only rated below 2 product\n",
    "#         user_freq = dict(df_rating['customer_unique_id'].value_counts())\n",
    "#         user_list = [key for key, val in user_freq.items() if val < 2]\n",
    "#         idx = df_rating[df_rating['customer_unique_id'].isin(user_list)].index\n",
    "#         df_rating.drop(idx, axis=0,inplace=True)\n",
    "\n",
    "#         # create rating matrix\n",
    "#         test_rating_matrix = df_rating.pivot_table(values='rating', index='customer_unique_id', columns='product_id', aggfunc='first')\n",
    "\n",
    "#         # get user\n",
    "#         cust_unique_id = test_rating_matrix.index\n",
    "#         for user in cust_unique_id:\n",
    "#             rmse, mae, _ , item_predicted_percentage, avg_n_users = rs_user_evaluation(user, test_rating_matrix, 'neighbors', n_neighbor)\n",
    "#             percentage_all_test2.append(item_predicted_percentage)\n",
    "#             avg_users_all_test2.append(avg_n_users)\n",
    "#             rmse_all_test2.append(rmse)\n",
    "#             mae_all_test2.append(mae)\n",
    "\n",
    "#     # end of execution time\n",
    "#     end_time = time.time()\n",
    "#     exec_time_test2.append(end_time - start_time)\n",
    "#     rmse2 = sum(filter(None, rmse_all_test2)) / len(rmse_all_test2)\n",
    "#     mae2 = sum(filter(None, mae_all_test2)) / len(mae_all_test2)\n",
    "    \n",
    "#     avg_rmse_all_neighbors_test2.append(rmse2)\n",
    "#     avg_mae_all_neighbors_test2.append(mae2)\n",
    "#     print('############################################################')\n",
    "#     print('Dataset test:')\n",
    "#     print('Avg RMSE:',rmse2)\n",
    "#     print('Avg MAE:',mae2)\n",
    "#     print('Execution time: ',exec_time_test2)\n",
    "#     print('Avg Percentage:',sum(filter(None, percentage_all_test2)) / len(percentage_all_test2))\n",
    "#     print('Avg Num of Similar Users:',sum(filter(None, avg_users_all_test2)) / len(avg_users_all_test2))"
   ]
  },
  {
   "cell_type": "markdown",
   "metadata": {},
   "source": [
    "### Test all neighbors HC CF"
   ]
  },
  {
   "cell_type": "code",
   "execution_count": null,
   "metadata": {},
   "outputs": [],
   "source": [
    "# # list num of neighbors\n",
    "# # n_neighbors = [5, 10, 15, 20]\n",
    "# avg_rmse_all_neighbors_test3 = []\n",
    "# avg_mae_all_neighbors_test3 = []\n",
    "# exec_time_test3 = []\n",
    "# for n_neighbor in n_neighbors:\n",
    "#     print('~~~~~~~~~~~~~ Num of neigbors : ',n_neighbor,' ~~~~~~~~~~~~~~~~~')    \n",
    "#     rmse_all_test3 = []\n",
    "#     mae_all_test3 = []\n",
    "#     percentage_all_test3 = []\n",
    "#     avg_users_all_test3 = []\n",
    "\n",
    "#     start_time = time.time()\n",
    "#     tmp = y_test3.copy()\n",
    "#     n_clus = list(tmp['cluster'].unique())\n",
    "#     for n in n_clus:\n",
    "#         # get data cluster n\n",
    "#         dftmp = tmp[tmp['cluster'] == n]\n",
    "#         # dftmp.drop(['dummy_rating', 'cluster'], axis=1, inplace=True)\n",
    "\n",
    "#         # join with df rating\n",
    "#         df_rating = pd.merge(dftmp, dfp[['customer_unique_id', 'product_id', 'rating']],how='left', left_on=['customer_unique_id'], right_on=['customer_unique_id'])\n",
    "\n",
    "#         # drop user who only rated below 2 product\n",
    "#         user_freq = dict(df_rating['customer_unique_id'].value_counts())\n",
    "#         user_list = [key for key, val in user_freq.items() if val < 2]\n",
    "#         idx = df_rating[df_rating['customer_unique_id'].isin(user_list)].index\n",
    "#         df_rating.drop(idx, axis=0,inplace=True)\n",
    "\n",
    "#         # create rating matrix\n",
    "#         test_rating_matrix = df_rating.pivot_table(values='rating', index='customer_unique_id', columns='product_id', aggfunc='first')\n",
    "\n",
    "#         # get user\n",
    "#         cust_unique_id = test_rating_matrix.index\n",
    "#         for user in cust_unique_id:\n",
    "#             rmse, mae, _ , item_predicted_percentage, avg_n_users = rs_user_evaluation(user, test_rating_matrix, 'neighbors', n_neighbor)\n",
    "#             percentage_all_test3.append(item_predicted_percentage)\n",
    "#             avg_users_all_test3.append(avg_n_users)\n",
    "#             rmse_all_test3.append(rmse)\n",
    "#             mae_all_test3.append(mae)\n",
    "\n",
    "#     # end of execution time\n",
    "#     end_time = time.time()\n",
    "#     exec_time_test3.append(end_time - start_time)\n",
    "#     rmse3 = sum(filter(None, rmse_all_test3)) / len(rmse_all_test3)\n",
    "#     mae3 = sum(filter(None, mae_all_test3)) / len(mae_all_test3)\n",
    "    \n",
    "#     avg_rmse_all_neighbors_test3.append(rmse3)\n",
    "#     avg_mae_all_neighbors_test3.append(mae3)\n",
    "#     print('############################################################')\n",
    "#     print('Dataset test:')\n",
    "#     print('Avg RMSE:',rmse3)\n",
    "#     print('Avg MAE:',mae3)\n",
    "#     print('Execution time: ',exec_time_test3)\n",
    "#     print('Avg Percentage:',sum(filter(None, percentage_all_test3)) / len(percentage_all_test3))\n",
    "#     print('Avg Num of Similar Users:',sum(filter(None, avg_users_all_test3)) / len(avg_users_all_test3))"
   ]
  },
  {
   "cell_type": "markdown",
   "metadata": {},
   "source": [
    "## Comparison Result All Neighbors CF on Test Data"
   ]
  },
  {
   "cell_type": "code",
   "execution_count": 119,
   "metadata": {},
   "outputs": [
    {
     "data": {
      "image/png": "[encoded data removed]",
      "text/plain": [
       "<Figure size 1008x360 with 2 Axes>"
      ]
     },
     "metadata": {
      "needs_background": "light"
     },
     "output_type": "display_data"
    }
   ],
   "source": [
    "f, (ax1, ax2) = plt.subplots(1, 2, figsize=(14,5))\n",
    "plt.suptitle('Comparison Test Result for All Neighbors')\n",
    "\n",
    "ax1 = plt.subplot('121', )\n",
    "ax1.set_title('RMSE Result')\n",
    "plt.xlabel('Num of neighbors')\n",
    "plt.xticks(n_neighbors)\n",
    "plt.ylabel('Values')\n",
    "plt.plot(n_neighbors, avg_rmse_all_neighbors_test1, label='RMSE PCA-KM CF',color='blue', marker='o')\n",
    "plt.plot(n_neighbors, avg_rmse_all_neighbors_test2, label='RMSE KM CF',color='red', marker='o')\n",
    "plt.plot(n_neighbors, avg_rmse_all_neighbors_test3, label='RMSE HC CF',color='green', marker='o')\n",
    "plt.legend()\n",
    "\n",
    "ax1 = plt.subplot('122')\n",
    "ax1.set_title('MAE Result')\n",
    "plt.xlabel('Num of neighbors')\n",
    "plt.xticks(n_neighbors)\n",
    "plt.ylabel('Values')\n",
    "plt.plot(n_neighbors, avg_mae_all_neighbors_test1, label='MAE PCA-KM CF',color='blue', marker='s')\n",
    "plt.plot(n_neighbors, avg_mae_all_neighbors_test2, label='MAE KM CF',color='red',marker='s')\n",
    "plt.plot(n_neighbors, avg_mae_all_neighbors_test3, label='MAE HC CF',color='green',marker='s')\n",
    "plt.legend()\n",
    "\n",
    "# f.tight_layout()\n",
    "plt.show()"
   ]
  }
 ],
 "metadata": {
  "kernelspec": {
   "display_name": "Python 3",
   "language": "python",
   "name": "python3"
  },
  "language_info": {
   "codemirror_mode": {
    "name": "ipython",
    "version": 3
   },
   "file_extension": ".py",
   "mimetype": "text/x-python",
   "name": "python",
   "nbconvert_exporter": "python",
   "pygments_lexer": "ipython3",
   "version": "3.8.3"
  }
 },
 "nbformat": 4,
 "nbformat_minor": 4
}
